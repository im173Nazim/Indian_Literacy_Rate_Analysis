{
 "cells": [
  {
   "cell_type": "code",
   "execution_count": 1,
   "metadata": {},
   "outputs": [],
   "source": [
    "#INDIA LITERACY RATE ANALYSIS IN PLOTLY\n"
   ]
  },
  {
   "cell_type": "code",
   "execution_count": 17,
   "metadata": {},
   "outputs": [
    {
     "data": {
      "text/html": [
       "        <script type=\"text/javascript\">\n",
       "        window.PlotlyConfig = {MathJaxConfig: 'local'};\n",
       "        if (window.MathJax && window.MathJax.Hub && window.MathJax.Hub.Config) {window.MathJax.Hub.Config({SVG: {font: \"STIX-Web\"}});}\n",
       "        if (typeof require !== 'undefined') {\n",
       "        require.undef(\"plotly\");\n",
       "        requirejs.config({\n",
       "            paths: {\n",
       "                'plotly': ['https://cdn.plot.ly/plotly-2.12.1.min']\n",
       "            }\n",
       "        });\n",
       "        require(['plotly'], function(Plotly) {\n",
       "            window._Plotly = Plotly;\n",
       "        });\n",
       "        }\n",
       "        </script>\n",
       "        "
      ]
     },
     "metadata": {},
     "output_type": "display_data"
    }
   ],
   "source": [
    "import pandas as pd\n",
    "import numpy as np\n",
    "import seaborn as sns\n",
    "import matplotlib.pyplot as plt\n",
    "\n",
    "# plotly offline mode\n",
    "import plotly.graph_objs as go\n",
    "from plotly.offline import init_notebook_mode, iplot\n",
    "init_notebook_mode(connected=True)"
   ]
  },
  {
   "cell_type": "code",
   "execution_count": 28,
   "metadata": {},
   "outputs": [
    {
     "name": "stdout",
     "output_type": "stream",
     "text": [
      "C:\\Users\\mohd nazim\n"
     ]
    },
    {
     "data": {
      "text/plain": [
       "(36, 816)"
      ]
     },
     "execution_count": 28,
     "metadata": {},
     "output_type": "execute_result"
    }
   ],
   "source": [
    "import os\n",
    "print(os.getcwd())\n",
    "\n",
    "df_ele = pd.read_csv('2015_16_Statewise_Elementary.csv')\n",
    "df_ele.shape"
   ]
  },
  {
   "cell_type": "code",
   "execution_count": 29,
   "metadata": {},
   "outputs": [
    {
     "data": {
      "text/plain": [
       "(36, 630)"
      ]
     },
     "execution_count": 29,
     "metadata": {},
     "output_type": "execute_result"
    }
   ],
   "source": [
    "df_sec = pd.read_csv('2015_16_Statewise_Secondary.csv')\n",
    "df_sec.shape"
   ]
  },
  {
   "cell_type": "code",
   "execution_count": 30,
   "metadata": {},
   "outputs": [
    {
     "data": {
      "text/plain": [
       "Index(['AC_YEAR', 'STATCD', 'STATNAME', 'DISTRICTS', 'BLOCKS', 'VILLAGES',\n",
       "       'CLUSTERS', 'TOTPOPULAT', 'P_URB_POP', 'POPULATION_0_6',\n",
       "       ...\n",
       "       'USCR35', 'NOTCH_ASS', 'TCHINV', 'TOTCLS1G', 'TOTCLS2G', 'TOTCLS3G',\n",
       "       'TOTCLS4G', 'TOTCLS5G', 'TOTCLS6G', 'TOTCLS7G'],\n",
       "      dtype='object', length=816)"
      ]
     },
     "execution_count": 30,
     "metadata": {},
     "output_type": "execute_result"
    }
   ],
   "source": [
    "df_ele.columns"
   ]
  },
  {
   "cell_type": "code",
   "execution_count": 31,
   "metadata": {},
   "outputs": [
    {
     "data": {
      "text/plain": [
       "Index(['ac_year', 'statcd', 'statname', 'area_sqkm', 'tot_population',\n",
       "       'urban_population', 'grwoth_rate', 'sexratio', 'sc_population',\n",
       "       'st_population',\n",
       "       ...\n",
       "       'tchmed_nr', 'tchoth_nr', 'tchse_nr', 'tchnr_nr', 'enrc7_py',\n",
       "       'enrc8_py', 'enrc9_py', 'enrc10_py', 'enr11_py', 'enr12_py'],\n",
       "      dtype='object', length=630)"
      ]
     },
     "execution_count": 31,
     "metadata": {},
     "output_type": "execute_result"
    }
   ],
   "source": [
    "df_sec.columns"
   ]
  },
  {
   "cell_type": "code",
   "execution_count": 32,
   "metadata": {},
   "outputs": [
    {
     "data": {
      "text/html": [
       "<div>\n",
       "<style scoped>\n",
       "    .dataframe tbody tr th:only-of-type {\n",
       "        vertical-align: middle;\n",
       "    }\n",
       "\n",
       "    .dataframe tbody tr th {\n",
       "        vertical-align: top;\n",
       "    }\n",
       "\n",
       "    .dataframe thead th {\n",
       "        text-align: right;\n",
       "    }\n",
       "</style>\n",
       "<table border=\"1\" class=\"dataframe\">\n",
       "  <thead>\n",
       "    <tr style=\"text-align: right;\">\n",
       "      <th></th>\n",
       "      <th>ac_year</th>\n",
       "      <th>statcd</th>\n",
       "      <th>statname</th>\n",
       "      <th>area_sqkm</th>\n",
       "      <th>tot_population</th>\n",
       "      <th>urban_population</th>\n",
       "      <th>grwoth_rate</th>\n",
       "      <th>sexratio</th>\n",
       "      <th>sc_population</th>\n",
       "      <th>st_population</th>\n",
       "      <th>...</th>\n",
       "      <th>tchmed_nr</th>\n",
       "      <th>tchoth_nr</th>\n",
       "      <th>tchse_nr</th>\n",
       "      <th>tchnr_nr</th>\n",
       "      <th>enrc7_py</th>\n",
       "      <th>enrc8_py</th>\n",
       "      <th>enrc9_py</th>\n",
       "      <th>enrc10_py</th>\n",
       "      <th>enr11_py</th>\n",
       "      <th>enr12_py</th>\n",
       "    </tr>\n",
       "  </thead>\n",
       "  <tbody>\n",
       "    <tr>\n",
       "      <th>0</th>\n",
       "      <td>2015-16</td>\n",
       "      <td>1</td>\n",
       "      <td>Jammu And Kashmir</td>\n",
       "      <td>222236.0</td>\n",
       "      <td>12548.93</td>\n",
       "      <td>20.05</td>\n",
       "      <td>23.71</td>\n",
       "      <td>883.0</td>\n",
       "      <td>7.4</td>\n",
       "      <td>11.9</td>\n",
       "      <td>...</td>\n",
       "      <td>0</td>\n",
       "      <td>0</td>\n",
       "      <td>0</td>\n",
       "      <td>0</td>\n",
       "      <td>199954</td>\n",
       "      <td>203537</td>\n",
       "      <td>192567</td>\n",
       "      <td>146066</td>\n",
       "      <td>138963</td>\n",
       "      <td>116187</td>\n",
       "    </tr>\n",
       "    <tr>\n",
       "      <th>1</th>\n",
       "      <td>2015-16</td>\n",
       "      <td>2</td>\n",
       "      <td>Himachal Pradesh</td>\n",
       "      <td>55673.0</td>\n",
       "      <td>6856.51</td>\n",
       "      <td>8.69</td>\n",
       "      <td>12.81</td>\n",
       "      <td>974.0</td>\n",
       "      <td>25.2</td>\n",
       "      <td>5.7</td>\n",
       "      <td>...</td>\n",
       "      <td>0</td>\n",
       "      <td>0</td>\n",
       "      <td>0</td>\n",
       "      <td>0</td>\n",
       "      <td>122101</td>\n",
       "      <td>122413</td>\n",
       "      <td>130258</td>\n",
       "      <td>135253</td>\n",
       "      <td>119932</td>\n",
       "      <td>98924</td>\n",
       "    </tr>\n",
       "  </tbody>\n",
       "</table>\n",
       "<p>2 rows × 630 columns</p>\n",
       "</div>"
      ],
      "text/plain": [
       "   ac_year  statcd           statname  area_sqkm  tot_population  \\\n",
       "0  2015-16       1  Jammu And Kashmir   222236.0        12548.93   \n",
       "1  2015-16       2   Himachal Pradesh    55673.0         6856.51   \n",
       "\n",
       "   urban_population  grwoth_rate  sexratio  sc_population  st_population  ...  \\\n",
       "0             20.05        23.71     883.0            7.4           11.9  ...   \n",
       "1              8.69        12.81     974.0           25.2            5.7  ...   \n",
       "\n",
       "   tchmed_nr  tchoth_nr  tchse_nr  tchnr_nr  enrc7_py  enrc8_py  enrc9_py  \\\n",
       "0          0          0         0         0    199954    203537    192567   \n",
       "1          0          0         0         0    122101    122413    130258   \n",
       "\n",
       "   enrc10_py  enr11_py  enr12_py  \n",
       "0     146066    138963    116187  \n",
       "1     135253    119932     98924  \n",
       "\n",
       "[2 rows x 630 columns]"
      ]
     },
     "execution_count": 32,
     "metadata": {},
     "output_type": "execute_result"
    }
   ],
   "source": [
    "df_sec.head(2)"
   ]
  },
  {
   "cell_type": "code",
   "execution_count": 33,
   "metadata": {},
   "outputs": [
    {
     "data": {
      "text/plain": [
       "array(['JAMMU & KASHMIR', 'HIMACHAL PRADESH', 'PUNJAB', 'CHANDIGARH',\n",
       "       'UTTARAKHAND', 'HARYANA', 'DELHI', 'RAJASTHAN', 'UTTAR PRADESH',\n",
       "       'BIHAR', 'SIKKIM', 'ARUNACHAL PRADESH', 'NAGALAND', 'MANIPUR',\n",
       "       'MIZORAM', 'TRIPURA', 'MEGHALAYA', 'ASSAM', 'WEST BENGAL',\n",
       "       'JHARKHAND', 'ODISHA', 'CHHATTISGARH', 'MADHYA PRADESH', 'GUJARAT',\n",
       "       'DAMAN & DIU', 'DADRA & NAGAR HAVELI', 'MAHARASHTRA',\n",
       "       'ANDHRA PRADESH', 'KARNATAKA', 'GOA', 'LAKSHADWEEP', 'KERALA',\n",
       "       'TAMIL NADU', 'PUDUCHERRY', 'A & N ISLANDS', 'TELANGANA'],\n",
       "      dtype=object)"
      ]
     },
     "metadata": {},
     "output_type": "display_data"
    }
   ],
   "source": [
    "display(df_ele['STATNAME'].unique())"
   ]
  },
  {
   "cell_type": "code",
   "execution_count": 34,
   "metadata": {},
   "outputs": [
    {
     "data": {
      "text/plain": [
       "array(['Jammu And Kashmir', 'Himachal Pradesh', 'Punjab', 'Chandigarh',\n",
       "       'Uttarakhand', 'Haryana', 'Delhi                         ',\n",
       "       'Rajasthan                     ', 'Uttar Pradesh', 'Bihar',\n",
       "       'Sikkim', 'Arunachal Pradesh', 'Nagaland', 'Manipur',\n",
       "       'Mizoram                       ', 'Tripura',\n",
       "       'Meghalaya                     ', 'Assam',\n",
       "       'West Bengal                   ', 'Jharkhand', 'Odisha',\n",
       "       'Chhattisgarh', 'MADHYA PRADESH', 'Gujarat',\n",
       "       'Daman & Diu                   ', 'Dadra & Nagar Haveli          ',\n",
       "       'Maharashtra', 'Andhra Pradesh                ', 'Karnataka',\n",
       "       'Goa                           ', 'Lakshadweep                   ',\n",
       "       'Kerala', 'Tamil Nadu', 'Puducherry',\n",
       "       'Andaman & Nicobar Islands     ', 'Telangana'], dtype=object)"
      ]
     },
     "metadata": {},
     "output_type": "display_data"
    }
   ],
   "source": [
    "display(df_sec['statname'].unique())"
   ]
  },
  {
   "cell_type": "code",
   "execution_count": 35,
   "metadata": {},
   "outputs": [
    {
     "data": {
      "text/html": [
       "<div>\n",
       "<style scoped>\n",
       "    .dataframe tbody tr th:only-of-type {\n",
       "        vertical-align: middle;\n",
       "    }\n",
       "\n",
       "    .dataframe tbody tr th {\n",
       "        vertical-align: top;\n",
       "    }\n",
       "\n",
       "    .dataframe thead th {\n",
       "        text-align: right;\n",
       "    }\n",
       "</style>\n",
       "<table border=\"1\" class=\"dataframe\">\n",
       "  <thead>\n",
       "    <tr style=\"text-align: right;\">\n",
       "      <th></th>\n",
       "      <th>STATCD</th>\n",
       "      <th>DISTRICTS</th>\n",
       "      <th>BLOCKS</th>\n",
       "      <th>VILLAGES</th>\n",
       "      <th>CLUSTERS</th>\n",
       "      <th>TOTPOPULAT</th>\n",
       "      <th>P_URB_POP</th>\n",
       "      <th>POPULATION_0_6</th>\n",
       "      <th>GROWTHRATE</th>\n",
       "      <th>SEXRATIO</th>\n",
       "      <th>...</th>\n",
       "      <th>USCR35</th>\n",
       "      <th>NOTCH_ASS</th>\n",
       "      <th>TCHINV</th>\n",
       "      <th>TOTCLS1G</th>\n",
       "      <th>TOTCLS2G</th>\n",
       "      <th>TOTCLS3G</th>\n",
       "      <th>TOTCLS4G</th>\n",
       "      <th>TOTCLS5G</th>\n",
       "      <th>TOTCLS6G</th>\n",
       "      <th>TOTCLS7G</th>\n",
       "    </tr>\n",
       "  </thead>\n",
       "  <tbody>\n",
       "    <tr>\n",
       "      <th>count</th>\n",
       "      <td>36.000000</td>\n",
       "      <td>36.000000</td>\n",
       "      <td>36.000000</td>\n",
       "      <td>36.000000</td>\n",
       "      <td>36.000000</td>\n",
       "      <td>36.000000</td>\n",
       "      <td>36.000000</td>\n",
       "      <td>36.000000</td>\n",
       "      <td>36.000000</td>\n",
       "      <td>36.000000</td>\n",
       "      <td>...</td>\n",
       "      <td>36.000000</td>\n",
       "      <td>36.000000</td>\n",
       "      <td>36.000000</td>\n",
       "      <td>36.000000</td>\n",
       "      <td>36.000000</td>\n",
       "      <td>36.000000</td>\n",
       "      <td>36.000000</td>\n",
       "      <td>36.000000</td>\n",
       "      <td>36.000000</td>\n",
       "      <td>36.000000</td>\n",
       "    </tr>\n",
       "    <tr>\n",
       "      <th>mean</th>\n",
       "      <td>18.500000</td>\n",
       "      <td>18.888889</td>\n",
       "      <td>203.250000</td>\n",
       "      <td>16520.500000</td>\n",
       "      <td>2289.833333</td>\n",
       "      <td>58626.333333</td>\n",
       "      <td>27.678889</td>\n",
       "      <td>13.480556</td>\n",
       "      <td>19.990556</td>\n",
       "      <td>930.888889</td>\n",
       "      <td>...</td>\n",
       "      <td>4734.944444</td>\n",
       "      <td>47397.500000</td>\n",
       "      <td>4465.722222</td>\n",
       "      <td>85583.944444</td>\n",
       "      <td>60085.444444</td>\n",
       "      <td>14434.027778</td>\n",
       "      <td>16978.833333</td>\n",
       "      <td>7392.222222</td>\n",
       "      <td>13556.166667</td>\n",
       "      <td>7290.305556</td>\n",
       "    </tr>\n",
       "    <tr>\n",
       "      <th>std</th>\n",
       "      <td>10.535654</td>\n",
       "      <td>15.947732</td>\n",
       "      <td>220.756928</td>\n",
       "      <td>21166.739773</td>\n",
       "      <td>2645.161756</td>\n",
       "      <td>165584.055709</td>\n",
       "      <td>18.354991</td>\n",
       "      <td>5.006451</td>\n",
       "      <td>11.455856</td>\n",
       "      <td>79.126581</td>\n",
       "      <td>...</td>\n",
       "      <td>6661.737975</td>\n",
       "      <td>78980.702294</td>\n",
       "      <td>6572.247146</td>\n",
       "      <td>136154.174595</td>\n",
       "      <td>84318.421284</td>\n",
       "      <td>23541.908405</td>\n",
       "      <td>52698.821185</td>\n",
       "      <td>16163.813519</td>\n",
       "      <td>17501.644852</td>\n",
       "      <td>13838.799946</td>\n",
       "    </tr>\n",
       "    <tr>\n",
       "      <th>min</th>\n",
       "      <td>1.000000</td>\n",
       "      <td>1.000000</td>\n",
       "      <td>1.000000</td>\n",
       "      <td>10.000000</td>\n",
       "      <td>7.000000</td>\n",
       "      <td>64.000000</td>\n",
       "      <td>8.360000</td>\n",
       "      <td>9.560000</td>\n",
       "      <td>-0.470000</td>\n",
       "      <td>618.000000</td>\n",
       "      <td>...</td>\n",
       "      <td>0.000000</td>\n",
       "      <td>0.000000</td>\n",
       "      <td>0.000000</td>\n",
       "      <td>135.000000</td>\n",
       "      <td>53.000000</td>\n",
       "      <td>0.000000</td>\n",
       "      <td>0.000000</td>\n",
       "      <td>0.000000</td>\n",
       "      <td>0.000000</td>\n",
       "      <td>0.000000</td>\n",
       "    </tr>\n",
       "    <tr>\n",
       "      <th>25%</th>\n",
       "      <td>9.750000</td>\n",
       "      <td>8.000000</td>\n",
       "      <td>35.750000</td>\n",
       "      <td>1038.500000</td>\n",
       "      <td>121.500000</td>\n",
       "      <td>1348.250000</td>\n",
       "      <td>16.457500</td>\n",
       "      <td>10.912500</td>\n",
       "      <td>13.880000</td>\n",
       "      <td>904.250000</td>\n",
       "      <td>...</td>\n",
       "      <td>185.500000</td>\n",
       "      <td>4578.000000</td>\n",
       "      <td>576.750000</td>\n",
       "      <td>6591.750000</td>\n",
       "      <td>3207.500000</td>\n",
       "      <td>1383.750000</td>\n",
       "      <td>37.500000</td>\n",
       "      <td>180.250000</td>\n",
       "      <td>1832.500000</td>\n",
       "      <td>203.000000</td>\n",
       "    </tr>\n",
       "    <tr>\n",
       "      <th>50%</th>\n",
       "      <td>18.500000</td>\n",
       "      <td>13.500000</td>\n",
       "      <td>135.500000</td>\n",
       "      <td>8686.000000</td>\n",
       "      <td>1575.500000</td>\n",
       "      <td>14651.000000</td>\n",
       "      <td>22.800000</td>\n",
       "      <td>12.255000</td>\n",
       "      <td>18.910000</td>\n",
       "      <td>946.500000</td>\n",
       "      <td>...</td>\n",
       "      <td>1618.000000</td>\n",
       "      <td>25937.500000</td>\n",
       "      <td>2821.000000</td>\n",
       "      <td>44693.000000</td>\n",
       "      <td>14545.500000</td>\n",
       "      <td>5211.500000</td>\n",
       "      <td>560.000000</td>\n",
       "      <td>733.000000</td>\n",
       "      <td>6415.000000</td>\n",
       "      <td>1553.500000</td>\n",
       "    </tr>\n",
       "    <tr>\n",
       "      <th>75%</th>\n",
       "      <td>27.250000</td>\n",
       "      <td>27.750000</td>\n",
       "      <td>306.250000</td>\n",
       "      <td>23341.000000</td>\n",
       "      <td>3865.000000</td>\n",
       "      <td>60570.750000</td>\n",
       "      <td>32.657500</td>\n",
       "      <td>14.562500</td>\n",
       "      <td>22.637500</td>\n",
       "      <td>975.750000</td>\n",
       "      <td>...</td>\n",
       "      <td>6111.750000</td>\n",
       "      <td>52449.000000</td>\n",
       "      <td>5384.750000</td>\n",
       "      <td>110438.500000</td>\n",
       "      <td>83347.750000</td>\n",
       "      <td>15784.500000</td>\n",
       "      <td>8825.500000</td>\n",
       "      <td>5571.750000</td>\n",
       "      <td>21242.500000</td>\n",
       "      <td>6082.750000</td>\n",
       "    </tr>\n",
       "    <tr>\n",
       "      <th>max</th>\n",
       "      <td>36.000000</td>\n",
       "      <td>75.000000</td>\n",
       "      <td>971.000000</td>\n",
       "      <td>98470.000000</td>\n",
       "      <td>10594.000000</td>\n",
       "      <td>991348.000000</td>\n",
       "      <td>97.250000</td>\n",
       "      <td>39.200000</td>\n",
       "      <td>55.500000</td>\n",
       "      <td>1084.000000</td>\n",
       "      <td>...</td>\n",
       "      <td>26429.000000</td>\n",
       "      <td>355224.000000</td>\n",
       "      <td>35326.000000</td>\n",
       "      <td>746590.000000</td>\n",
       "      <td>272919.000000</td>\n",
       "      <td>120330.000000</td>\n",
       "      <td>297150.000000</td>\n",
       "      <td>78017.000000</td>\n",
       "      <td>86126.000000</td>\n",
       "      <td>60301.000000</td>\n",
       "    </tr>\n",
       "  </tbody>\n",
       "</table>\n",
       "<p>8 rows × 814 columns</p>\n",
       "</div>"
      ],
      "text/plain": [
       "          STATCD  DISTRICTS      BLOCKS      VILLAGES      CLUSTERS  \\\n",
       "count  36.000000  36.000000   36.000000     36.000000     36.000000   \n",
       "mean   18.500000  18.888889  203.250000  16520.500000   2289.833333   \n",
       "std    10.535654  15.947732  220.756928  21166.739773   2645.161756   \n",
       "min     1.000000   1.000000    1.000000     10.000000      7.000000   \n",
       "25%     9.750000   8.000000   35.750000   1038.500000    121.500000   \n",
       "50%    18.500000  13.500000  135.500000   8686.000000   1575.500000   \n",
       "75%    27.250000  27.750000  306.250000  23341.000000   3865.000000   \n",
       "max    36.000000  75.000000  971.000000  98470.000000  10594.000000   \n",
       "\n",
       "          TOTPOPULAT  P_URB_POP  POPULATION_0_6  GROWTHRATE     SEXRATIO  ...  \\\n",
       "count      36.000000  36.000000       36.000000   36.000000    36.000000  ...   \n",
       "mean    58626.333333  27.678889       13.480556   19.990556   930.888889  ...   \n",
       "std    165584.055709  18.354991        5.006451   11.455856    79.126581  ...   \n",
       "min        64.000000   8.360000        9.560000   -0.470000   618.000000  ...   \n",
       "25%      1348.250000  16.457500       10.912500   13.880000   904.250000  ...   \n",
       "50%     14651.000000  22.800000       12.255000   18.910000   946.500000  ...   \n",
       "75%     60570.750000  32.657500       14.562500   22.637500   975.750000  ...   \n",
       "max    991348.000000  97.250000       39.200000   55.500000  1084.000000  ...   \n",
       "\n",
       "             USCR35      NOTCH_ASS        TCHINV       TOTCLS1G  \\\n",
       "count     36.000000      36.000000     36.000000      36.000000   \n",
       "mean    4734.944444   47397.500000   4465.722222   85583.944444   \n",
       "std     6661.737975   78980.702294   6572.247146  136154.174595   \n",
       "min        0.000000       0.000000      0.000000     135.000000   \n",
       "25%      185.500000    4578.000000    576.750000    6591.750000   \n",
       "50%     1618.000000   25937.500000   2821.000000   44693.000000   \n",
       "75%     6111.750000   52449.000000   5384.750000  110438.500000   \n",
       "max    26429.000000  355224.000000  35326.000000  746590.000000   \n",
       "\n",
       "            TOTCLS2G       TOTCLS3G       TOTCLS4G      TOTCLS5G  \\\n",
       "count      36.000000      36.000000      36.000000     36.000000   \n",
       "mean    60085.444444   14434.027778   16978.833333   7392.222222   \n",
       "std     84318.421284   23541.908405   52698.821185  16163.813519   \n",
       "min        53.000000       0.000000       0.000000      0.000000   \n",
       "25%      3207.500000    1383.750000      37.500000    180.250000   \n",
       "50%     14545.500000    5211.500000     560.000000    733.000000   \n",
       "75%     83347.750000   15784.500000    8825.500000   5571.750000   \n",
       "max    272919.000000  120330.000000  297150.000000  78017.000000   \n",
       "\n",
       "           TOTCLS6G      TOTCLS7G  \n",
       "count     36.000000     36.000000  \n",
       "mean   13556.166667   7290.305556  \n",
       "std    17501.644852  13838.799946  \n",
       "min        0.000000      0.000000  \n",
       "25%     1832.500000    203.000000  \n",
       "50%     6415.000000   1553.500000  \n",
       "75%    21242.500000   6082.750000  \n",
       "max    86126.000000  60301.000000  \n",
       "\n",
       "[8 rows x 814 columns]"
      ]
     },
     "execution_count": 35,
     "metadata": {},
     "output_type": "execute_result"
    }
   ],
   "source": [
    "df_ele.describe()"
   ]
  },
  {
   "cell_type": "code",
   "execution_count": 36,
   "metadata": {},
   "outputs": [
    {
     "data": {
      "application/vnd.plotly.v1+json": {
       "config": {
        "linkText": "Export to plot.ly",
        "plotlyServerURL": "https://plot.ly",
        "showLink": false
       },
       "data": [
        {
         "type": "scatter",
         "x": [
          "JAMMU & KASHMIR",
          "HIMACHAL PRADESH",
          "PUNJAB",
          "CHANDIGARH",
          "UTTARAKHAND",
          "HARYANA",
          "DELHI",
          "RAJASTHAN",
          "UTTAR PRADESH",
          "BIHAR",
          "SIKKIM",
          "ARUNACHAL PRADESH",
          "NAGALAND",
          "MANIPUR",
          "MIZORAM",
          "TRIPURA",
          "MEGHALAYA",
          "ASSAM",
          "WEST BENGAL",
          "JHARKHAND",
          "ODISHA",
          "CHHATTISGARH",
          "MADHYA PRADESH",
          "GUJARAT",
          "DAMAN & DIU",
          "DADRA & NAGAR HAVELI",
          "MAHARASHTRA",
          "ANDHRA PRADESH",
          "KARNATAKA",
          "GOA",
          "LAKSHADWEEP",
          "KERALA",
          "TAMIL NADU",
          "PUDUCHERRY",
          "A & N ISLANDS",
          "TELANGANA"
         ],
         "y": [
          68.74,
          83.78,
          76.68,
          86.43,
          79.63,
          76.64,
          86.34,
          67.06,
          69.72,
          63.82,
          82.2,
          66.95,
          80.11,
          79.85,
          91.58,
          87.75,
          75.48,
          73.18,
          77.08,
          67.63,
          73.45,
          71.04,
          70.63,
          79.31,
          87.07,
          77.65,
          82.91,
          67.66,
          75.6,
          87.4,
          92.28,
          93.91,
          80.3,
          86.55,
          86.27,
          66.46
         ]
        },
        {
         "type": "scatter",
         "x": [
          "Jammu And Kashmir",
          "Himachal Pradesh",
          "Punjab",
          "Chandigarh",
          "Uttarakhand",
          "Haryana",
          "Delhi                         ",
          "Rajasthan                     ",
          "Uttar Pradesh",
          "Bihar",
          "Sikkim",
          "Arunachal Pradesh",
          "Nagaland",
          "Manipur",
          "Mizoram                       ",
          "Tripura",
          "Meghalaya                     ",
          "Assam",
          "West Bengal                   ",
          "Jharkhand",
          "Odisha",
          "Chhattisgarh",
          "MADHYA PRADESH",
          "Gujarat",
          "Daman & Diu                   ",
          "Dadra & Nagar Haveli          ",
          "Maharashtra",
          "Andhra Pradesh                ",
          "Karnataka",
          "Goa                           ",
          "Lakshadweep                   ",
          "Kerala",
          "Tamil Nadu",
          "Puducherry",
          "Andaman & Nicobar Islands     ",
          "Telangana"
         ],
         "xaxis": "x2",
         "y": [
          68.74,
          83.78,
          76.68,
          86.43,
          79.63,
          76.64,
          86.34,
          67.06,
          69.72,
          63.82,
          82.2,
          66.95,
          80.11,
          79.85,
          91.58,
          87.75,
          75.48,
          73.18,
          77.08,
          67.63,
          73.45,
          71.04,
          70.63,
          79.31,
          87.07,
          77.65,
          82.91,
          67.66,
          75.6,
          87.4,
          92.28,
          93.91,
          80.33,
          86.55,
          86.27,
          null
         ],
         "yaxis": "y2"
        }
       ],
       "layout": {
        "template": {
         "data": {
          "bar": [
           {
            "error_x": {
             "color": "#2a3f5f"
            },
            "error_y": {
             "color": "#2a3f5f"
            },
            "marker": {
             "line": {
              "color": "#E5ECF6",
              "width": 0.5
             },
             "pattern": {
              "fillmode": "overlay",
              "size": 10,
              "solidity": 0.2
             }
            },
            "type": "bar"
           }
          ],
          "barpolar": [
           {
            "marker": {
             "line": {
              "color": "#E5ECF6",
              "width": 0.5
             },
             "pattern": {
              "fillmode": "overlay",
              "size": 10,
              "solidity": 0.2
             }
            },
            "type": "barpolar"
           }
          ],
          "carpet": [
           {
            "aaxis": {
             "endlinecolor": "#2a3f5f",
             "gridcolor": "white",
             "linecolor": "white",
             "minorgridcolor": "white",
             "startlinecolor": "#2a3f5f"
            },
            "baxis": {
             "endlinecolor": "#2a3f5f",
             "gridcolor": "white",
             "linecolor": "white",
             "minorgridcolor": "white",
             "startlinecolor": "#2a3f5f"
            },
            "type": "carpet"
           }
          ],
          "choropleth": [
           {
            "colorbar": {
             "outlinewidth": 0,
             "ticks": ""
            },
            "type": "choropleth"
           }
          ],
          "contour": [
           {
            "colorbar": {
             "outlinewidth": 0,
             "ticks": ""
            },
            "colorscale": [
             [
              0,
              "#0d0887"
             ],
             [
              0.1111111111111111,
              "#46039f"
             ],
             [
              0.2222222222222222,
              "#7201a8"
             ],
             [
              0.3333333333333333,
              "#9c179e"
             ],
             [
              0.4444444444444444,
              "#bd3786"
             ],
             [
              0.5555555555555556,
              "#d8576b"
             ],
             [
              0.6666666666666666,
              "#ed7953"
             ],
             [
              0.7777777777777778,
              "#fb9f3a"
             ],
             [
              0.8888888888888888,
              "#fdca26"
             ],
             [
              1,
              "#f0f921"
             ]
            ],
            "type": "contour"
           }
          ],
          "contourcarpet": [
           {
            "colorbar": {
             "outlinewidth": 0,
             "ticks": ""
            },
            "type": "contourcarpet"
           }
          ],
          "heatmap": [
           {
            "colorbar": {
             "outlinewidth": 0,
             "ticks": ""
            },
            "colorscale": [
             [
              0,
              "#0d0887"
             ],
             [
              0.1111111111111111,
              "#46039f"
             ],
             [
              0.2222222222222222,
              "#7201a8"
             ],
             [
              0.3333333333333333,
              "#9c179e"
             ],
             [
              0.4444444444444444,
              "#bd3786"
             ],
             [
              0.5555555555555556,
              "#d8576b"
             ],
             [
              0.6666666666666666,
              "#ed7953"
             ],
             [
              0.7777777777777778,
              "#fb9f3a"
             ],
             [
              0.8888888888888888,
              "#fdca26"
             ],
             [
              1,
              "#f0f921"
             ]
            ],
            "type": "heatmap"
           }
          ],
          "heatmapgl": [
           {
            "colorbar": {
             "outlinewidth": 0,
             "ticks": ""
            },
            "colorscale": [
             [
              0,
              "#0d0887"
             ],
             [
              0.1111111111111111,
              "#46039f"
             ],
             [
              0.2222222222222222,
              "#7201a8"
             ],
             [
              0.3333333333333333,
              "#9c179e"
             ],
             [
              0.4444444444444444,
              "#bd3786"
             ],
             [
              0.5555555555555556,
              "#d8576b"
             ],
             [
              0.6666666666666666,
              "#ed7953"
             ],
             [
              0.7777777777777778,
              "#fb9f3a"
             ],
             [
              0.8888888888888888,
              "#fdca26"
             ],
             [
              1,
              "#f0f921"
             ]
            ],
            "type": "heatmapgl"
           }
          ],
          "histogram": [
           {
            "marker": {
             "pattern": {
              "fillmode": "overlay",
              "size": 10,
              "solidity": 0.2
             }
            },
            "type": "histogram"
           }
          ],
          "histogram2d": [
           {
            "colorbar": {
             "outlinewidth": 0,
             "ticks": ""
            },
            "colorscale": [
             [
              0,
              "#0d0887"
             ],
             [
              0.1111111111111111,
              "#46039f"
             ],
             [
              0.2222222222222222,
              "#7201a8"
             ],
             [
              0.3333333333333333,
              "#9c179e"
             ],
             [
              0.4444444444444444,
              "#bd3786"
             ],
             [
              0.5555555555555556,
              "#d8576b"
             ],
             [
              0.6666666666666666,
              "#ed7953"
             ],
             [
              0.7777777777777778,
              "#fb9f3a"
             ],
             [
              0.8888888888888888,
              "#fdca26"
             ],
             [
              1,
              "#f0f921"
             ]
            ],
            "type": "histogram2d"
           }
          ],
          "histogram2dcontour": [
           {
            "colorbar": {
             "outlinewidth": 0,
             "ticks": ""
            },
            "colorscale": [
             [
              0,
              "#0d0887"
             ],
             [
              0.1111111111111111,
              "#46039f"
             ],
             [
              0.2222222222222222,
              "#7201a8"
             ],
             [
              0.3333333333333333,
              "#9c179e"
             ],
             [
              0.4444444444444444,
              "#bd3786"
             ],
             [
              0.5555555555555556,
              "#d8576b"
             ],
             [
              0.6666666666666666,
              "#ed7953"
             ],
             [
              0.7777777777777778,
              "#fb9f3a"
             ],
             [
              0.8888888888888888,
              "#fdca26"
             ],
             [
              1,
              "#f0f921"
             ]
            ],
            "type": "histogram2dcontour"
           }
          ],
          "mesh3d": [
           {
            "colorbar": {
             "outlinewidth": 0,
             "ticks": ""
            },
            "type": "mesh3d"
           }
          ],
          "parcoords": [
           {
            "line": {
             "colorbar": {
              "outlinewidth": 0,
              "ticks": ""
             }
            },
            "type": "parcoords"
           }
          ],
          "pie": [
           {
            "automargin": true,
            "type": "pie"
           }
          ],
          "scatter": [
           {
            "fillpattern": {
             "fillmode": "overlay",
             "size": 10,
             "solidity": 0.2
            },
            "type": "scatter"
           }
          ],
          "scatter3d": [
           {
            "line": {
             "colorbar": {
              "outlinewidth": 0,
              "ticks": ""
             }
            },
            "marker": {
             "colorbar": {
              "outlinewidth": 0,
              "ticks": ""
             }
            },
            "type": "scatter3d"
           }
          ],
          "scattercarpet": [
           {
            "marker": {
             "colorbar": {
              "outlinewidth": 0,
              "ticks": ""
             }
            },
            "type": "scattercarpet"
           }
          ],
          "scattergeo": [
           {
            "marker": {
             "colorbar": {
              "outlinewidth": 0,
              "ticks": ""
             }
            },
            "type": "scattergeo"
           }
          ],
          "scattergl": [
           {
            "marker": {
             "colorbar": {
              "outlinewidth": 0,
              "ticks": ""
             }
            },
            "type": "scattergl"
           }
          ],
          "scattermapbox": [
           {
            "marker": {
             "colorbar": {
              "outlinewidth": 0,
              "ticks": ""
             }
            },
            "type": "scattermapbox"
           }
          ],
          "scatterpolar": [
           {
            "marker": {
             "colorbar": {
              "outlinewidth": 0,
              "ticks": ""
             }
            },
            "type": "scatterpolar"
           }
          ],
          "scatterpolargl": [
           {
            "marker": {
             "colorbar": {
              "outlinewidth": 0,
              "ticks": ""
             }
            },
            "type": "scatterpolargl"
           }
          ],
          "scatterternary": [
           {
            "marker": {
             "colorbar": {
              "outlinewidth": 0,
              "ticks": ""
             }
            },
            "type": "scatterternary"
           }
          ],
          "surface": [
           {
            "colorbar": {
             "outlinewidth": 0,
             "ticks": ""
            },
            "colorscale": [
             [
              0,
              "#0d0887"
             ],
             [
              0.1111111111111111,
              "#46039f"
             ],
             [
              0.2222222222222222,
              "#7201a8"
             ],
             [
              0.3333333333333333,
              "#9c179e"
             ],
             [
              0.4444444444444444,
              "#bd3786"
             ],
             [
              0.5555555555555556,
              "#d8576b"
             ],
             [
              0.6666666666666666,
              "#ed7953"
             ],
             [
              0.7777777777777778,
              "#fb9f3a"
             ],
             [
              0.8888888888888888,
              "#fdca26"
             ],
             [
              1,
              "#f0f921"
             ]
            ],
            "type": "surface"
           }
          ],
          "table": [
           {
            "cells": {
             "fill": {
              "color": "#EBF0F8"
             },
             "line": {
              "color": "white"
             }
            },
            "header": {
             "fill": {
              "color": "#C8D4E3"
             },
             "line": {
              "color": "white"
             }
            },
            "type": "table"
           }
          ]
         },
         "layout": {
          "annotationdefaults": {
           "arrowcolor": "#2a3f5f",
           "arrowhead": 0,
           "arrowwidth": 1
          },
          "autotypenumbers": "strict",
          "coloraxis": {
           "colorbar": {
            "outlinewidth": 0,
            "ticks": ""
           }
          },
          "colorscale": {
           "diverging": [
            [
             0,
             "#8e0152"
            ],
            [
             0.1,
             "#c51b7d"
            ],
            [
             0.2,
             "#de77ae"
            ],
            [
             0.3,
             "#f1b6da"
            ],
            [
             0.4,
             "#fde0ef"
            ],
            [
             0.5,
             "#f7f7f7"
            ],
            [
             0.6,
             "#e6f5d0"
            ],
            [
             0.7,
             "#b8e186"
            ],
            [
             0.8,
             "#7fbc41"
            ],
            [
             0.9,
             "#4d9221"
            ],
            [
             1,
             "#276419"
            ]
           ],
           "sequential": [
            [
             0,
             "#0d0887"
            ],
            [
             0.1111111111111111,
             "#46039f"
            ],
            [
             0.2222222222222222,
             "#7201a8"
            ],
            [
             0.3333333333333333,
             "#9c179e"
            ],
            [
             0.4444444444444444,
             "#bd3786"
            ],
            [
             0.5555555555555556,
             "#d8576b"
            ],
            [
             0.6666666666666666,
             "#ed7953"
            ],
            [
             0.7777777777777778,
             "#fb9f3a"
            ],
            [
             0.8888888888888888,
             "#fdca26"
            ],
            [
             1,
             "#f0f921"
            ]
           ],
           "sequentialminus": [
            [
             0,
             "#0d0887"
            ],
            [
             0.1111111111111111,
             "#46039f"
            ],
            [
             0.2222222222222222,
             "#7201a8"
            ],
            [
             0.3333333333333333,
             "#9c179e"
            ],
            [
             0.4444444444444444,
             "#bd3786"
            ],
            [
             0.5555555555555556,
             "#d8576b"
            ],
            [
             0.6666666666666666,
             "#ed7953"
            ],
            [
             0.7777777777777778,
             "#fb9f3a"
            ],
            [
             0.8888888888888888,
             "#fdca26"
            ],
            [
             1,
             "#f0f921"
            ]
           ]
          },
          "colorway": [
           "#636efa",
           "#EF553B",
           "#00cc96",
           "#ab63fa",
           "#FFA15A",
           "#19d3f3",
           "#FF6692",
           "#B6E880",
           "#FF97FF",
           "#FECB52"
          ],
          "font": {
           "color": "#2a3f5f"
          },
          "geo": {
           "bgcolor": "white",
           "lakecolor": "white",
           "landcolor": "#E5ECF6",
           "showlakes": true,
           "showland": true,
           "subunitcolor": "white"
          },
          "hoverlabel": {
           "align": "left"
          },
          "hovermode": "closest",
          "mapbox": {
           "style": "light"
          },
          "paper_bgcolor": "white",
          "plot_bgcolor": "#E5ECF6",
          "polar": {
           "angularaxis": {
            "gridcolor": "white",
            "linecolor": "white",
            "ticks": ""
           },
           "bgcolor": "#E5ECF6",
           "radialaxis": {
            "gridcolor": "white",
            "linecolor": "white",
            "ticks": ""
           }
          },
          "scene": {
           "xaxis": {
            "backgroundcolor": "#E5ECF6",
            "gridcolor": "white",
            "gridwidth": 2,
            "linecolor": "white",
            "showbackground": true,
            "ticks": "",
            "zerolinecolor": "white"
           },
           "yaxis": {
            "backgroundcolor": "#E5ECF6",
            "gridcolor": "white",
            "gridwidth": 2,
            "linecolor": "white",
            "showbackground": true,
            "ticks": "",
            "zerolinecolor": "white"
           },
           "zaxis": {
            "backgroundcolor": "#E5ECF6",
            "gridcolor": "white",
            "gridwidth": 2,
            "linecolor": "white",
            "showbackground": true,
            "ticks": "",
            "zerolinecolor": "white"
           }
          },
          "shapedefaults": {
           "line": {
            "color": "#2a3f5f"
           }
          },
          "ternary": {
           "aaxis": {
            "gridcolor": "white",
            "linecolor": "white",
            "ticks": ""
           },
           "baxis": {
            "gridcolor": "white",
            "linecolor": "white",
            "ticks": ""
           },
           "bgcolor": "#E5ECF6",
           "caxis": {
            "gridcolor": "white",
            "linecolor": "white",
            "ticks": ""
           }
          },
          "title": {
           "x": 0.05
          },
          "xaxis": {
           "automargin": true,
           "gridcolor": "white",
           "linecolor": "white",
           "ticks": "",
           "title": {
            "standoff": 15
           },
           "zerolinecolor": "white",
           "zerolinewidth": 2
          },
          "yaxis": {
           "automargin": true,
           "gridcolor": "white",
           "linecolor": "white",
           "ticks": "",
           "title": {
            "standoff": 15
           },
           "zerolinecolor": "white",
           "zerolinewidth": 2
          }
         }
        },
        "xaxis": {
         "domain": [
          0,
          0.45
         ]
        },
        "xaxis2": {
         "domain": [
          0.55,
          1
         ]
        },
        "yaxis": {
         "domain": [
          0,
          0.45
         ]
        },
        "yaxis2": {
         "anchor": "x2",
         "domain": [
          0,
          0.45
         ]
        }
       }
      },
      "text/html": [
       "<div>                            <div id=\"093dd8f7-5232-43fa-b043-b191932f50ab\" class=\"plotly-graph-div\" style=\"height:525px; width:100%;\"></div>            <script type=\"text/javascript\">                require([\"plotly\"], function(Plotly) {                    window.PLOTLYENV=window.PLOTLYENV || {};                                    if (document.getElementById(\"093dd8f7-5232-43fa-b043-b191932f50ab\")) {                    Plotly.newPlot(                        \"093dd8f7-5232-43fa-b043-b191932f50ab\",                        [{\"x\":[\"JAMMU & KASHMIR\",\"HIMACHAL PRADESH\",\"PUNJAB\",\"CHANDIGARH\",\"UTTARAKHAND\",\"HARYANA\",\"DELHI\",\"RAJASTHAN\",\"UTTAR PRADESH\",\"BIHAR\",\"SIKKIM\",\"ARUNACHAL PRADESH\",\"NAGALAND\",\"MANIPUR\",\"MIZORAM\",\"TRIPURA\",\"MEGHALAYA\",\"ASSAM\",\"WEST BENGAL\",\"JHARKHAND\",\"ODISHA\",\"CHHATTISGARH\",\"MADHYA PRADESH\",\"GUJARAT\",\"DAMAN & DIU\",\"DADRA & NAGAR HAVELI\",\"MAHARASHTRA\",\"ANDHRA PRADESH\",\"KARNATAKA\",\"GOA\",\"LAKSHADWEEP\",\"KERALA\",\"TAMIL NADU\",\"PUDUCHERRY\",\"A & N ISLANDS\",\"TELANGANA\"],\"y\":[68.74,83.78,76.68,86.43,79.63,76.64,86.34,67.06,69.72,63.82,82.2,66.95,80.11,79.85,91.58,87.75,75.48,73.18,77.08,67.63,73.45,71.04,70.63,79.31,87.07,77.65,82.91,67.66,75.6,87.4,92.28,93.91,80.3,86.55,86.27,66.46],\"type\":\"scatter\"},{\"x\":[\"Jammu And Kashmir\",\"Himachal Pradesh\",\"Punjab\",\"Chandigarh\",\"Uttarakhand\",\"Haryana\",\"Delhi                         \",\"Rajasthan                     \",\"Uttar Pradesh\",\"Bihar\",\"Sikkim\",\"Arunachal Pradesh\",\"Nagaland\",\"Manipur\",\"Mizoram                       \",\"Tripura\",\"Meghalaya                     \",\"Assam\",\"West Bengal                   \",\"Jharkhand\",\"Odisha\",\"Chhattisgarh\",\"MADHYA PRADESH\",\"Gujarat\",\"Daman & Diu                   \",\"Dadra & Nagar Haveli          \",\"Maharashtra\",\"Andhra Pradesh                \",\"Karnataka\",\"Goa                           \",\"Lakshadweep                   \",\"Kerala\",\"Tamil Nadu\",\"Puducherry\",\"Andaman & Nicobar Islands     \",\"Telangana\"],\"xaxis\":\"x2\",\"y\":[68.74,83.78,76.68,86.43,79.63,76.64,86.34,67.06,69.72,63.82,82.2,66.95,80.11,79.85,91.58,87.75,75.48,73.18,77.08,67.63,73.45,71.04,70.63,79.31,87.07,77.65,82.91,67.66,75.6,87.4,92.28,93.91,80.33,86.55,86.27,null],\"yaxis\":\"y2\",\"type\":\"scatter\"}],                        {\"template\":{\"data\":{\"barpolar\":[{\"marker\":{\"line\":{\"color\":\"#E5ECF6\",\"width\":0.5},\"pattern\":{\"fillmode\":\"overlay\",\"size\":10,\"solidity\":0.2}},\"type\":\"barpolar\"}],\"bar\":[{\"error_x\":{\"color\":\"#2a3f5f\"},\"error_y\":{\"color\":\"#2a3f5f\"},\"marker\":{\"line\":{\"color\":\"#E5ECF6\",\"width\":0.5},\"pattern\":{\"fillmode\":\"overlay\",\"size\":10,\"solidity\":0.2}},\"type\":\"bar\"}],\"carpet\":[{\"aaxis\":{\"endlinecolor\":\"#2a3f5f\",\"gridcolor\":\"white\",\"linecolor\":\"white\",\"minorgridcolor\":\"white\",\"startlinecolor\":\"#2a3f5f\"},\"baxis\":{\"endlinecolor\":\"#2a3f5f\",\"gridcolor\":\"white\",\"linecolor\":\"white\",\"minorgridcolor\":\"white\",\"startlinecolor\":\"#2a3f5f\"},\"type\":\"carpet\"}],\"choropleth\":[{\"colorbar\":{\"outlinewidth\":0,\"ticks\":\"\"},\"type\":\"choropleth\"}],\"contourcarpet\":[{\"colorbar\":{\"outlinewidth\":0,\"ticks\":\"\"},\"type\":\"contourcarpet\"}],\"contour\":[{\"colorbar\":{\"outlinewidth\":0,\"ticks\":\"\"},\"colorscale\":[[0.0,\"#0d0887\"],[0.1111111111111111,\"#46039f\"],[0.2222222222222222,\"#7201a8\"],[0.3333333333333333,\"#9c179e\"],[0.4444444444444444,\"#bd3786\"],[0.5555555555555556,\"#d8576b\"],[0.6666666666666666,\"#ed7953\"],[0.7777777777777778,\"#fb9f3a\"],[0.8888888888888888,\"#fdca26\"],[1.0,\"#f0f921\"]],\"type\":\"contour\"}],\"heatmapgl\":[{\"colorbar\":{\"outlinewidth\":0,\"ticks\":\"\"},\"colorscale\":[[0.0,\"#0d0887\"],[0.1111111111111111,\"#46039f\"],[0.2222222222222222,\"#7201a8\"],[0.3333333333333333,\"#9c179e\"],[0.4444444444444444,\"#bd3786\"],[0.5555555555555556,\"#d8576b\"],[0.6666666666666666,\"#ed7953\"],[0.7777777777777778,\"#fb9f3a\"],[0.8888888888888888,\"#fdca26\"],[1.0,\"#f0f921\"]],\"type\":\"heatmapgl\"}],\"heatmap\":[{\"colorbar\":{\"outlinewidth\":0,\"ticks\":\"\"},\"colorscale\":[[0.0,\"#0d0887\"],[0.1111111111111111,\"#46039f\"],[0.2222222222222222,\"#7201a8\"],[0.3333333333333333,\"#9c179e\"],[0.4444444444444444,\"#bd3786\"],[0.5555555555555556,\"#d8576b\"],[0.6666666666666666,\"#ed7953\"],[0.7777777777777778,\"#fb9f3a\"],[0.8888888888888888,\"#fdca26\"],[1.0,\"#f0f921\"]],\"type\":\"heatmap\"}],\"histogram2dcontour\":[{\"colorbar\":{\"outlinewidth\":0,\"ticks\":\"\"},\"colorscale\":[[0.0,\"#0d0887\"],[0.1111111111111111,\"#46039f\"],[0.2222222222222222,\"#7201a8\"],[0.3333333333333333,\"#9c179e\"],[0.4444444444444444,\"#bd3786\"],[0.5555555555555556,\"#d8576b\"],[0.6666666666666666,\"#ed7953\"],[0.7777777777777778,\"#fb9f3a\"],[0.8888888888888888,\"#fdca26\"],[1.0,\"#f0f921\"]],\"type\":\"histogram2dcontour\"}],\"histogram2d\":[{\"colorbar\":{\"outlinewidth\":0,\"ticks\":\"\"},\"colorscale\":[[0.0,\"#0d0887\"],[0.1111111111111111,\"#46039f\"],[0.2222222222222222,\"#7201a8\"],[0.3333333333333333,\"#9c179e\"],[0.4444444444444444,\"#bd3786\"],[0.5555555555555556,\"#d8576b\"],[0.6666666666666666,\"#ed7953\"],[0.7777777777777778,\"#fb9f3a\"],[0.8888888888888888,\"#fdca26\"],[1.0,\"#f0f921\"]],\"type\":\"histogram2d\"}],\"histogram\":[{\"marker\":{\"pattern\":{\"fillmode\":\"overlay\",\"size\":10,\"solidity\":0.2}},\"type\":\"histogram\"}],\"mesh3d\":[{\"colorbar\":{\"outlinewidth\":0,\"ticks\":\"\"},\"type\":\"mesh3d\"}],\"parcoords\":[{\"line\":{\"colorbar\":{\"outlinewidth\":0,\"ticks\":\"\"}},\"type\":\"parcoords\"}],\"pie\":[{\"automargin\":true,\"type\":\"pie\"}],\"scatter3d\":[{\"line\":{\"colorbar\":{\"outlinewidth\":0,\"ticks\":\"\"}},\"marker\":{\"colorbar\":{\"outlinewidth\":0,\"ticks\":\"\"}},\"type\":\"scatter3d\"}],\"scattercarpet\":[{\"marker\":{\"colorbar\":{\"outlinewidth\":0,\"ticks\":\"\"}},\"type\":\"scattercarpet\"}],\"scattergeo\":[{\"marker\":{\"colorbar\":{\"outlinewidth\":0,\"ticks\":\"\"}},\"type\":\"scattergeo\"}],\"scattergl\":[{\"marker\":{\"colorbar\":{\"outlinewidth\":0,\"ticks\":\"\"}},\"type\":\"scattergl\"}],\"scattermapbox\":[{\"marker\":{\"colorbar\":{\"outlinewidth\":0,\"ticks\":\"\"}},\"type\":\"scattermapbox\"}],\"scatterpolargl\":[{\"marker\":{\"colorbar\":{\"outlinewidth\":0,\"ticks\":\"\"}},\"type\":\"scatterpolargl\"}],\"scatterpolar\":[{\"marker\":{\"colorbar\":{\"outlinewidth\":0,\"ticks\":\"\"}},\"type\":\"scatterpolar\"}],\"scatter\":[{\"fillpattern\":{\"fillmode\":\"overlay\",\"size\":10,\"solidity\":0.2},\"type\":\"scatter\"}],\"scatterternary\":[{\"marker\":{\"colorbar\":{\"outlinewidth\":0,\"ticks\":\"\"}},\"type\":\"scatterternary\"}],\"surface\":[{\"colorbar\":{\"outlinewidth\":0,\"ticks\":\"\"},\"colorscale\":[[0.0,\"#0d0887\"],[0.1111111111111111,\"#46039f\"],[0.2222222222222222,\"#7201a8\"],[0.3333333333333333,\"#9c179e\"],[0.4444444444444444,\"#bd3786\"],[0.5555555555555556,\"#d8576b\"],[0.6666666666666666,\"#ed7953\"],[0.7777777777777778,\"#fb9f3a\"],[0.8888888888888888,\"#fdca26\"],[1.0,\"#f0f921\"]],\"type\":\"surface\"}],\"table\":[{\"cells\":{\"fill\":{\"color\":\"#EBF0F8\"},\"line\":{\"color\":\"white\"}},\"header\":{\"fill\":{\"color\":\"#C8D4E3\"},\"line\":{\"color\":\"white\"}},\"type\":\"table\"}]},\"layout\":{\"annotationdefaults\":{\"arrowcolor\":\"#2a3f5f\",\"arrowhead\":0,\"arrowwidth\":1},\"autotypenumbers\":\"strict\",\"coloraxis\":{\"colorbar\":{\"outlinewidth\":0,\"ticks\":\"\"}},\"colorscale\":{\"diverging\":[[0,\"#8e0152\"],[0.1,\"#c51b7d\"],[0.2,\"#de77ae\"],[0.3,\"#f1b6da\"],[0.4,\"#fde0ef\"],[0.5,\"#f7f7f7\"],[0.6,\"#e6f5d0\"],[0.7,\"#b8e186\"],[0.8,\"#7fbc41\"],[0.9,\"#4d9221\"],[1,\"#276419\"]],\"sequential\":[[0.0,\"#0d0887\"],[0.1111111111111111,\"#46039f\"],[0.2222222222222222,\"#7201a8\"],[0.3333333333333333,\"#9c179e\"],[0.4444444444444444,\"#bd3786\"],[0.5555555555555556,\"#d8576b\"],[0.6666666666666666,\"#ed7953\"],[0.7777777777777778,\"#fb9f3a\"],[0.8888888888888888,\"#fdca26\"],[1.0,\"#f0f921\"]],\"sequentialminus\":[[0.0,\"#0d0887\"],[0.1111111111111111,\"#46039f\"],[0.2222222222222222,\"#7201a8\"],[0.3333333333333333,\"#9c179e\"],[0.4444444444444444,\"#bd3786\"],[0.5555555555555556,\"#d8576b\"],[0.6666666666666666,\"#ed7953\"],[0.7777777777777778,\"#fb9f3a\"],[0.8888888888888888,\"#fdca26\"],[1.0,\"#f0f921\"]]},\"colorway\":[\"#636efa\",\"#EF553B\",\"#00cc96\",\"#ab63fa\",\"#FFA15A\",\"#19d3f3\",\"#FF6692\",\"#B6E880\",\"#FF97FF\",\"#FECB52\"],\"font\":{\"color\":\"#2a3f5f\"},\"geo\":{\"bgcolor\":\"white\",\"lakecolor\":\"white\",\"landcolor\":\"#E5ECF6\",\"showlakes\":true,\"showland\":true,\"subunitcolor\":\"white\"},\"hoverlabel\":{\"align\":\"left\"},\"hovermode\":\"closest\",\"mapbox\":{\"style\":\"light\"},\"paper_bgcolor\":\"white\",\"plot_bgcolor\":\"#E5ECF6\",\"polar\":{\"angularaxis\":{\"gridcolor\":\"white\",\"linecolor\":\"white\",\"ticks\":\"\"},\"bgcolor\":\"#E5ECF6\",\"radialaxis\":{\"gridcolor\":\"white\",\"linecolor\":\"white\",\"ticks\":\"\"}},\"scene\":{\"xaxis\":{\"backgroundcolor\":\"#E5ECF6\",\"gridcolor\":\"white\",\"gridwidth\":2,\"linecolor\":\"white\",\"showbackground\":true,\"ticks\":\"\",\"zerolinecolor\":\"white\"},\"yaxis\":{\"backgroundcolor\":\"#E5ECF6\",\"gridcolor\":\"white\",\"gridwidth\":2,\"linecolor\":\"white\",\"showbackground\":true,\"ticks\":\"\",\"zerolinecolor\":\"white\"},\"zaxis\":{\"backgroundcolor\":\"#E5ECF6\",\"gridcolor\":\"white\",\"gridwidth\":2,\"linecolor\":\"white\",\"showbackground\":true,\"ticks\":\"\",\"zerolinecolor\":\"white\"}},\"shapedefaults\":{\"line\":{\"color\":\"#2a3f5f\"}},\"ternary\":{\"aaxis\":{\"gridcolor\":\"white\",\"linecolor\":\"white\",\"ticks\":\"\"},\"baxis\":{\"gridcolor\":\"white\",\"linecolor\":\"white\",\"ticks\":\"\"},\"bgcolor\":\"#E5ECF6\",\"caxis\":{\"gridcolor\":\"white\",\"linecolor\":\"white\",\"ticks\":\"\"}},\"title\":{\"x\":0.05},\"xaxis\":{\"automargin\":true,\"gridcolor\":\"white\",\"linecolor\":\"white\",\"ticks\":\"\",\"title\":{\"standoff\":15},\"zerolinecolor\":\"white\",\"zerolinewidth\":2},\"yaxis\":{\"automargin\":true,\"gridcolor\":\"white\",\"linecolor\":\"white\",\"ticks\":\"\",\"title\":{\"standoff\":15},\"zerolinecolor\":\"white\",\"zerolinewidth\":2}}},\"xaxis\":{\"domain\":[0,0.45]},\"yaxis\":{\"domain\":[0,0.45]},\"xaxis2\":{\"domain\":[0.55,1]},\"yaxis2\":{\"anchor\":\"x2\",\"domain\":[0,0.45]}},                        {\"responsive\": true}                    ).then(function(){\n",
       "                            \n",
       "var gd = document.getElementById('093dd8f7-5232-43fa-b043-b191932f50ab');\n",
       "var x = new MutationObserver(function (mutations, observer) {{\n",
       "        var display = window.getComputedStyle(gd).display;\n",
       "        if (!display || display === 'none') {{\n",
       "            console.log([gd, 'removed!']);\n",
       "            Plotly.purge(gd);\n",
       "            observer.disconnect();\n",
       "        }}\n",
       "}});\n",
       "\n",
       "// Listen for the removal of the full notebook cells\n",
       "var notebookContainer = gd.closest('#notebook-container');\n",
       "if (notebookContainer) {{\n",
       "    x.observe(notebookContainer, {childList: true});\n",
       "}}\n",
       "\n",
       "// Listen for the clearing of the current output cell\n",
       "var outputEl = gd.closest('.output');\n",
       "if (outputEl) {{\n",
       "    x.observe(outputEl, {childList: true});\n",
       "}}\n",
       "\n",
       "                        })                };                });            </script>        </div>"
      ]
     },
     "metadata": {},
     "output_type": "display_data"
    }
   ],
   "source": [
    "trace1 = go.Scatter(\n",
    "      x = df_ele.STATNAME,\n",
    "      y = df_ele.OVERALL_LI,\n",
    ")\n",
    "\n",
    "trace2 = go.Scatter(\n",
    "    x=df_sec.statname,\n",
    "    y=df_sec.literacy_rate,\n",
    "    xaxis='x2',\n",
    "    yaxis='y2'\n",
    ")\n",
    "\n",
    "data = [trace1, trace2]\n",
    "layout = go.Layout(\n",
    "    xaxis=dict(\n",
    "        domain=[0, 0.45],\n",
    "    ),\n",
    "    yaxis=dict(\n",
    "        domain=[0, 0.45]\n",
    "    ),\n",
    "    xaxis2=dict(\n",
    "        domain=[0.55, 1]\n",
    "    ),\n",
    "    yaxis2=dict(\n",
    "        domain=[0, 0.45],\n",
    "        anchor='x2'\n",
    "    )\n",
    ")\n",
    "fig = go.Figure(data=data, layout=layout)\n",
    "iplot(fig)"
   ]
  },
  {
   "cell_type": "code",
   "execution_count": 37,
   "metadata": {},
   "outputs": [
    {
     "data": {
      "text/html": [
       "<div>\n",
       "<style scoped>\n",
       "    .dataframe tbody tr th:only-of-type {\n",
       "        vertical-align: middle;\n",
       "    }\n",
       "\n",
       "    .dataframe tbody tr th {\n",
       "        vertical-align: top;\n",
       "    }\n",
       "\n",
       "    .dataframe thead th {\n",
       "        text-align: right;\n",
       "    }\n",
       "</style>\n",
       "<table border=\"1\" class=\"dataframe\">\n",
       "  <thead>\n",
       "    <tr style=\"text-align: right;\">\n",
       "      <th></th>\n",
       "      <th>STATNAME</th>\n",
       "      <th>OVERALL_LI</th>\n",
       "      <th>MALE_LIT</th>\n",
       "      <th>FEMALE_LIT</th>\n",
       "    </tr>\n",
       "  </thead>\n",
       "  <tbody>\n",
       "    <tr>\n",
       "      <th>0</th>\n",
       "      <td>JAMMU &amp; KASHMIR</td>\n",
       "      <td>68.74</td>\n",
       "      <td>78.26</td>\n",
       "      <td>58.01</td>\n",
       "    </tr>\n",
       "    <tr>\n",
       "      <th>1</th>\n",
       "      <td>HIMACHAL PRADESH</td>\n",
       "      <td>83.78</td>\n",
       "      <td>90.83</td>\n",
       "      <td>76.60</td>\n",
       "    </tr>\n",
       "    <tr>\n",
       "      <th>2</th>\n",
       "      <td>PUNJAB</td>\n",
       "      <td>76.68</td>\n",
       "      <td>81.48</td>\n",
       "      <td>71.34</td>\n",
       "    </tr>\n",
       "    <tr>\n",
       "      <th>3</th>\n",
       "      <td>CHANDIGARH</td>\n",
       "      <td>86.43</td>\n",
       "      <td>90.54</td>\n",
       "      <td>81.38</td>\n",
       "    </tr>\n",
       "    <tr>\n",
       "      <th>4</th>\n",
       "      <td>UTTARAKHAND</td>\n",
       "      <td>79.63</td>\n",
       "      <td>88.33</td>\n",
       "      <td>70.70</td>\n",
       "    </tr>\n",
       "  </tbody>\n",
       "</table>\n",
       "</div>"
      ],
      "text/plain": [
       "           STATNAME  OVERALL_LI  MALE_LIT  FEMALE_LIT\n",
       "0   JAMMU & KASHMIR       68.74     78.26       58.01\n",
       "1  HIMACHAL PRADESH       83.78     90.83       76.60\n",
       "2            PUNJAB       76.68     81.48       71.34\n",
       "3        CHANDIGARH       86.43     90.54       81.38\n",
       "4       UTTARAKHAND       79.63     88.33       70.70"
      ]
     },
     "execution_count": 37,
     "metadata": {},
     "output_type": "execute_result"
    }
   ],
   "source": [
    "literacy_data = df_ele.loc[:,['STATNAME','OVERALL_LI','MALE_LIT','FEMALE_LIT']]\n",
    "literacy_data.head(5)"
   ]
  },
  {
   "cell_type": "code",
   "execution_count": 38,
   "metadata": {},
   "outputs": [
    {
     "data": {
      "text/html": [
       "<div>\n",
       "<style scoped>\n",
       "    .dataframe tbody tr th:only-of-type {\n",
       "        vertical-align: middle;\n",
       "    }\n",
       "\n",
       "    .dataframe tbody tr th {\n",
       "        vertical-align: top;\n",
       "    }\n",
       "\n",
       "    .dataframe thead th {\n",
       "        text-align: right;\n",
       "    }\n",
       "</style>\n",
       "<table border=\"1\" class=\"dataframe\">\n",
       "  <thead>\n",
       "    <tr style=\"text-align: right;\">\n",
       "      <th></th>\n",
       "      <th>statname</th>\n",
       "      <th>literacy_rate</th>\n",
       "      <th>male_literacy_rate</th>\n",
       "      <th>female_literacy_rate</th>\n",
       "    </tr>\n",
       "  </thead>\n",
       "  <tbody>\n",
       "    <tr>\n",
       "      <th>0</th>\n",
       "      <td>Jammu And Kashmir</td>\n",
       "      <td>68.74</td>\n",
       "      <td>78.26</td>\n",
       "      <td>58.01</td>\n",
       "    </tr>\n",
       "    <tr>\n",
       "      <th>1</th>\n",
       "      <td>Himachal Pradesh</td>\n",
       "      <td>83.78</td>\n",
       "      <td>90.83</td>\n",
       "      <td>76.60</td>\n",
       "    </tr>\n",
       "    <tr>\n",
       "      <th>2</th>\n",
       "      <td>Punjab</td>\n",
       "      <td>76.68</td>\n",
       "      <td>81.48</td>\n",
       "      <td>71.34</td>\n",
       "    </tr>\n",
       "    <tr>\n",
       "      <th>3</th>\n",
       "      <td>Chandigarh</td>\n",
       "      <td>86.43</td>\n",
       "      <td>90.54</td>\n",
       "      <td>81.38</td>\n",
       "    </tr>\n",
       "    <tr>\n",
       "      <th>4</th>\n",
       "      <td>Uttarakhand</td>\n",
       "      <td>79.63</td>\n",
       "      <td>88.33</td>\n",
       "      <td>70.70</td>\n",
       "    </tr>\n",
       "  </tbody>\n",
       "</table>\n",
       "</div>"
      ],
      "text/plain": [
       "            statname  literacy_rate  male_literacy_rate  female_literacy_rate\n",
       "0  Jammu And Kashmir          68.74               78.26                 58.01\n",
       "1   Himachal Pradesh          83.78               90.83                 76.60\n",
       "2             Punjab          76.68               81.48                 71.34\n",
       "3         Chandigarh          86.43               90.54                 81.38\n",
       "4        Uttarakhand          79.63               88.33                 70.70"
      ]
     },
     "execution_count": 38,
     "metadata": {},
     "output_type": "execute_result"
    }
   ],
   "source": [
    "literacy_data_sec = df_sec.loc[:,['statname','literacy_rate','male_literacy_rate','female_literacy_rate']]\n",
    "literacy_data_sec.head(5)"
   ]
  },
  {
   "cell_type": "code",
   "execution_count": 39,
   "metadata": {},
   "outputs": [
    {
     "data": {
      "application/vnd.plotly.v1+json": {
       "config": {
        "linkText": "Export to plot.ly",
        "plotlyServerURL": "https://plot.ly",
        "showLink": false
       },
       "data": [
        {
         "line": {
          "color": "rgba(255,10,10, 0.8)",
          "width": 1
         },
         "mode": "lines+markers",
         "name": "Elementary literacy",
         "type": "scatter",
         "x": [
          "JAMMU & KASHMIR",
          "HIMACHAL PRADESH",
          "PUNJAB",
          "CHANDIGARH",
          "UTTARAKHAND",
          "HARYANA",
          "DELHI",
          "RAJASTHAN",
          "UTTAR PRADESH",
          "BIHAR",
          "SIKKIM",
          "ARUNACHAL PRADESH",
          "NAGALAND",
          "MANIPUR",
          "MIZORAM",
          "TRIPURA",
          "MEGHALAYA",
          "ASSAM",
          "WEST BENGAL",
          "JHARKHAND",
          "ODISHA",
          "CHHATTISGARH",
          "MADHYA PRADESH",
          "GUJARAT",
          "DAMAN & DIU",
          "DADRA & NAGAR HAVELI",
          "MAHARASHTRA",
          "ANDHRA PRADESH",
          "KARNATAKA",
          "GOA",
          "LAKSHADWEEP",
          "KERALA",
          "TAMIL NADU",
          "PUDUCHERRY",
          "A & N ISLANDS",
          "TELANGANA"
         ],
         "y": [
          68.74,
          83.78,
          76.68,
          86.43,
          79.63,
          76.64,
          86.34,
          67.06,
          69.72,
          63.82,
          82.2,
          66.95,
          80.11,
          79.85,
          91.58,
          87.75,
          75.48,
          73.18,
          77.08,
          67.63,
          73.45,
          71.04,
          70.63,
          79.31,
          87.07,
          77.65,
          82.91,
          67.66,
          75.6,
          87.4,
          92.28,
          93.91,
          80.3,
          86.55,
          86.27,
          66.46
         ]
        },
        {
         "line": {
          "width": 1
         },
         "mode": "lines+markers",
         "name": "Elelmentary male literacy",
         "type": "scatter",
         "x": [
          "JAMMU & KASHMIR",
          "HIMACHAL PRADESH",
          "PUNJAB",
          "CHANDIGARH",
          "UTTARAKHAND",
          "HARYANA",
          "DELHI",
          "RAJASTHAN",
          "UTTAR PRADESH",
          "BIHAR",
          "SIKKIM",
          "ARUNACHAL PRADESH",
          "NAGALAND",
          "MANIPUR",
          "MIZORAM",
          "TRIPURA",
          "MEGHALAYA",
          "ASSAM",
          "WEST BENGAL",
          "JHARKHAND",
          "ODISHA",
          "CHHATTISGARH",
          "MADHYA PRADESH",
          "GUJARAT",
          "DAMAN & DIU",
          "DADRA & NAGAR HAVELI",
          "MAHARASHTRA",
          "ANDHRA PRADESH",
          "KARNATAKA",
          "GOA",
          "LAKSHADWEEP",
          "KERALA",
          "TAMIL NADU",
          "PUDUCHERRY",
          "A & N ISLANDS",
          "TELANGANA"
         ],
         "y": [
          78.26,
          90.83,
          81.48,
          90.54,
          88.33,
          85.38,
          91.03,
          80.51,
          79.24,
          73.39,
          87.29,
          73.69,
          83.29,
          86.49,
          93.72,
          92.18,
          77.17,
          78.81,
          82.67,
          78.45,
          82.4,
          81.45,
          80.53,
          87.23,
          91.48,
          86.46,
          89.82,
          75.56,
          82.85,
          92.81,
          96.11,
          96.02,
          86.81,
          92.12,
          90.11,
          74.95
         ]
        },
        {
         "line": {
          "dash": "dash",
          "width": 1
         },
         "mode": "lines+markers",
         "name": "Elelmentary female literacy",
         "type": "scatter",
         "x": [
          "JAMMU & KASHMIR",
          "HIMACHAL PRADESH",
          "PUNJAB",
          "CHANDIGARH",
          "UTTARAKHAND",
          "HARYANA",
          "DELHI",
          "RAJASTHAN",
          "UTTAR PRADESH",
          "BIHAR",
          "SIKKIM",
          "ARUNACHAL PRADESH",
          "NAGALAND",
          "MANIPUR",
          "MIZORAM",
          "TRIPURA",
          "MEGHALAYA",
          "ASSAM",
          "WEST BENGAL",
          "JHARKHAND",
          "ODISHA",
          "CHHATTISGARH",
          "MADHYA PRADESH",
          "GUJARAT",
          "DAMAN & DIU",
          "DADRA & NAGAR HAVELI",
          "MAHARASHTRA",
          "ANDHRA PRADESH",
          "KARNATAKA",
          "GOA",
          "LAKSHADWEEP",
          "KERALA",
          "TAMIL NADU",
          "PUDUCHERRY",
          "A & N ISLANDS",
          "TELANGANA"
         ],
         "y": [
          58.01,
          76.6,
          71.34,
          81.38,
          70.7,
          66.77,
          80.93,
          52.66,
          59.26,
          53.33,
          76.43,
          59.57,
          76.69,
          73.17,
          89.4,
          83.15,
          73.78,
          67.27,
          71.16,
          56.21,
          64.36,
          60.59,
          60.02,
          70.73,
          79.59,
          65.93,
          75.48,
          59.74,
          68.13,
          81.84,
          88.25,
          91.98,
          73.86,
          81.22,
          81.84,
          57.92
         ]
        },
        {
         "line": {
          "dash": "dash",
          "width": 1
         },
         "mode": "lines+markers",
         "name": "secondary literacy rate",
         "type": "scatter",
         "x": [
          "JAMMU & KASHMIR",
          "HIMACHAL PRADESH",
          "PUNJAB",
          "CHANDIGARH",
          "UTTARAKHAND",
          "HARYANA",
          "DELHI",
          "RAJASTHAN",
          "UTTAR PRADESH",
          "BIHAR",
          "SIKKIM",
          "ARUNACHAL PRADESH",
          "NAGALAND",
          "MANIPUR",
          "MIZORAM",
          "TRIPURA",
          "MEGHALAYA",
          "ASSAM",
          "WEST BENGAL",
          "JHARKHAND",
          "ODISHA",
          "CHHATTISGARH",
          "MADHYA PRADESH",
          "GUJARAT",
          "DAMAN & DIU",
          "DADRA & NAGAR HAVELI",
          "MAHARASHTRA",
          "ANDHRA PRADESH",
          "KARNATAKA",
          "GOA",
          "LAKSHADWEEP",
          "KERALA",
          "TAMIL NADU",
          "PUDUCHERRY",
          "A & N ISLANDS",
          "TELANGANA"
         ],
         "y": [
          68.74,
          83.78,
          76.68,
          86.43,
          79.63,
          76.64,
          86.34,
          67.06,
          69.72,
          63.82,
          82.2,
          66.95,
          80.11,
          79.85,
          91.58,
          87.75,
          75.48,
          73.18,
          77.08,
          67.63,
          73.45,
          71.04,
          70.63,
          79.31,
          87.07,
          77.65,
          82.91,
          67.66,
          75.6,
          87.4,
          92.28,
          93.91,
          80.33,
          86.55,
          86.27,
          null
         ]
        },
        {
         "line": {
          "dash": "dot",
          "width": 1
         },
         "mode": "lines+markers",
         "name": "secondary male literacy rate",
         "type": "scatter",
         "x": [
          "JAMMU & KASHMIR",
          "HIMACHAL PRADESH",
          "PUNJAB",
          "CHANDIGARH",
          "UTTARAKHAND",
          "HARYANA",
          "DELHI",
          "RAJASTHAN",
          "UTTAR PRADESH",
          "BIHAR",
          "SIKKIM",
          "ARUNACHAL PRADESH",
          "NAGALAND",
          "MANIPUR",
          "MIZORAM",
          "TRIPURA",
          "MEGHALAYA",
          "ASSAM",
          "WEST BENGAL",
          "JHARKHAND",
          "ODISHA",
          "CHHATTISGARH",
          "MADHYA PRADESH",
          "GUJARAT",
          "DAMAN & DIU",
          "DADRA & NAGAR HAVELI",
          "MAHARASHTRA",
          "ANDHRA PRADESH",
          "KARNATAKA",
          "GOA",
          "LAKSHADWEEP",
          "KERALA",
          "TAMIL NADU",
          "PUDUCHERRY",
          "A & N ISLANDS",
          "TELANGANA"
         ],
         "y": [
          78.26,
          90.83,
          81.48,
          90.54,
          88.33,
          85.38,
          91.03,
          80.51,
          79.24,
          73.39,
          87.29,
          73.69,
          83.29,
          86.49,
          93.72,
          92.18,
          77.17,
          78.81,
          82.67,
          78.45,
          82.4,
          81.45,
          80.53,
          87.23,
          91.48,
          86.46,
          89.82,
          75.56,
          82.85,
          92.81,
          96.11,
          96.02,
          86.81,
          92.12,
          90.11,
          null
         ]
        },
        {
         "line": {
          "dash": "dot",
          "width": 1
         },
         "mode": "lines+markers",
         "name": "secondary female literacy rate",
         "type": "scatter",
         "x": [
          "JAMMU & KASHMIR",
          "HIMACHAL PRADESH",
          "PUNJAB",
          "CHANDIGARH",
          "UTTARAKHAND",
          "HARYANA",
          "DELHI",
          "RAJASTHAN",
          "UTTAR PRADESH",
          "BIHAR",
          "SIKKIM",
          "ARUNACHAL PRADESH",
          "NAGALAND",
          "MANIPUR",
          "MIZORAM",
          "TRIPURA",
          "MEGHALAYA",
          "ASSAM",
          "WEST BENGAL",
          "JHARKHAND",
          "ODISHA",
          "CHHATTISGARH",
          "MADHYA PRADESH",
          "GUJARAT",
          "DAMAN & DIU",
          "DADRA & NAGAR HAVELI",
          "MAHARASHTRA",
          "ANDHRA PRADESH",
          "KARNATAKA",
          "GOA",
          "LAKSHADWEEP",
          "KERALA",
          "TAMIL NADU",
          "PUDUCHERRY",
          "A & N ISLANDS",
          "TELANGANA"
         ],
         "y": [
          58.01,
          76.6,
          71.34,
          81.38,
          70.7,
          66.77,
          80.93,
          52.66,
          59.26,
          53.33,
          76.43,
          59.57,
          76.69,
          73.17,
          89.4,
          83.15,
          73.78,
          67.27,
          71.16,
          56.21,
          64.36,
          60.59,
          60.02,
          70.73,
          79.59,
          65.93,
          75.48,
          59.74,
          68.13,
          81.84,
          88.25,
          91.98,
          73.86,
          81.22,
          81.84,
          null
         ]
        }
       ],
       "layout": {
        "template": {
         "data": {
          "bar": [
           {
            "error_x": {
             "color": "#2a3f5f"
            },
            "error_y": {
             "color": "#2a3f5f"
            },
            "marker": {
             "line": {
              "color": "#E5ECF6",
              "width": 0.5
             },
             "pattern": {
              "fillmode": "overlay",
              "size": 10,
              "solidity": 0.2
             }
            },
            "type": "bar"
           }
          ],
          "barpolar": [
           {
            "marker": {
             "line": {
              "color": "#E5ECF6",
              "width": 0.5
             },
             "pattern": {
              "fillmode": "overlay",
              "size": 10,
              "solidity": 0.2
             }
            },
            "type": "barpolar"
           }
          ],
          "carpet": [
           {
            "aaxis": {
             "endlinecolor": "#2a3f5f",
             "gridcolor": "white",
             "linecolor": "white",
             "minorgridcolor": "white",
             "startlinecolor": "#2a3f5f"
            },
            "baxis": {
             "endlinecolor": "#2a3f5f",
             "gridcolor": "white",
             "linecolor": "white",
             "minorgridcolor": "white",
             "startlinecolor": "#2a3f5f"
            },
            "type": "carpet"
           }
          ],
          "choropleth": [
           {
            "colorbar": {
             "outlinewidth": 0,
             "ticks": ""
            },
            "type": "choropleth"
           }
          ],
          "contour": [
           {
            "colorbar": {
             "outlinewidth": 0,
             "ticks": ""
            },
            "colorscale": [
             [
              0,
              "#0d0887"
             ],
             [
              0.1111111111111111,
              "#46039f"
             ],
             [
              0.2222222222222222,
              "#7201a8"
             ],
             [
              0.3333333333333333,
              "#9c179e"
             ],
             [
              0.4444444444444444,
              "#bd3786"
             ],
             [
              0.5555555555555556,
              "#d8576b"
             ],
             [
              0.6666666666666666,
              "#ed7953"
             ],
             [
              0.7777777777777778,
              "#fb9f3a"
             ],
             [
              0.8888888888888888,
              "#fdca26"
             ],
             [
              1,
              "#f0f921"
             ]
            ],
            "type": "contour"
           }
          ],
          "contourcarpet": [
           {
            "colorbar": {
             "outlinewidth": 0,
             "ticks": ""
            },
            "type": "contourcarpet"
           }
          ],
          "heatmap": [
           {
            "colorbar": {
             "outlinewidth": 0,
             "ticks": ""
            },
            "colorscale": [
             [
              0,
              "#0d0887"
             ],
             [
              0.1111111111111111,
              "#46039f"
             ],
             [
              0.2222222222222222,
              "#7201a8"
             ],
             [
              0.3333333333333333,
              "#9c179e"
             ],
             [
              0.4444444444444444,
              "#bd3786"
             ],
             [
              0.5555555555555556,
              "#d8576b"
             ],
             [
              0.6666666666666666,
              "#ed7953"
             ],
             [
              0.7777777777777778,
              "#fb9f3a"
             ],
             [
              0.8888888888888888,
              "#fdca26"
             ],
             [
              1,
              "#f0f921"
             ]
            ],
            "type": "heatmap"
           }
          ],
          "heatmapgl": [
           {
            "colorbar": {
             "outlinewidth": 0,
             "ticks": ""
            },
            "colorscale": [
             [
              0,
              "#0d0887"
             ],
             [
              0.1111111111111111,
              "#46039f"
             ],
             [
              0.2222222222222222,
              "#7201a8"
             ],
             [
              0.3333333333333333,
              "#9c179e"
             ],
             [
              0.4444444444444444,
              "#bd3786"
             ],
             [
              0.5555555555555556,
              "#d8576b"
             ],
             [
              0.6666666666666666,
              "#ed7953"
             ],
             [
              0.7777777777777778,
              "#fb9f3a"
             ],
             [
              0.8888888888888888,
              "#fdca26"
             ],
             [
              1,
              "#f0f921"
             ]
            ],
            "type": "heatmapgl"
           }
          ],
          "histogram": [
           {
            "marker": {
             "pattern": {
              "fillmode": "overlay",
              "size": 10,
              "solidity": 0.2
             }
            },
            "type": "histogram"
           }
          ],
          "histogram2d": [
           {
            "colorbar": {
             "outlinewidth": 0,
             "ticks": ""
            },
            "colorscale": [
             [
              0,
              "#0d0887"
             ],
             [
              0.1111111111111111,
              "#46039f"
             ],
             [
              0.2222222222222222,
              "#7201a8"
             ],
             [
              0.3333333333333333,
              "#9c179e"
             ],
             [
              0.4444444444444444,
              "#bd3786"
             ],
             [
              0.5555555555555556,
              "#d8576b"
             ],
             [
              0.6666666666666666,
              "#ed7953"
             ],
             [
              0.7777777777777778,
              "#fb9f3a"
             ],
             [
              0.8888888888888888,
              "#fdca26"
             ],
             [
              1,
              "#f0f921"
             ]
            ],
            "type": "histogram2d"
           }
          ],
          "histogram2dcontour": [
           {
            "colorbar": {
             "outlinewidth": 0,
             "ticks": ""
            },
            "colorscale": [
             [
              0,
              "#0d0887"
             ],
             [
              0.1111111111111111,
              "#46039f"
             ],
             [
              0.2222222222222222,
              "#7201a8"
             ],
             [
              0.3333333333333333,
              "#9c179e"
             ],
             [
              0.4444444444444444,
              "#bd3786"
             ],
             [
              0.5555555555555556,
              "#d8576b"
             ],
             [
              0.6666666666666666,
              "#ed7953"
             ],
             [
              0.7777777777777778,
              "#fb9f3a"
             ],
             [
              0.8888888888888888,
              "#fdca26"
             ],
             [
              1,
              "#f0f921"
             ]
            ],
            "type": "histogram2dcontour"
           }
          ],
          "mesh3d": [
           {
            "colorbar": {
             "outlinewidth": 0,
             "ticks": ""
            },
            "type": "mesh3d"
           }
          ],
          "parcoords": [
           {
            "line": {
             "colorbar": {
              "outlinewidth": 0,
              "ticks": ""
             }
            },
            "type": "parcoords"
           }
          ],
          "pie": [
           {
            "automargin": true,
            "type": "pie"
           }
          ],
          "scatter": [
           {
            "fillpattern": {
             "fillmode": "overlay",
             "size": 10,
             "solidity": 0.2
            },
            "type": "scatter"
           }
          ],
          "scatter3d": [
           {
            "line": {
             "colorbar": {
              "outlinewidth": 0,
              "ticks": ""
             }
            },
            "marker": {
             "colorbar": {
              "outlinewidth": 0,
              "ticks": ""
             }
            },
            "type": "scatter3d"
           }
          ],
          "scattercarpet": [
           {
            "marker": {
             "colorbar": {
              "outlinewidth": 0,
              "ticks": ""
             }
            },
            "type": "scattercarpet"
           }
          ],
          "scattergeo": [
           {
            "marker": {
             "colorbar": {
              "outlinewidth": 0,
              "ticks": ""
             }
            },
            "type": "scattergeo"
           }
          ],
          "scattergl": [
           {
            "marker": {
             "colorbar": {
              "outlinewidth": 0,
              "ticks": ""
             }
            },
            "type": "scattergl"
           }
          ],
          "scattermapbox": [
           {
            "marker": {
             "colorbar": {
              "outlinewidth": 0,
              "ticks": ""
             }
            },
            "type": "scattermapbox"
           }
          ],
          "scatterpolar": [
           {
            "marker": {
             "colorbar": {
              "outlinewidth": 0,
              "ticks": ""
             }
            },
            "type": "scatterpolar"
           }
          ],
          "scatterpolargl": [
           {
            "marker": {
             "colorbar": {
              "outlinewidth": 0,
              "ticks": ""
             }
            },
            "type": "scatterpolargl"
           }
          ],
          "scatterternary": [
           {
            "marker": {
             "colorbar": {
              "outlinewidth": 0,
              "ticks": ""
             }
            },
            "type": "scatterternary"
           }
          ],
          "surface": [
           {
            "colorbar": {
             "outlinewidth": 0,
             "ticks": ""
            },
            "colorscale": [
             [
              0,
              "#0d0887"
             ],
             [
              0.1111111111111111,
              "#46039f"
             ],
             [
              0.2222222222222222,
              "#7201a8"
             ],
             [
              0.3333333333333333,
              "#9c179e"
             ],
             [
              0.4444444444444444,
              "#bd3786"
             ],
             [
              0.5555555555555556,
              "#d8576b"
             ],
             [
              0.6666666666666666,
              "#ed7953"
             ],
             [
              0.7777777777777778,
              "#fb9f3a"
             ],
             [
              0.8888888888888888,
              "#fdca26"
             ],
             [
              1,
              "#f0f921"
             ]
            ],
            "type": "surface"
           }
          ],
          "table": [
           {
            "cells": {
             "fill": {
              "color": "#EBF0F8"
             },
             "line": {
              "color": "white"
             }
            },
            "header": {
             "fill": {
              "color": "#C8D4E3"
             },
             "line": {
              "color": "white"
             }
            },
            "type": "table"
           }
          ]
         },
         "layout": {
          "annotationdefaults": {
           "arrowcolor": "#2a3f5f",
           "arrowhead": 0,
           "arrowwidth": 1
          },
          "autotypenumbers": "strict",
          "coloraxis": {
           "colorbar": {
            "outlinewidth": 0,
            "ticks": ""
           }
          },
          "colorscale": {
           "diverging": [
            [
             0,
             "#8e0152"
            ],
            [
             0.1,
             "#c51b7d"
            ],
            [
             0.2,
             "#de77ae"
            ],
            [
             0.3,
             "#f1b6da"
            ],
            [
             0.4,
             "#fde0ef"
            ],
            [
             0.5,
             "#f7f7f7"
            ],
            [
             0.6,
             "#e6f5d0"
            ],
            [
             0.7,
             "#b8e186"
            ],
            [
             0.8,
             "#7fbc41"
            ],
            [
             0.9,
             "#4d9221"
            ],
            [
             1,
             "#276419"
            ]
           ],
           "sequential": [
            [
             0,
             "#0d0887"
            ],
            [
             0.1111111111111111,
             "#46039f"
            ],
            [
             0.2222222222222222,
             "#7201a8"
            ],
            [
             0.3333333333333333,
             "#9c179e"
            ],
            [
             0.4444444444444444,
             "#bd3786"
            ],
            [
             0.5555555555555556,
             "#d8576b"
            ],
            [
             0.6666666666666666,
             "#ed7953"
            ],
            [
             0.7777777777777778,
             "#fb9f3a"
            ],
            [
             0.8888888888888888,
             "#fdca26"
            ],
            [
             1,
             "#f0f921"
            ]
           ],
           "sequentialminus": [
            [
             0,
             "#0d0887"
            ],
            [
             0.1111111111111111,
             "#46039f"
            ],
            [
             0.2222222222222222,
             "#7201a8"
            ],
            [
             0.3333333333333333,
             "#9c179e"
            ],
            [
             0.4444444444444444,
             "#bd3786"
            ],
            [
             0.5555555555555556,
             "#d8576b"
            ],
            [
             0.6666666666666666,
             "#ed7953"
            ],
            [
             0.7777777777777778,
             "#fb9f3a"
            ],
            [
             0.8888888888888888,
             "#fdca26"
            ],
            [
             1,
             "#f0f921"
            ]
           ]
          },
          "colorway": [
           "#636efa",
           "#EF553B",
           "#00cc96",
           "#ab63fa",
           "#FFA15A",
           "#19d3f3",
           "#FF6692",
           "#B6E880",
           "#FF97FF",
           "#FECB52"
          ],
          "font": {
           "color": "#2a3f5f"
          },
          "geo": {
           "bgcolor": "white",
           "lakecolor": "white",
           "landcolor": "#E5ECF6",
           "showlakes": true,
           "showland": true,
           "subunitcolor": "white"
          },
          "hoverlabel": {
           "align": "left"
          },
          "hovermode": "closest",
          "mapbox": {
           "style": "light"
          },
          "paper_bgcolor": "white",
          "plot_bgcolor": "#E5ECF6",
          "polar": {
           "angularaxis": {
            "gridcolor": "white",
            "linecolor": "white",
            "ticks": ""
           },
           "bgcolor": "#E5ECF6",
           "radialaxis": {
            "gridcolor": "white",
            "linecolor": "white",
            "ticks": ""
           }
          },
          "scene": {
           "xaxis": {
            "backgroundcolor": "#E5ECF6",
            "gridcolor": "white",
            "gridwidth": 2,
            "linecolor": "white",
            "showbackground": true,
            "ticks": "",
            "zerolinecolor": "white"
           },
           "yaxis": {
            "backgroundcolor": "#E5ECF6",
            "gridcolor": "white",
            "gridwidth": 2,
            "linecolor": "white",
            "showbackground": true,
            "ticks": "",
            "zerolinecolor": "white"
           },
           "zaxis": {
            "backgroundcolor": "#E5ECF6",
            "gridcolor": "white",
            "gridwidth": 2,
            "linecolor": "white",
            "showbackground": true,
            "ticks": "",
            "zerolinecolor": "white"
           }
          },
          "shapedefaults": {
           "line": {
            "color": "#2a3f5f"
           }
          },
          "ternary": {
           "aaxis": {
            "gridcolor": "white",
            "linecolor": "white",
            "ticks": ""
           },
           "baxis": {
            "gridcolor": "white",
            "linecolor": "white",
            "ticks": ""
           },
           "bgcolor": "#E5ECF6",
           "caxis": {
            "gridcolor": "white",
            "linecolor": "white",
            "ticks": ""
           }
          },
          "title": {
           "x": 0.05
          },
          "xaxis": {
           "automargin": true,
           "gridcolor": "white",
           "linecolor": "white",
           "ticks": "",
           "title": {
            "standoff": 15
           },
           "zerolinecolor": "white",
           "zerolinewidth": 2
          },
          "yaxis": {
           "automargin": true,
           "gridcolor": "white",
           "linecolor": "white",
           "ticks": "",
           "title": {
            "standoff": 15
           },
           "zerolinecolor": "white",
           "zerolinewidth": 2
          }
         }
        },
        "title": {
         "text": "Statewise literacy rate in India"
        },
        "xaxis": {
         "tickangle": 90,
         "ticklen": 5,
         "zeroline": false
        },
        "yaxis": {
         "title": {
          "text": "Statewise literacy rate"
         }
        }
       }
      },
      "text/html": [
       "<div>                            <div id=\"fb2d086e-9a1c-46de-a9d1-98e2833b7036\" class=\"plotly-graph-div\" style=\"height:525px; width:100%;\"></div>            <script type=\"text/javascript\">                require([\"plotly\"], function(Plotly) {                    window.PLOTLYENV=window.PLOTLYENV || {};                                    if (document.getElementById(\"fb2d086e-9a1c-46de-a9d1-98e2833b7036\")) {                    Plotly.newPlot(                        \"fb2d086e-9a1c-46de-a9d1-98e2833b7036\",                        [{\"line\":{\"color\":\"rgba(255,10,10, 0.8)\",\"width\":1},\"mode\":\"lines+markers\",\"name\":\"Elementary literacy\",\"x\":[\"JAMMU & KASHMIR\",\"HIMACHAL PRADESH\",\"PUNJAB\",\"CHANDIGARH\",\"UTTARAKHAND\",\"HARYANA\",\"DELHI\",\"RAJASTHAN\",\"UTTAR PRADESH\",\"BIHAR\",\"SIKKIM\",\"ARUNACHAL PRADESH\",\"NAGALAND\",\"MANIPUR\",\"MIZORAM\",\"TRIPURA\",\"MEGHALAYA\",\"ASSAM\",\"WEST BENGAL\",\"JHARKHAND\",\"ODISHA\",\"CHHATTISGARH\",\"MADHYA PRADESH\",\"GUJARAT\",\"DAMAN & DIU\",\"DADRA & NAGAR HAVELI\",\"MAHARASHTRA\",\"ANDHRA PRADESH\",\"KARNATAKA\",\"GOA\",\"LAKSHADWEEP\",\"KERALA\",\"TAMIL NADU\",\"PUDUCHERRY\",\"A & N ISLANDS\",\"TELANGANA\"],\"y\":[68.74,83.78,76.68,86.43,79.63,76.64,86.34,67.06,69.72,63.82,82.2,66.95,80.11,79.85,91.58,87.75,75.48,73.18,77.08,67.63,73.45,71.04,70.63,79.31,87.07,77.65,82.91,67.66,75.6,87.4,92.28,93.91,80.3,86.55,86.27,66.46],\"type\":\"scatter\"},{\"line\":{\"width\":1},\"mode\":\"lines+markers\",\"name\":\"Elelmentary male literacy\",\"x\":[\"JAMMU & KASHMIR\",\"HIMACHAL PRADESH\",\"PUNJAB\",\"CHANDIGARH\",\"UTTARAKHAND\",\"HARYANA\",\"DELHI\",\"RAJASTHAN\",\"UTTAR PRADESH\",\"BIHAR\",\"SIKKIM\",\"ARUNACHAL PRADESH\",\"NAGALAND\",\"MANIPUR\",\"MIZORAM\",\"TRIPURA\",\"MEGHALAYA\",\"ASSAM\",\"WEST BENGAL\",\"JHARKHAND\",\"ODISHA\",\"CHHATTISGARH\",\"MADHYA PRADESH\",\"GUJARAT\",\"DAMAN & DIU\",\"DADRA & NAGAR HAVELI\",\"MAHARASHTRA\",\"ANDHRA PRADESH\",\"KARNATAKA\",\"GOA\",\"LAKSHADWEEP\",\"KERALA\",\"TAMIL NADU\",\"PUDUCHERRY\",\"A & N ISLANDS\",\"TELANGANA\"],\"y\":[78.26,90.83,81.48,90.54,88.33,85.38,91.03,80.51,79.24,73.39,87.29,73.69,83.29,86.49,93.72,92.18,77.17,78.81,82.67,78.45,82.4,81.45,80.53,87.23,91.48,86.46,89.82,75.56,82.85,92.81,96.11,96.02,86.81,92.12,90.11,74.95],\"type\":\"scatter\"},{\"line\":{\"dash\":\"dash\",\"width\":1},\"mode\":\"lines+markers\",\"name\":\"Elelmentary female literacy\",\"x\":[\"JAMMU & KASHMIR\",\"HIMACHAL PRADESH\",\"PUNJAB\",\"CHANDIGARH\",\"UTTARAKHAND\",\"HARYANA\",\"DELHI\",\"RAJASTHAN\",\"UTTAR PRADESH\",\"BIHAR\",\"SIKKIM\",\"ARUNACHAL PRADESH\",\"NAGALAND\",\"MANIPUR\",\"MIZORAM\",\"TRIPURA\",\"MEGHALAYA\",\"ASSAM\",\"WEST BENGAL\",\"JHARKHAND\",\"ODISHA\",\"CHHATTISGARH\",\"MADHYA PRADESH\",\"GUJARAT\",\"DAMAN & DIU\",\"DADRA & NAGAR HAVELI\",\"MAHARASHTRA\",\"ANDHRA PRADESH\",\"KARNATAKA\",\"GOA\",\"LAKSHADWEEP\",\"KERALA\",\"TAMIL NADU\",\"PUDUCHERRY\",\"A & N ISLANDS\",\"TELANGANA\"],\"y\":[58.01,76.6,71.34,81.38,70.7,66.77,80.93,52.66,59.26,53.33,76.43,59.57,76.69,73.17,89.4,83.15,73.78,67.27,71.16,56.21,64.36,60.59,60.02,70.73,79.59,65.93,75.48,59.74,68.13,81.84,88.25,91.98,73.86,81.22,81.84,57.92],\"type\":\"scatter\"},{\"line\":{\"dash\":\"dash\",\"width\":1},\"mode\":\"lines+markers\",\"name\":\"secondary literacy rate\",\"x\":[\"JAMMU & KASHMIR\",\"HIMACHAL PRADESH\",\"PUNJAB\",\"CHANDIGARH\",\"UTTARAKHAND\",\"HARYANA\",\"DELHI\",\"RAJASTHAN\",\"UTTAR PRADESH\",\"BIHAR\",\"SIKKIM\",\"ARUNACHAL PRADESH\",\"NAGALAND\",\"MANIPUR\",\"MIZORAM\",\"TRIPURA\",\"MEGHALAYA\",\"ASSAM\",\"WEST BENGAL\",\"JHARKHAND\",\"ODISHA\",\"CHHATTISGARH\",\"MADHYA PRADESH\",\"GUJARAT\",\"DAMAN & DIU\",\"DADRA & NAGAR HAVELI\",\"MAHARASHTRA\",\"ANDHRA PRADESH\",\"KARNATAKA\",\"GOA\",\"LAKSHADWEEP\",\"KERALA\",\"TAMIL NADU\",\"PUDUCHERRY\",\"A & N ISLANDS\",\"TELANGANA\"],\"y\":[68.74,83.78,76.68,86.43,79.63,76.64,86.34,67.06,69.72,63.82,82.2,66.95,80.11,79.85,91.58,87.75,75.48,73.18,77.08,67.63,73.45,71.04,70.63,79.31,87.07,77.65,82.91,67.66,75.6,87.4,92.28,93.91,80.33,86.55,86.27,null],\"type\":\"scatter\"},{\"line\":{\"dash\":\"dot\",\"width\":1},\"mode\":\"lines+markers\",\"name\":\"secondary male literacy rate\",\"x\":[\"JAMMU & KASHMIR\",\"HIMACHAL PRADESH\",\"PUNJAB\",\"CHANDIGARH\",\"UTTARAKHAND\",\"HARYANA\",\"DELHI\",\"RAJASTHAN\",\"UTTAR PRADESH\",\"BIHAR\",\"SIKKIM\",\"ARUNACHAL PRADESH\",\"NAGALAND\",\"MANIPUR\",\"MIZORAM\",\"TRIPURA\",\"MEGHALAYA\",\"ASSAM\",\"WEST BENGAL\",\"JHARKHAND\",\"ODISHA\",\"CHHATTISGARH\",\"MADHYA PRADESH\",\"GUJARAT\",\"DAMAN & DIU\",\"DADRA & NAGAR HAVELI\",\"MAHARASHTRA\",\"ANDHRA PRADESH\",\"KARNATAKA\",\"GOA\",\"LAKSHADWEEP\",\"KERALA\",\"TAMIL NADU\",\"PUDUCHERRY\",\"A & N ISLANDS\",\"TELANGANA\"],\"y\":[78.26,90.83,81.48,90.54,88.33,85.38,91.03,80.51,79.24,73.39,87.29,73.69,83.29,86.49,93.72,92.18,77.17,78.81,82.67,78.45,82.4,81.45,80.53,87.23,91.48,86.46,89.82,75.56,82.85,92.81,96.11,96.02,86.81,92.12,90.11,null],\"type\":\"scatter\"},{\"line\":{\"dash\":\"dot\",\"width\":1},\"mode\":\"lines+markers\",\"name\":\"secondary female literacy rate\",\"x\":[\"JAMMU & KASHMIR\",\"HIMACHAL PRADESH\",\"PUNJAB\",\"CHANDIGARH\",\"UTTARAKHAND\",\"HARYANA\",\"DELHI\",\"RAJASTHAN\",\"UTTAR PRADESH\",\"BIHAR\",\"SIKKIM\",\"ARUNACHAL PRADESH\",\"NAGALAND\",\"MANIPUR\",\"MIZORAM\",\"TRIPURA\",\"MEGHALAYA\",\"ASSAM\",\"WEST BENGAL\",\"JHARKHAND\",\"ODISHA\",\"CHHATTISGARH\",\"MADHYA PRADESH\",\"GUJARAT\",\"DAMAN & DIU\",\"DADRA & NAGAR HAVELI\",\"MAHARASHTRA\",\"ANDHRA PRADESH\",\"KARNATAKA\",\"GOA\",\"LAKSHADWEEP\",\"KERALA\",\"TAMIL NADU\",\"PUDUCHERRY\",\"A & N ISLANDS\",\"TELANGANA\"],\"y\":[58.01,76.6,71.34,81.38,70.7,66.77,80.93,52.66,59.26,53.33,76.43,59.57,76.69,73.17,89.4,83.15,73.78,67.27,71.16,56.21,64.36,60.59,60.02,70.73,79.59,65.93,75.48,59.74,68.13,81.84,88.25,91.98,73.86,81.22,81.84,null],\"type\":\"scatter\"}],                        {\"template\":{\"data\":{\"barpolar\":[{\"marker\":{\"line\":{\"color\":\"#E5ECF6\",\"width\":0.5},\"pattern\":{\"fillmode\":\"overlay\",\"size\":10,\"solidity\":0.2}},\"type\":\"barpolar\"}],\"bar\":[{\"error_x\":{\"color\":\"#2a3f5f\"},\"error_y\":{\"color\":\"#2a3f5f\"},\"marker\":{\"line\":{\"color\":\"#E5ECF6\",\"width\":0.5},\"pattern\":{\"fillmode\":\"overlay\",\"size\":10,\"solidity\":0.2}},\"type\":\"bar\"}],\"carpet\":[{\"aaxis\":{\"endlinecolor\":\"#2a3f5f\",\"gridcolor\":\"white\",\"linecolor\":\"white\",\"minorgridcolor\":\"white\",\"startlinecolor\":\"#2a3f5f\"},\"baxis\":{\"endlinecolor\":\"#2a3f5f\",\"gridcolor\":\"white\",\"linecolor\":\"white\",\"minorgridcolor\":\"white\",\"startlinecolor\":\"#2a3f5f\"},\"type\":\"carpet\"}],\"choropleth\":[{\"colorbar\":{\"outlinewidth\":0,\"ticks\":\"\"},\"type\":\"choropleth\"}],\"contourcarpet\":[{\"colorbar\":{\"outlinewidth\":0,\"ticks\":\"\"},\"type\":\"contourcarpet\"}],\"contour\":[{\"colorbar\":{\"outlinewidth\":0,\"ticks\":\"\"},\"colorscale\":[[0.0,\"#0d0887\"],[0.1111111111111111,\"#46039f\"],[0.2222222222222222,\"#7201a8\"],[0.3333333333333333,\"#9c179e\"],[0.4444444444444444,\"#bd3786\"],[0.5555555555555556,\"#d8576b\"],[0.6666666666666666,\"#ed7953\"],[0.7777777777777778,\"#fb9f3a\"],[0.8888888888888888,\"#fdca26\"],[1.0,\"#f0f921\"]],\"type\":\"contour\"}],\"heatmapgl\":[{\"colorbar\":{\"outlinewidth\":0,\"ticks\":\"\"},\"colorscale\":[[0.0,\"#0d0887\"],[0.1111111111111111,\"#46039f\"],[0.2222222222222222,\"#7201a8\"],[0.3333333333333333,\"#9c179e\"],[0.4444444444444444,\"#bd3786\"],[0.5555555555555556,\"#d8576b\"],[0.6666666666666666,\"#ed7953\"],[0.7777777777777778,\"#fb9f3a\"],[0.8888888888888888,\"#fdca26\"],[1.0,\"#f0f921\"]],\"type\":\"heatmapgl\"}],\"heatmap\":[{\"colorbar\":{\"outlinewidth\":0,\"ticks\":\"\"},\"colorscale\":[[0.0,\"#0d0887\"],[0.1111111111111111,\"#46039f\"],[0.2222222222222222,\"#7201a8\"],[0.3333333333333333,\"#9c179e\"],[0.4444444444444444,\"#bd3786\"],[0.5555555555555556,\"#d8576b\"],[0.6666666666666666,\"#ed7953\"],[0.7777777777777778,\"#fb9f3a\"],[0.8888888888888888,\"#fdca26\"],[1.0,\"#f0f921\"]],\"type\":\"heatmap\"}],\"histogram2dcontour\":[{\"colorbar\":{\"outlinewidth\":0,\"ticks\":\"\"},\"colorscale\":[[0.0,\"#0d0887\"],[0.1111111111111111,\"#46039f\"],[0.2222222222222222,\"#7201a8\"],[0.3333333333333333,\"#9c179e\"],[0.4444444444444444,\"#bd3786\"],[0.5555555555555556,\"#d8576b\"],[0.6666666666666666,\"#ed7953\"],[0.7777777777777778,\"#fb9f3a\"],[0.8888888888888888,\"#fdca26\"],[1.0,\"#f0f921\"]],\"type\":\"histogram2dcontour\"}],\"histogram2d\":[{\"colorbar\":{\"outlinewidth\":0,\"ticks\":\"\"},\"colorscale\":[[0.0,\"#0d0887\"],[0.1111111111111111,\"#46039f\"],[0.2222222222222222,\"#7201a8\"],[0.3333333333333333,\"#9c179e\"],[0.4444444444444444,\"#bd3786\"],[0.5555555555555556,\"#d8576b\"],[0.6666666666666666,\"#ed7953\"],[0.7777777777777778,\"#fb9f3a\"],[0.8888888888888888,\"#fdca26\"],[1.0,\"#f0f921\"]],\"type\":\"histogram2d\"}],\"histogram\":[{\"marker\":{\"pattern\":{\"fillmode\":\"overlay\",\"size\":10,\"solidity\":0.2}},\"type\":\"histogram\"}],\"mesh3d\":[{\"colorbar\":{\"outlinewidth\":0,\"ticks\":\"\"},\"type\":\"mesh3d\"}],\"parcoords\":[{\"line\":{\"colorbar\":{\"outlinewidth\":0,\"ticks\":\"\"}},\"type\":\"parcoords\"}],\"pie\":[{\"automargin\":true,\"type\":\"pie\"}],\"scatter3d\":[{\"line\":{\"colorbar\":{\"outlinewidth\":0,\"ticks\":\"\"}},\"marker\":{\"colorbar\":{\"outlinewidth\":0,\"ticks\":\"\"}},\"type\":\"scatter3d\"}],\"scattercarpet\":[{\"marker\":{\"colorbar\":{\"outlinewidth\":0,\"ticks\":\"\"}},\"type\":\"scattercarpet\"}],\"scattergeo\":[{\"marker\":{\"colorbar\":{\"outlinewidth\":0,\"ticks\":\"\"}},\"type\":\"scattergeo\"}],\"scattergl\":[{\"marker\":{\"colorbar\":{\"outlinewidth\":0,\"ticks\":\"\"}},\"type\":\"scattergl\"}],\"scattermapbox\":[{\"marker\":{\"colorbar\":{\"outlinewidth\":0,\"ticks\":\"\"}},\"type\":\"scattermapbox\"}],\"scatterpolargl\":[{\"marker\":{\"colorbar\":{\"outlinewidth\":0,\"ticks\":\"\"}},\"type\":\"scatterpolargl\"}],\"scatterpolar\":[{\"marker\":{\"colorbar\":{\"outlinewidth\":0,\"ticks\":\"\"}},\"type\":\"scatterpolar\"}],\"scatter\":[{\"fillpattern\":{\"fillmode\":\"overlay\",\"size\":10,\"solidity\":0.2},\"type\":\"scatter\"}],\"scatterternary\":[{\"marker\":{\"colorbar\":{\"outlinewidth\":0,\"ticks\":\"\"}},\"type\":\"scatterternary\"}],\"surface\":[{\"colorbar\":{\"outlinewidth\":0,\"ticks\":\"\"},\"colorscale\":[[0.0,\"#0d0887\"],[0.1111111111111111,\"#46039f\"],[0.2222222222222222,\"#7201a8\"],[0.3333333333333333,\"#9c179e\"],[0.4444444444444444,\"#bd3786\"],[0.5555555555555556,\"#d8576b\"],[0.6666666666666666,\"#ed7953\"],[0.7777777777777778,\"#fb9f3a\"],[0.8888888888888888,\"#fdca26\"],[1.0,\"#f0f921\"]],\"type\":\"surface\"}],\"table\":[{\"cells\":{\"fill\":{\"color\":\"#EBF0F8\"},\"line\":{\"color\":\"white\"}},\"header\":{\"fill\":{\"color\":\"#C8D4E3\"},\"line\":{\"color\":\"white\"}},\"type\":\"table\"}]},\"layout\":{\"annotationdefaults\":{\"arrowcolor\":\"#2a3f5f\",\"arrowhead\":0,\"arrowwidth\":1},\"autotypenumbers\":\"strict\",\"coloraxis\":{\"colorbar\":{\"outlinewidth\":0,\"ticks\":\"\"}},\"colorscale\":{\"diverging\":[[0,\"#8e0152\"],[0.1,\"#c51b7d\"],[0.2,\"#de77ae\"],[0.3,\"#f1b6da\"],[0.4,\"#fde0ef\"],[0.5,\"#f7f7f7\"],[0.6,\"#e6f5d0\"],[0.7,\"#b8e186\"],[0.8,\"#7fbc41\"],[0.9,\"#4d9221\"],[1,\"#276419\"]],\"sequential\":[[0.0,\"#0d0887\"],[0.1111111111111111,\"#46039f\"],[0.2222222222222222,\"#7201a8\"],[0.3333333333333333,\"#9c179e\"],[0.4444444444444444,\"#bd3786\"],[0.5555555555555556,\"#d8576b\"],[0.6666666666666666,\"#ed7953\"],[0.7777777777777778,\"#fb9f3a\"],[0.8888888888888888,\"#fdca26\"],[1.0,\"#f0f921\"]],\"sequentialminus\":[[0.0,\"#0d0887\"],[0.1111111111111111,\"#46039f\"],[0.2222222222222222,\"#7201a8\"],[0.3333333333333333,\"#9c179e\"],[0.4444444444444444,\"#bd3786\"],[0.5555555555555556,\"#d8576b\"],[0.6666666666666666,\"#ed7953\"],[0.7777777777777778,\"#fb9f3a\"],[0.8888888888888888,\"#fdca26\"],[1.0,\"#f0f921\"]]},\"colorway\":[\"#636efa\",\"#EF553B\",\"#00cc96\",\"#ab63fa\",\"#FFA15A\",\"#19d3f3\",\"#FF6692\",\"#B6E880\",\"#FF97FF\",\"#FECB52\"],\"font\":{\"color\":\"#2a3f5f\"},\"geo\":{\"bgcolor\":\"white\",\"lakecolor\":\"white\",\"landcolor\":\"#E5ECF6\",\"showlakes\":true,\"showland\":true,\"subunitcolor\":\"white\"},\"hoverlabel\":{\"align\":\"left\"},\"hovermode\":\"closest\",\"mapbox\":{\"style\":\"light\"},\"paper_bgcolor\":\"white\",\"plot_bgcolor\":\"#E5ECF6\",\"polar\":{\"angularaxis\":{\"gridcolor\":\"white\",\"linecolor\":\"white\",\"ticks\":\"\"},\"bgcolor\":\"#E5ECF6\",\"radialaxis\":{\"gridcolor\":\"white\",\"linecolor\":\"white\",\"ticks\":\"\"}},\"scene\":{\"xaxis\":{\"backgroundcolor\":\"#E5ECF6\",\"gridcolor\":\"white\",\"gridwidth\":2,\"linecolor\":\"white\",\"showbackground\":true,\"ticks\":\"\",\"zerolinecolor\":\"white\"},\"yaxis\":{\"backgroundcolor\":\"#E5ECF6\",\"gridcolor\":\"white\",\"gridwidth\":2,\"linecolor\":\"white\",\"showbackground\":true,\"ticks\":\"\",\"zerolinecolor\":\"white\"},\"zaxis\":{\"backgroundcolor\":\"#E5ECF6\",\"gridcolor\":\"white\",\"gridwidth\":2,\"linecolor\":\"white\",\"showbackground\":true,\"ticks\":\"\",\"zerolinecolor\":\"white\"}},\"shapedefaults\":{\"line\":{\"color\":\"#2a3f5f\"}},\"ternary\":{\"aaxis\":{\"gridcolor\":\"white\",\"linecolor\":\"white\",\"ticks\":\"\"},\"baxis\":{\"gridcolor\":\"white\",\"linecolor\":\"white\",\"ticks\":\"\"},\"bgcolor\":\"#E5ECF6\",\"caxis\":{\"gridcolor\":\"white\",\"linecolor\":\"white\",\"ticks\":\"\"}},\"title\":{\"x\":0.05},\"xaxis\":{\"automargin\":true,\"gridcolor\":\"white\",\"linecolor\":\"white\",\"ticks\":\"\",\"title\":{\"standoff\":15},\"zerolinecolor\":\"white\",\"zerolinewidth\":2},\"yaxis\":{\"automargin\":true,\"gridcolor\":\"white\",\"linecolor\":\"white\",\"ticks\":\"\",\"title\":{\"standoff\":15},\"zerolinecolor\":\"white\",\"zerolinewidth\":2}}},\"title\":{\"text\":\"Statewise literacy rate in India\"},\"xaxis\":{\"tickangle\":90,\"ticklen\":5,\"zeroline\":false},\"yaxis\":{\"title\":{\"text\":\"Statewise literacy rate\"}}},                        {\"responsive\": true}                    ).then(function(){\n",
       "                            \n",
       "var gd = document.getElementById('fb2d086e-9a1c-46de-a9d1-98e2833b7036');\n",
       "var x = new MutationObserver(function (mutations, observer) {{\n",
       "        var display = window.getComputedStyle(gd).display;\n",
       "        if (!display || display === 'none') {{\n",
       "            console.log([gd, 'removed!']);\n",
       "            Plotly.purge(gd);\n",
       "            observer.disconnect();\n",
       "        }}\n",
       "}});\n",
       "\n",
       "// Listen for the removal of the full notebook cells\n",
       "var notebookContainer = gd.closest('#notebook-container');\n",
       "if (notebookContainer) {{\n",
       "    x.observe(notebookContainer, {childList: true});\n",
       "}}\n",
       "\n",
       "// Listen for the clearing of the current output cell\n",
       "var outputEl = gd.closest('.output');\n",
       "if (outputEl) {{\n",
       "    x.observe(outputEl, {childList: true});\n",
       "}}\n",
       "\n",
       "                        })                };                });            </script>        </div>"
      ]
     },
     "metadata": {},
     "output_type": "display_data"
    }
   ],
   "source": [
    "# Create and style traces\n",
    "trace0 = go.Scatter(\n",
    "    x = df_ele.STATNAME,\n",
    "    y = df_ele.OVERALL_LI,\n",
    "    mode = \"lines+markers\",\n",
    "    name = 'Elementary literacy',\n",
    "    line = dict(\n",
    "        color = ('rgba(255,10,10, 0.8)'),\n",
    "        width = 1)\n",
    ")\n",
    "trace1 = go.Scatter(\n",
    "    x = df_ele.STATNAME,\n",
    "    y = df_ele.MALE_LIT,\n",
    "    mode = \"lines+markers\",\n",
    "    name = 'Elelmentary male literacy',\n",
    "    line = dict(\n",
    "        width = 1)\n",
    ")\n",
    "\n",
    "trace2 = go.Scatter(\n",
    "    x = df_ele.STATNAME,\n",
    "    y = df_ele.FEMALE_LIT,\n",
    "    mode = \"lines+markers\",\n",
    "    name = 'Elelmentary female literacy',\n",
    "    line = dict(\n",
    "        width = 1,\n",
    "        dash = 'dash') # dash options include 'dash', 'dot', and 'dashdot'\n",
    ")\n",
    "trace3 = go.Scatter(\n",
    "    x = df_ele.STATNAME,\n",
    "    y = df_sec.literacy_rate,\n",
    "    mode = \"lines+markers\",\n",
    "    name = 'secondary literacy rate',\n",
    "    line = dict(\n",
    "        width = 1,\n",
    "        dash = 'dash')\n",
    ")\n",
    "trace4 = go.Scatter(\n",
    "    x = df_ele.STATNAME,\n",
    "    mode = \"lines+markers\",\n",
    "    y = df_sec.male_literacy_rate,\n",
    "    name = 'secondary male literacy rate',\n",
    "    line = dict(\n",
    "        width = 1,\n",
    "        dash = 'dot')\n",
    ")\n",
    "\n",
    "trace5 = go.Scatter(\n",
    "    x = df_ele.STATNAME,\n",
    "    y = df_sec.female_literacy_rate,\n",
    "    mode = \"lines+markers\",\n",
    "    name = 'secondary female literacy rate',\n",
    "    line = dict(\n",
    "        width = 1,\n",
    "        dash = 'dot')\n",
    ")\n",
    "data = [trace0, trace1, trace2, trace3, trace4, trace5]\n",
    "\n",
    "# Edit the layout\n",
    "layout = dict(title = 'Statewise literacy rate in India',\n",
    "                      xaxis= dict(\n",
    "                          ticklen= 5,\n",
    "                          tickangle=90,\n",
    "                          zeroline= False),\n",
    "\n",
    "                      yaxis=dict(\n",
    "                            title='Statewise literacy rate'\n",
    "                        )\n",
    "                     )\n",
    "\n",
    "fig = dict(data=data, layout=layout)\n",
    "iplot(fig)"
   ]
  },
  {
   "cell_type": "code",
   "execution_count": 41,
   "metadata": {},
   "outputs": [],
   "source": [
    "#add columns total_number of district\n",
    "district_dic = {'WEST BENGAL':23,\n",
    "'UTTARAKHAND':13,\n",
    "'UTTAR PRADESH':75,\n",
    "'TRIPURA':8,\n",
    "'TELANGANA':31,\n",
    "'TAMIL NADU':32,\n",
    "'SIKKIM':4,\n",
    "'RAJASTHAN':33,\n",
    "'PUNJAB':22,\n",
    "'PUDUCHERRY':4,\n",
    "'ODISHA':30,\n",
    "'DELHI':11,\n",
    "'NAGALAND':11,\n",
    "'MIZORAM':8,\n",
    "'MEGHALAYA':11,\n",
    "'MANIPUR':16,\n",
    "'MAHARASHTRA':36,\n",
    "'MADHYA PRADESH':51,\n",
    "'LAKSHADWEEP':1,\n",
    "'KERALA':14,\n",
    "'KARNATAKA':30,\n",
    "'JHARKHAND':24,\n",
    "'JAMMU & KASHMIR':22,\n",
    "'HIMACHAL PRADESH':12,\n",
    "'HARYANA':22,\n",
    "'GUJARAT':33,\n",
    "'GOA':2,\n",
    "'DAMAN & DIU':2,\n",
    "'DADRA & NAGAR HAVELI':1,\n",
    "'CHHATTISGARH':27,\n",
    "'CHANDIGARH':1,\n",
    "'BIHAR':38,\n",
    "'ASSAM':33,\n",
    "'ARUNACHAL PRADESH':21,\n",
    "'ANDHRA PRADESH':13,\n",
    "'A & N ISLANDS':3}"
   ]
  },
  {
   "cell_type": "code",
   "execution_count": 42,
   "metadata": {},
   "outputs": [],
   "source": [
    "df_ele['TOT_DISTRICT'] = df_ele['STATNAME'].map(district_dic)\n"
   ]
  },
  {
   "cell_type": "code",
   "execution_count": 43,
   "metadata": {},
   "outputs": [
    {
     "data": {
      "text/html": [
       "<div>\n",
       "<style scoped>\n",
       "    .dataframe tbody tr th:only-of-type {\n",
       "        vertical-align: middle;\n",
       "    }\n",
       "\n",
       "    .dataframe tbody tr th {\n",
       "        vertical-align: top;\n",
       "    }\n",
       "\n",
       "    .dataframe thead th {\n",
       "        text-align: right;\n",
       "    }\n",
       "</style>\n",
       "<table border=\"1\" class=\"dataframe\">\n",
       "  <thead>\n",
       "    <tr style=\"text-align: right;\">\n",
       "      <th></th>\n",
       "      <th>AC_YEAR</th>\n",
       "      <th>STATCD</th>\n",
       "      <th>STATNAME</th>\n",
       "      <th>DISTRICTS</th>\n",
       "      <th>BLOCKS</th>\n",
       "      <th>VILLAGES</th>\n",
       "      <th>CLUSTERS</th>\n",
       "      <th>TOTPOPULAT</th>\n",
       "      <th>P_URB_POP</th>\n",
       "      <th>POPULATION_0_6</th>\n",
       "      <th>...</th>\n",
       "      <th>TCHINV</th>\n",
       "      <th>TOTCLS1G</th>\n",
       "      <th>TOTCLS2G</th>\n",
       "      <th>TOTCLS3G</th>\n",
       "      <th>TOTCLS4G</th>\n",
       "      <th>TOTCLS5G</th>\n",
       "      <th>TOTCLS6G</th>\n",
       "      <th>TOTCLS7G</th>\n",
       "      <th>TOT_DISTRICT</th>\n",
       "      <th>PER_DIST</th>\n",
       "    </tr>\n",
       "  </thead>\n",
       "  <tbody>\n",
       "    <tr>\n",
       "      <th>0</th>\n",
       "      <td>2015-16</td>\n",
       "      <td>1</td>\n",
       "      <td>JAMMU &amp; KASHMIR</td>\n",
       "      <td>22</td>\n",
       "      <td>201</td>\n",
       "      <td>7263</td>\n",
       "      <td>1628</td>\n",
       "      <td>12549</td>\n",
       "      <td>20.05</td>\n",
       "      <td>16.01</td>\n",
       "      <td>...</td>\n",
       "      <td>1946</td>\n",
       "      <td>41171</td>\n",
       "      <td>62474</td>\n",
       "      <td>7878</td>\n",
       "      <td>564</td>\n",
       "      <td>495</td>\n",
       "      <td>24326</td>\n",
       "      <td>2001</td>\n",
       "      <td>22</td>\n",
       "      <td>100.0</td>\n",
       "    </tr>\n",
       "    <tr>\n",
       "      <th>1</th>\n",
       "      <td>2015-16</td>\n",
       "      <td>2</td>\n",
       "      <td>HIMACHAL PRADESH</td>\n",
       "      <td>12</td>\n",
       "      <td>124</td>\n",
       "      <td>10120</td>\n",
       "      <td>2243</td>\n",
       "      <td>6857</td>\n",
       "      <td>8.69</td>\n",
       "      <td>11.14</td>\n",
       "      <td>...</td>\n",
       "      <td>3053</td>\n",
       "      <td>38307</td>\n",
       "      <td>6930</td>\n",
       "      <td>6909</td>\n",
       "      <td>6498</td>\n",
       "      <td>5445</td>\n",
       "      <td>6151</td>\n",
       "      <td>2717</td>\n",
       "      <td>12</td>\n",
       "      <td>100.0</td>\n",
       "    </tr>\n",
       "  </tbody>\n",
       "</table>\n",
       "<p>2 rows × 818 columns</p>\n",
       "</div>"
      ],
      "text/plain": [
       "   AC_YEAR  STATCD          STATNAME  DISTRICTS  BLOCKS  VILLAGES  CLUSTERS  \\\n",
       "0  2015-16       1   JAMMU & KASHMIR         22     201      7263      1628   \n",
       "1  2015-16       2  HIMACHAL PRADESH         12     124     10120      2243   \n",
       "\n",
       "   TOTPOPULAT  P_URB_POP  POPULATION_0_6  ...  TCHINV  TOTCLS1G  TOTCLS2G  \\\n",
       "0       12549      20.05           16.01  ...    1946     41171     62474   \n",
       "1        6857       8.69           11.14  ...    3053     38307      6930   \n",
       "\n",
       "   TOTCLS3G  TOTCLS4G  TOTCLS5G  TOTCLS6G  TOTCLS7G  TOT_DISTRICT  PER_DIST  \n",
       "0      7878       564       495     24326      2001            22     100.0  \n",
       "1      6909      6498      5445      6151      2717            12     100.0  \n",
       "\n",
       "[2 rows x 818 columns]"
      ]
     },
     "execution_count": 43,
     "metadata": {},
     "output_type": "execute_result"
    }
   ],
   "source": [
    "#df_ele['PER_DIST'] = df_ele.apply(lambda x: (df_ele['DISTRICTS']*100)/df_ele['TOT_DISTRICT'])\n",
    "df_ele['PER_DIST'] = (df_ele.DISTRICTS * 100)/df_ele.TOT_DISTRICT\n",
    "df_ele.head(2)"
   ]
  },
  {
   "cell_type": "code",
   "execution_count": 44,
   "metadata": {},
   "outputs": [
    {
     "data": {
      "application/vnd.plotly.v1+json": {
       "config": {
        "linkText": "Export to plot.ly",
        "plotlyServerURL": "https://plot.ly",
        "showLink": false
       },
       "data": [
        {
         "mode": "lines+markers",
         "name": "District count",
         "text": [
          "JAMMU & KASHMIR",
          "HIMACHAL PRADESH",
          "PUNJAB",
          "CHANDIGARH",
          "UTTARAKHAND",
          "HARYANA",
          "DELHI",
          "RAJASTHAN",
          "UTTAR PRADESH",
          "BIHAR",
          "SIKKIM",
          "ARUNACHAL PRADESH",
          "NAGALAND",
          "MANIPUR",
          "MIZORAM",
          "TRIPURA",
          "MEGHALAYA",
          "ASSAM",
          "WEST BENGAL",
          "JHARKHAND",
          "ODISHA",
          "CHHATTISGARH",
          "MADHYA PRADESH",
          "GUJARAT",
          "DAMAN & DIU",
          "DADRA & NAGAR HAVELI",
          "MAHARASHTRA",
          "ANDHRA PRADESH",
          "KARNATAKA",
          "GOA",
          "LAKSHADWEEP",
          "KERALA",
          "TAMIL NADU",
          "PUDUCHERRY",
          "A & N ISLANDS",
          "TELANGANA"
         ],
         "type": "scatter",
         "x": [
          "JAMMU & KASHMIR",
          "HIMACHAL PRADESH",
          "PUNJAB",
          "CHANDIGARH",
          "UTTARAKHAND",
          "HARYANA",
          "DELHI",
          "RAJASTHAN",
          "UTTAR PRADESH",
          "BIHAR",
          "SIKKIM",
          "ARUNACHAL PRADESH",
          "NAGALAND",
          "MANIPUR",
          "MIZORAM",
          "TRIPURA",
          "MEGHALAYA",
          "ASSAM",
          "WEST BENGAL",
          "JHARKHAND",
          "ODISHA",
          "CHHATTISGARH",
          "MADHYA PRADESH",
          "GUJARAT",
          "DAMAN & DIU",
          "DADRA & NAGAR HAVELI",
          "MAHARASHTRA",
          "ANDHRA PRADESH",
          "KARNATAKA",
          "GOA",
          "LAKSHADWEEP",
          "KERALA",
          "TAMIL NADU",
          "PUDUCHERRY",
          "A & N ISLANDS",
          "TELANGANA"
         ],
         "y": [
          100,
          100,
          100,
          100,
          100,
          95.45454545454545,
          81.81818181818181,
          100,
          100,
          100,
          100,
          95.23809523809524,
          100,
          56.25,
          100,
          100,
          100,
          81.81818181818181,
          91.30434782608695,
          100,
          100,
          100,
          100,
          100,
          100,
          100,
          100,
          100,
          113.33333333333333,
          100,
          100,
          100,
          93.75,
          100,
          100,
          32.25806451612903
         ]
        }
       ],
       "layout": {
        "template": {
         "data": {
          "bar": [
           {
            "error_x": {
             "color": "#2a3f5f"
            },
            "error_y": {
             "color": "#2a3f5f"
            },
            "marker": {
             "line": {
              "color": "#E5ECF6",
              "width": 0.5
             },
             "pattern": {
              "fillmode": "overlay",
              "size": 10,
              "solidity": 0.2
             }
            },
            "type": "bar"
           }
          ],
          "barpolar": [
           {
            "marker": {
             "line": {
              "color": "#E5ECF6",
              "width": 0.5
             },
             "pattern": {
              "fillmode": "overlay",
              "size": 10,
              "solidity": 0.2
             }
            },
            "type": "barpolar"
           }
          ],
          "carpet": [
           {
            "aaxis": {
             "endlinecolor": "#2a3f5f",
             "gridcolor": "white",
             "linecolor": "white",
             "minorgridcolor": "white",
             "startlinecolor": "#2a3f5f"
            },
            "baxis": {
             "endlinecolor": "#2a3f5f",
             "gridcolor": "white",
             "linecolor": "white",
             "minorgridcolor": "white",
             "startlinecolor": "#2a3f5f"
            },
            "type": "carpet"
           }
          ],
          "choropleth": [
           {
            "colorbar": {
             "outlinewidth": 0,
             "ticks": ""
            },
            "type": "choropleth"
           }
          ],
          "contour": [
           {
            "colorbar": {
             "outlinewidth": 0,
             "ticks": ""
            },
            "colorscale": [
             [
              0,
              "#0d0887"
             ],
             [
              0.1111111111111111,
              "#46039f"
             ],
             [
              0.2222222222222222,
              "#7201a8"
             ],
             [
              0.3333333333333333,
              "#9c179e"
             ],
             [
              0.4444444444444444,
              "#bd3786"
             ],
             [
              0.5555555555555556,
              "#d8576b"
             ],
             [
              0.6666666666666666,
              "#ed7953"
             ],
             [
              0.7777777777777778,
              "#fb9f3a"
             ],
             [
              0.8888888888888888,
              "#fdca26"
             ],
             [
              1,
              "#f0f921"
             ]
            ],
            "type": "contour"
           }
          ],
          "contourcarpet": [
           {
            "colorbar": {
             "outlinewidth": 0,
             "ticks": ""
            },
            "type": "contourcarpet"
           }
          ],
          "heatmap": [
           {
            "colorbar": {
             "outlinewidth": 0,
             "ticks": ""
            },
            "colorscale": [
             [
              0,
              "#0d0887"
             ],
             [
              0.1111111111111111,
              "#46039f"
             ],
             [
              0.2222222222222222,
              "#7201a8"
             ],
             [
              0.3333333333333333,
              "#9c179e"
             ],
             [
              0.4444444444444444,
              "#bd3786"
             ],
             [
              0.5555555555555556,
              "#d8576b"
             ],
             [
              0.6666666666666666,
              "#ed7953"
             ],
             [
              0.7777777777777778,
              "#fb9f3a"
             ],
             [
              0.8888888888888888,
              "#fdca26"
             ],
             [
              1,
              "#f0f921"
             ]
            ],
            "type": "heatmap"
           }
          ],
          "heatmapgl": [
           {
            "colorbar": {
             "outlinewidth": 0,
             "ticks": ""
            },
            "colorscale": [
             [
              0,
              "#0d0887"
             ],
             [
              0.1111111111111111,
              "#46039f"
             ],
             [
              0.2222222222222222,
              "#7201a8"
             ],
             [
              0.3333333333333333,
              "#9c179e"
             ],
             [
              0.4444444444444444,
              "#bd3786"
             ],
             [
              0.5555555555555556,
              "#d8576b"
             ],
             [
              0.6666666666666666,
              "#ed7953"
             ],
             [
              0.7777777777777778,
              "#fb9f3a"
             ],
             [
              0.8888888888888888,
              "#fdca26"
             ],
             [
              1,
              "#f0f921"
             ]
            ],
            "type": "heatmapgl"
           }
          ],
          "histogram": [
           {
            "marker": {
             "pattern": {
              "fillmode": "overlay",
              "size": 10,
              "solidity": 0.2
             }
            },
            "type": "histogram"
           }
          ],
          "histogram2d": [
           {
            "colorbar": {
             "outlinewidth": 0,
             "ticks": ""
            },
            "colorscale": [
             [
              0,
              "#0d0887"
             ],
             [
              0.1111111111111111,
              "#46039f"
             ],
             [
              0.2222222222222222,
              "#7201a8"
             ],
             [
              0.3333333333333333,
              "#9c179e"
             ],
             [
              0.4444444444444444,
              "#bd3786"
             ],
             [
              0.5555555555555556,
              "#d8576b"
             ],
             [
              0.6666666666666666,
              "#ed7953"
             ],
             [
              0.7777777777777778,
              "#fb9f3a"
             ],
             [
              0.8888888888888888,
              "#fdca26"
             ],
             [
              1,
              "#f0f921"
             ]
            ],
            "type": "histogram2d"
           }
          ],
          "histogram2dcontour": [
           {
            "colorbar": {
             "outlinewidth": 0,
             "ticks": ""
            },
            "colorscale": [
             [
              0,
              "#0d0887"
             ],
             [
              0.1111111111111111,
              "#46039f"
             ],
             [
              0.2222222222222222,
              "#7201a8"
             ],
             [
              0.3333333333333333,
              "#9c179e"
             ],
             [
              0.4444444444444444,
              "#bd3786"
             ],
             [
              0.5555555555555556,
              "#d8576b"
             ],
             [
              0.6666666666666666,
              "#ed7953"
             ],
             [
              0.7777777777777778,
              "#fb9f3a"
             ],
             [
              0.8888888888888888,
              "#fdca26"
             ],
             [
              1,
              "#f0f921"
             ]
            ],
            "type": "histogram2dcontour"
           }
          ],
          "mesh3d": [
           {
            "colorbar": {
             "outlinewidth": 0,
             "ticks": ""
            },
            "type": "mesh3d"
           }
          ],
          "parcoords": [
           {
            "line": {
             "colorbar": {
              "outlinewidth": 0,
              "ticks": ""
             }
            },
            "type": "parcoords"
           }
          ],
          "pie": [
           {
            "automargin": true,
            "type": "pie"
           }
          ],
          "scatter": [
           {
            "fillpattern": {
             "fillmode": "overlay",
             "size": 10,
             "solidity": 0.2
            },
            "type": "scatter"
           }
          ],
          "scatter3d": [
           {
            "line": {
             "colorbar": {
              "outlinewidth": 0,
              "ticks": ""
             }
            },
            "marker": {
             "colorbar": {
              "outlinewidth": 0,
              "ticks": ""
             }
            },
            "type": "scatter3d"
           }
          ],
          "scattercarpet": [
           {
            "marker": {
             "colorbar": {
              "outlinewidth": 0,
              "ticks": ""
             }
            },
            "type": "scattercarpet"
           }
          ],
          "scattergeo": [
           {
            "marker": {
             "colorbar": {
              "outlinewidth": 0,
              "ticks": ""
             }
            },
            "type": "scattergeo"
           }
          ],
          "scattergl": [
           {
            "marker": {
             "colorbar": {
              "outlinewidth": 0,
              "ticks": ""
             }
            },
            "type": "scattergl"
           }
          ],
          "scattermapbox": [
           {
            "marker": {
             "colorbar": {
              "outlinewidth": 0,
              "ticks": ""
             }
            },
            "type": "scattermapbox"
           }
          ],
          "scatterpolar": [
           {
            "marker": {
             "colorbar": {
              "outlinewidth": 0,
              "ticks": ""
             }
            },
            "type": "scatterpolar"
           }
          ],
          "scatterpolargl": [
           {
            "marker": {
             "colorbar": {
              "outlinewidth": 0,
              "ticks": ""
             }
            },
            "type": "scatterpolargl"
           }
          ],
          "scatterternary": [
           {
            "marker": {
             "colorbar": {
              "outlinewidth": 0,
              "ticks": ""
             }
            },
            "type": "scatterternary"
           }
          ],
          "surface": [
           {
            "colorbar": {
             "outlinewidth": 0,
             "ticks": ""
            },
            "colorscale": [
             [
              0,
              "#0d0887"
             ],
             [
              0.1111111111111111,
              "#46039f"
             ],
             [
              0.2222222222222222,
              "#7201a8"
             ],
             [
              0.3333333333333333,
              "#9c179e"
             ],
             [
              0.4444444444444444,
              "#bd3786"
             ],
             [
              0.5555555555555556,
              "#d8576b"
             ],
             [
              0.6666666666666666,
              "#ed7953"
             ],
             [
              0.7777777777777778,
              "#fb9f3a"
             ],
             [
              0.8888888888888888,
              "#fdca26"
             ],
             [
              1,
              "#f0f921"
             ]
            ],
            "type": "surface"
           }
          ],
          "table": [
           {
            "cells": {
             "fill": {
              "color": "#EBF0F8"
             },
             "line": {
              "color": "white"
             }
            },
            "header": {
             "fill": {
              "color": "#C8D4E3"
             },
             "line": {
              "color": "white"
             }
            },
            "type": "table"
           }
          ]
         },
         "layout": {
          "annotationdefaults": {
           "arrowcolor": "#2a3f5f",
           "arrowhead": 0,
           "arrowwidth": 1
          },
          "autotypenumbers": "strict",
          "coloraxis": {
           "colorbar": {
            "outlinewidth": 0,
            "ticks": ""
           }
          },
          "colorscale": {
           "diverging": [
            [
             0,
             "#8e0152"
            ],
            [
             0.1,
             "#c51b7d"
            ],
            [
             0.2,
             "#de77ae"
            ],
            [
             0.3,
             "#f1b6da"
            ],
            [
             0.4,
             "#fde0ef"
            ],
            [
             0.5,
             "#f7f7f7"
            ],
            [
             0.6,
             "#e6f5d0"
            ],
            [
             0.7,
             "#b8e186"
            ],
            [
             0.8,
             "#7fbc41"
            ],
            [
             0.9,
             "#4d9221"
            ],
            [
             1,
             "#276419"
            ]
           ],
           "sequential": [
            [
             0,
             "#0d0887"
            ],
            [
             0.1111111111111111,
             "#46039f"
            ],
            [
             0.2222222222222222,
             "#7201a8"
            ],
            [
             0.3333333333333333,
             "#9c179e"
            ],
            [
             0.4444444444444444,
             "#bd3786"
            ],
            [
             0.5555555555555556,
             "#d8576b"
            ],
            [
             0.6666666666666666,
             "#ed7953"
            ],
            [
             0.7777777777777778,
             "#fb9f3a"
            ],
            [
             0.8888888888888888,
             "#fdca26"
            ],
            [
             1,
             "#f0f921"
            ]
           ],
           "sequentialminus": [
            [
             0,
             "#0d0887"
            ],
            [
             0.1111111111111111,
             "#46039f"
            ],
            [
             0.2222222222222222,
             "#7201a8"
            ],
            [
             0.3333333333333333,
             "#9c179e"
            ],
            [
             0.4444444444444444,
             "#bd3786"
            ],
            [
             0.5555555555555556,
             "#d8576b"
            ],
            [
             0.6666666666666666,
             "#ed7953"
            ],
            [
             0.7777777777777778,
             "#fb9f3a"
            ],
            [
             0.8888888888888888,
             "#fdca26"
            ],
            [
             1,
             "#f0f921"
            ]
           ]
          },
          "colorway": [
           "#636efa",
           "#EF553B",
           "#00cc96",
           "#ab63fa",
           "#FFA15A",
           "#19d3f3",
           "#FF6692",
           "#B6E880",
           "#FF97FF",
           "#FECB52"
          ],
          "font": {
           "color": "#2a3f5f"
          },
          "geo": {
           "bgcolor": "white",
           "lakecolor": "white",
           "landcolor": "#E5ECF6",
           "showlakes": true,
           "showland": true,
           "subunitcolor": "white"
          },
          "hoverlabel": {
           "align": "left"
          },
          "hovermode": "closest",
          "mapbox": {
           "style": "light"
          },
          "paper_bgcolor": "white",
          "plot_bgcolor": "#E5ECF6",
          "polar": {
           "angularaxis": {
            "gridcolor": "white",
            "linecolor": "white",
            "ticks": ""
           },
           "bgcolor": "#E5ECF6",
           "radialaxis": {
            "gridcolor": "white",
            "linecolor": "white",
            "ticks": ""
           }
          },
          "scene": {
           "xaxis": {
            "backgroundcolor": "#E5ECF6",
            "gridcolor": "white",
            "gridwidth": 2,
            "linecolor": "white",
            "showbackground": true,
            "ticks": "",
            "zerolinecolor": "white"
           },
           "yaxis": {
            "backgroundcolor": "#E5ECF6",
            "gridcolor": "white",
            "gridwidth": 2,
            "linecolor": "white",
            "showbackground": true,
            "ticks": "",
            "zerolinecolor": "white"
           },
           "zaxis": {
            "backgroundcolor": "#E5ECF6",
            "gridcolor": "white",
            "gridwidth": 2,
            "linecolor": "white",
            "showbackground": true,
            "ticks": "",
            "zerolinecolor": "white"
           }
          },
          "shapedefaults": {
           "line": {
            "color": "#2a3f5f"
           }
          },
          "ternary": {
           "aaxis": {
            "gridcolor": "white",
            "linecolor": "white",
            "ticks": ""
           },
           "baxis": {
            "gridcolor": "white",
            "linecolor": "white",
            "ticks": ""
           },
           "bgcolor": "#E5ECF6",
           "caxis": {
            "gridcolor": "white",
            "linecolor": "white",
            "ticks": ""
           }
          },
          "title": {
           "x": 0.05
          },
          "xaxis": {
           "automargin": true,
           "gridcolor": "white",
           "linecolor": "white",
           "ticks": "",
           "title": {
            "standoff": 15
           },
           "zerolinecolor": "white",
           "zerolinewidth": 2
          },
          "yaxis": {
           "automargin": true,
           "gridcolor": "white",
           "linecolor": "white",
           "ticks": "",
           "title": {
            "standoff": 15
           },
           "zerolinecolor": "white",
           "zerolinewidth": 2
          }
         }
        },
        "title": {
         "text": "Data reported from District (in %) from each state"
        },
        "xaxis": {
         "tickangle": 90,
         "ticklen": 5,
         "zeroline": false
        },
        "yaxis": {
         "title": {
          "text": "Data reported from District (in %)"
         }
        }
       }
      },
      "text/html": [
       "<div>                            <div id=\"baec0b09-ea22-4050-89be-0902edfc7106\" class=\"plotly-graph-div\" style=\"height:525px; width:100%;\"></div>            <script type=\"text/javascript\">                require([\"plotly\"], function(Plotly) {                    window.PLOTLYENV=window.PLOTLYENV || {};                                    if (document.getElementById(\"baec0b09-ea22-4050-89be-0902edfc7106\")) {                    Plotly.newPlot(                        \"baec0b09-ea22-4050-89be-0902edfc7106\",                        [{\"mode\":\"lines+markers\",\"name\":\"District count\",\"text\":[\"JAMMU & KASHMIR\",\"HIMACHAL PRADESH\",\"PUNJAB\",\"CHANDIGARH\",\"UTTARAKHAND\",\"HARYANA\",\"DELHI\",\"RAJASTHAN\",\"UTTAR PRADESH\",\"BIHAR\",\"SIKKIM\",\"ARUNACHAL PRADESH\",\"NAGALAND\",\"MANIPUR\",\"MIZORAM\",\"TRIPURA\",\"MEGHALAYA\",\"ASSAM\",\"WEST BENGAL\",\"JHARKHAND\",\"ODISHA\",\"CHHATTISGARH\",\"MADHYA PRADESH\",\"GUJARAT\",\"DAMAN & DIU\",\"DADRA & NAGAR HAVELI\",\"MAHARASHTRA\",\"ANDHRA PRADESH\",\"KARNATAKA\",\"GOA\",\"LAKSHADWEEP\",\"KERALA\",\"TAMIL NADU\",\"PUDUCHERRY\",\"A & N ISLANDS\",\"TELANGANA\"],\"x\":[\"JAMMU & KASHMIR\",\"HIMACHAL PRADESH\",\"PUNJAB\",\"CHANDIGARH\",\"UTTARAKHAND\",\"HARYANA\",\"DELHI\",\"RAJASTHAN\",\"UTTAR PRADESH\",\"BIHAR\",\"SIKKIM\",\"ARUNACHAL PRADESH\",\"NAGALAND\",\"MANIPUR\",\"MIZORAM\",\"TRIPURA\",\"MEGHALAYA\",\"ASSAM\",\"WEST BENGAL\",\"JHARKHAND\",\"ODISHA\",\"CHHATTISGARH\",\"MADHYA PRADESH\",\"GUJARAT\",\"DAMAN & DIU\",\"DADRA & NAGAR HAVELI\",\"MAHARASHTRA\",\"ANDHRA PRADESH\",\"KARNATAKA\",\"GOA\",\"LAKSHADWEEP\",\"KERALA\",\"TAMIL NADU\",\"PUDUCHERRY\",\"A & N ISLANDS\",\"TELANGANA\"],\"y\":[100.0,100.0,100.0,100.0,100.0,95.45454545454545,81.81818181818181,100.0,100.0,100.0,100.0,95.23809523809524,100.0,56.25,100.0,100.0,100.0,81.81818181818181,91.30434782608695,100.0,100.0,100.0,100.0,100.0,100.0,100.0,100.0,100.0,113.33333333333333,100.0,100.0,100.0,93.75,100.0,100.0,32.25806451612903],\"type\":\"scatter\"}],                        {\"template\":{\"data\":{\"barpolar\":[{\"marker\":{\"line\":{\"color\":\"#E5ECF6\",\"width\":0.5},\"pattern\":{\"fillmode\":\"overlay\",\"size\":10,\"solidity\":0.2}},\"type\":\"barpolar\"}],\"bar\":[{\"error_x\":{\"color\":\"#2a3f5f\"},\"error_y\":{\"color\":\"#2a3f5f\"},\"marker\":{\"line\":{\"color\":\"#E5ECF6\",\"width\":0.5},\"pattern\":{\"fillmode\":\"overlay\",\"size\":10,\"solidity\":0.2}},\"type\":\"bar\"}],\"carpet\":[{\"aaxis\":{\"endlinecolor\":\"#2a3f5f\",\"gridcolor\":\"white\",\"linecolor\":\"white\",\"minorgridcolor\":\"white\",\"startlinecolor\":\"#2a3f5f\"},\"baxis\":{\"endlinecolor\":\"#2a3f5f\",\"gridcolor\":\"white\",\"linecolor\":\"white\",\"minorgridcolor\":\"white\",\"startlinecolor\":\"#2a3f5f\"},\"type\":\"carpet\"}],\"choropleth\":[{\"colorbar\":{\"outlinewidth\":0,\"ticks\":\"\"},\"type\":\"choropleth\"}],\"contourcarpet\":[{\"colorbar\":{\"outlinewidth\":0,\"ticks\":\"\"},\"type\":\"contourcarpet\"}],\"contour\":[{\"colorbar\":{\"outlinewidth\":0,\"ticks\":\"\"},\"colorscale\":[[0.0,\"#0d0887\"],[0.1111111111111111,\"#46039f\"],[0.2222222222222222,\"#7201a8\"],[0.3333333333333333,\"#9c179e\"],[0.4444444444444444,\"#bd3786\"],[0.5555555555555556,\"#d8576b\"],[0.6666666666666666,\"#ed7953\"],[0.7777777777777778,\"#fb9f3a\"],[0.8888888888888888,\"#fdca26\"],[1.0,\"#f0f921\"]],\"type\":\"contour\"}],\"heatmapgl\":[{\"colorbar\":{\"outlinewidth\":0,\"ticks\":\"\"},\"colorscale\":[[0.0,\"#0d0887\"],[0.1111111111111111,\"#46039f\"],[0.2222222222222222,\"#7201a8\"],[0.3333333333333333,\"#9c179e\"],[0.4444444444444444,\"#bd3786\"],[0.5555555555555556,\"#d8576b\"],[0.6666666666666666,\"#ed7953\"],[0.7777777777777778,\"#fb9f3a\"],[0.8888888888888888,\"#fdca26\"],[1.0,\"#f0f921\"]],\"type\":\"heatmapgl\"}],\"heatmap\":[{\"colorbar\":{\"outlinewidth\":0,\"ticks\":\"\"},\"colorscale\":[[0.0,\"#0d0887\"],[0.1111111111111111,\"#46039f\"],[0.2222222222222222,\"#7201a8\"],[0.3333333333333333,\"#9c179e\"],[0.4444444444444444,\"#bd3786\"],[0.5555555555555556,\"#d8576b\"],[0.6666666666666666,\"#ed7953\"],[0.7777777777777778,\"#fb9f3a\"],[0.8888888888888888,\"#fdca26\"],[1.0,\"#f0f921\"]],\"type\":\"heatmap\"}],\"histogram2dcontour\":[{\"colorbar\":{\"outlinewidth\":0,\"ticks\":\"\"},\"colorscale\":[[0.0,\"#0d0887\"],[0.1111111111111111,\"#46039f\"],[0.2222222222222222,\"#7201a8\"],[0.3333333333333333,\"#9c179e\"],[0.4444444444444444,\"#bd3786\"],[0.5555555555555556,\"#d8576b\"],[0.6666666666666666,\"#ed7953\"],[0.7777777777777778,\"#fb9f3a\"],[0.8888888888888888,\"#fdca26\"],[1.0,\"#f0f921\"]],\"type\":\"histogram2dcontour\"}],\"histogram2d\":[{\"colorbar\":{\"outlinewidth\":0,\"ticks\":\"\"},\"colorscale\":[[0.0,\"#0d0887\"],[0.1111111111111111,\"#46039f\"],[0.2222222222222222,\"#7201a8\"],[0.3333333333333333,\"#9c179e\"],[0.4444444444444444,\"#bd3786\"],[0.5555555555555556,\"#d8576b\"],[0.6666666666666666,\"#ed7953\"],[0.7777777777777778,\"#fb9f3a\"],[0.8888888888888888,\"#fdca26\"],[1.0,\"#f0f921\"]],\"type\":\"histogram2d\"}],\"histogram\":[{\"marker\":{\"pattern\":{\"fillmode\":\"overlay\",\"size\":10,\"solidity\":0.2}},\"type\":\"histogram\"}],\"mesh3d\":[{\"colorbar\":{\"outlinewidth\":0,\"ticks\":\"\"},\"type\":\"mesh3d\"}],\"parcoords\":[{\"line\":{\"colorbar\":{\"outlinewidth\":0,\"ticks\":\"\"}},\"type\":\"parcoords\"}],\"pie\":[{\"automargin\":true,\"type\":\"pie\"}],\"scatter3d\":[{\"line\":{\"colorbar\":{\"outlinewidth\":0,\"ticks\":\"\"}},\"marker\":{\"colorbar\":{\"outlinewidth\":0,\"ticks\":\"\"}},\"type\":\"scatter3d\"}],\"scattercarpet\":[{\"marker\":{\"colorbar\":{\"outlinewidth\":0,\"ticks\":\"\"}},\"type\":\"scattercarpet\"}],\"scattergeo\":[{\"marker\":{\"colorbar\":{\"outlinewidth\":0,\"ticks\":\"\"}},\"type\":\"scattergeo\"}],\"scattergl\":[{\"marker\":{\"colorbar\":{\"outlinewidth\":0,\"ticks\":\"\"}},\"type\":\"scattergl\"}],\"scattermapbox\":[{\"marker\":{\"colorbar\":{\"outlinewidth\":0,\"ticks\":\"\"}},\"type\":\"scattermapbox\"}],\"scatterpolargl\":[{\"marker\":{\"colorbar\":{\"outlinewidth\":0,\"ticks\":\"\"}},\"type\":\"scatterpolargl\"}],\"scatterpolar\":[{\"marker\":{\"colorbar\":{\"outlinewidth\":0,\"ticks\":\"\"}},\"type\":\"scatterpolar\"}],\"scatter\":[{\"fillpattern\":{\"fillmode\":\"overlay\",\"size\":10,\"solidity\":0.2},\"type\":\"scatter\"}],\"scatterternary\":[{\"marker\":{\"colorbar\":{\"outlinewidth\":0,\"ticks\":\"\"}},\"type\":\"scatterternary\"}],\"surface\":[{\"colorbar\":{\"outlinewidth\":0,\"ticks\":\"\"},\"colorscale\":[[0.0,\"#0d0887\"],[0.1111111111111111,\"#46039f\"],[0.2222222222222222,\"#7201a8\"],[0.3333333333333333,\"#9c179e\"],[0.4444444444444444,\"#bd3786\"],[0.5555555555555556,\"#d8576b\"],[0.6666666666666666,\"#ed7953\"],[0.7777777777777778,\"#fb9f3a\"],[0.8888888888888888,\"#fdca26\"],[1.0,\"#f0f921\"]],\"type\":\"surface\"}],\"table\":[{\"cells\":{\"fill\":{\"color\":\"#EBF0F8\"},\"line\":{\"color\":\"white\"}},\"header\":{\"fill\":{\"color\":\"#C8D4E3\"},\"line\":{\"color\":\"white\"}},\"type\":\"table\"}]},\"layout\":{\"annotationdefaults\":{\"arrowcolor\":\"#2a3f5f\",\"arrowhead\":0,\"arrowwidth\":1},\"autotypenumbers\":\"strict\",\"coloraxis\":{\"colorbar\":{\"outlinewidth\":0,\"ticks\":\"\"}},\"colorscale\":{\"diverging\":[[0,\"#8e0152\"],[0.1,\"#c51b7d\"],[0.2,\"#de77ae\"],[0.3,\"#f1b6da\"],[0.4,\"#fde0ef\"],[0.5,\"#f7f7f7\"],[0.6,\"#e6f5d0\"],[0.7,\"#b8e186\"],[0.8,\"#7fbc41\"],[0.9,\"#4d9221\"],[1,\"#276419\"]],\"sequential\":[[0.0,\"#0d0887\"],[0.1111111111111111,\"#46039f\"],[0.2222222222222222,\"#7201a8\"],[0.3333333333333333,\"#9c179e\"],[0.4444444444444444,\"#bd3786\"],[0.5555555555555556,\"#d8576b\"],[0.6666666666666666,\"#ed7953\"],[0.7777777777777778,\"#fb9f3a\"],[0.8888888888888888,\"#fdca26\"],[1.0,\"#f0f921\"]],\"sequentialminus\":[[0.0,\"#0d0887\"],[0.1111111111111111,\"#46039f\"],[0.2222222222222222,\"#7201a8\"],[0.3333333333333333,\"#9c179e\"],[0.4444444444444444,\"#bd3786\"],[0.5555555555555556,\"#d8576b\"],[0.6666666666666666,\"#ed7953\"],[0.7777777777777778,\"#fb9f3a\"],[0.8888888888888888,\"#fdca26\"],[1.0,\"#f0f921\"]]},\"colorway\":[\"#636efa\",\"#EF553B\",\"#00cc96\",\"#ab63fa\",\"#FFA15A\",\"#19d3f3\",\"#FF6692\",\"#B6E880\",\"#FF97FF\",\"#FECB52\"],\"font\":{\"color\":\"#2a3f5f\"},\"geo\":{\"bgcolor\":\"white\",\"lakecolor\":\"white\",\"landcolor\":\"#E5ECF6\",\"showlakes\":true,\"showland\":true,\"subunitcolor\":\"white\"},\"hoverlabel\":{\"align\":\"left\"},\"hovermode\":\"closest\",\"mapbox\":{\"style\":\"light\"},\"paper_bgcolor\":\"white\",\"plot_bgcolor\":\"#E5ECF6\",\"polar\":{\"angularaxis\":{\"gridcolor\":\"white\",\"linecolor\":\"white\",\"ticks\":\"\"},\"bgcolor\":\"#E5ECF6\",\"radialaxis\":{\"gridcolor\":\"white\",\"linecolor\":\"white\",\"ticks\":\"\"}},\"scene\":{\"xaxis\":{\"backgroundcolor\":\"#E5ECF6\",\"gridcolor\":\"white\",\"gridwidth\":2,\"linecolor\":\"white\",\"showbackground\":true,\"ticks\":\"\",\"zerolinecolor\":\"white\"},\"yaxis\":{\"backgroundcolor\":\"#E5ECF6\",\"gridcolor\":\"white\",\"gridwidth\":2,\"linecolor\":\"white\",\"showbackground\":true,\"ticks\":\"\",\"zerolinecolor\":\"white\"},\"zaxis\":{\"backgroundcolor\":\"#E5ECF6\",\"gridcolor\":\"white\",\"gridwidth\":2,\"linecolor\":\"white\",\"showbackground\":true,\"ticks\":\"\",\"zerolinecolor\":\"white\"}},\"shapedefaults\":{\"line\":{\"color\":\"#2a3f5f\"}},\"ternary\":{\"aaxis\":{\"gridcolor\":\"white\",\"linecolor\":\"white\",\"ticks\":\"\"},\"baxis\":{\"gridcolor\":\"white\",\"linecolor\":\"white\",\"ticks\":\"\"},\"bgcolor\":\"#E5ECF6\",\"caxis\":{\"gridcolor\":\"white\",\"linecolor\":\"white\",\"ticks\":\"\"}},\"title\":{\"x\":0.05},\"xaxis\":{\"automargin\":true,\"gridcolor\":\"white\",\"linecolor\":\"white\",\"ticks\":\"\",\"title\":{\"standoff\":15},\"zerolinecolor\":\"white\",\"zerolinewidth\":2},\"yaxis\":{\"automargin\":true,\"gridcolor\":\"white\",\"linecolor\":\"white\",\"ticks\":\"\",\"title\":{\"standoff\":15},\"zerolinecolor\":\"white\",\"zerolinewidth\":2}}},\"title\":{\"text\":\"Data reported from District (in %) from each state\"},\"xaxis\":{\"tickangle\":90,\"ticklen\":5,\"zeroline\":false},\"yaxis\":{\"title\":{\"text\":\"Data reported from District (in %)\"}}},                        {\"responsive\": true}                    ).then(function(){\n",
       "                            \n",
       "var gd = document.getElementById('baec0b09-ea22-4050-89be-0902edfc7106');\n",
       "var x = new MutationObserver(function (mutations, observer) {{\n",
       "        var display = window.getComputedStyle(gd).display;\n",
       "        if (!display || display === 'none') {{\n",
       "            console.log([gd, 'removed!']);\n",
       "            Plotly.purge(gd);\n",
       "            observer.disconnect();\n",
       "        }}\n",
       "}});\n",
       "\n",
       "// Listen for the removal of the full notebook cells\n",
       "var notebookContainer = gd.closest('#notebook-container');\n",
       "if (notebookContainer) {{\n",
       "    x.observe(notebookContainer, {childList: true});\n",
       "}}\n",
       "\n",
       "// Listen for the clearing of the current output cell\n",
       "var outputEl = gd.closest('.output');\n",
       "if (outputEl) {{\n",
       "    x.observe(outputEl, {childList: true});\n",
       "}}\n",
       "\n",
       "                        })                };                });            </script>        </div>"
      ]
     },
     "metadata": {},
     "output_type": "display_data"
    }
   ],
   "source": [
    "x = df_ele.STATNAME\n",
    "\n",
    "# Creating trace1\n",
    "trace1 = go.Scatter(\n",
    "                    x = x,\n",
    "                    y = df_ele.PER_DIST,\n",
    "                    mode = \"lines+markers\",\n",
    "                    name = \"District count\",\n",
    "                    text= df_ele.STATNAME)\n",
    "\n",
    "data = [trace1]\n",
    "layout = dict(title = 'Data reported from District (in %) from each state',\n",
    "              xaxis= dict(\n",
    "                  ticklen= 5,\n",
    "                  tickangle=90,\n",
    "                  zeroline= False),\n",
    "                  \n",
    "              yaxis=dict(\n",
    "                    title='Data reported from District (in %)'\n",
    "                )\n",
    "             )\n",
    "fig = dict(data = data, layout = layout)\n",
    "iplot(fig)"
   ]
  },
  {
   "cell_type": "code",
   "execution_count": 45,
   "metadata": {},
   "outputs": [
    {
     "data": {
      "application/vnd.plotly.v1+json": {
       "config": {
        "linkText": "Export to plot.ly",
        "plotlyServerURL": "https://plot.ly",
        "showLink": false
       },
       "data": [
        {
         "mode": "lines+markers",
         "name": "Age Group 6 to 10",
         "text": [
          "JAMMU & KASHMIR",
          "HIMACHAL PRADESH",
          "PUNJAB",
          "CHANDIGARH",
          "UTTARAKHAND",
          "HARYANA",
          "DELHI",
          "RAJASTHAN",
          "UTTAR PRADESH",
          "BIHAR",
          "SIKKIM",
          "ARUNACHAL PRADESH",
          "NAGALAND",
          "MANIPUR",
          "MIZORAM",
          "TRIPURA",
          "MEGHALAYA",
          "ASSAM",
          "WEST BENGAL",
          "JHARKHAND",
          "ODISHA",
          "CHHATTISGARH",
          "MADHYA PRADESH",
          "GUJARAT",
          "DAMAN & DIU",
          "DADRA & NAGAR HAVELI",
          "MAHARASHTRA",
          "ANDHRA PRADESH",
          "KARNATAKA",
          "GOA",
          "LAKSHADWEEP",
          "KERALA",
          "TAMIL NADU",
          "PUDUCHERRY",
          "A & N ISLANDS",
          "TELANGANA"
         ],
         "type": "scatter",
         "x": [
          "JAMMU & KASHMIR",
          "HIMACHAL PRADESH",
          "PUNJAB",
          "CHANDIGARH",
          "UTTARAKHAND",
          "HARYANA",
          "DELHI",
          "RAJASTHAN",
          "UTTAR PRADESH",
          "BIHAR",
          "SIKKIM",
          "ARUNACHAL PRADESH",
          "NAGALAND",
          "MANIPUR",
          "MIZORAM",
          "TRIPURA",
          "MEGHALAYA",
          "ASSAM",
          "WEST BENGAL",
          "JHARKHAND",
          "ODISHA",
          "CHHATTISGARH",
          "MADHYA PRADESH",
          "GUJARAT",
          "DAMAN & DIU",
          "DADRA & NAGAR HAVELI",
          "MAHARASHTRA",
          "ANDHRA PRADESH",
          "KARNATAKA",
          "GOA",
          "LAKSHADWEEP",
          "KERALA",
          "TAMIL NADU",
          "PUDUCHERRY",
          "A & N ISLANDS",
          "TELANGANA"
         ],
         "y": [
          1452682,
          588162,
          2447062,
          114473,
          1123220,
          2556187,
          1704499,
          8238091,
          27421871,
          15017838,
          59113,
          174523,
          239278,
          263906,
          118153,
          339817,
          388745,
          3506540,
          7843098,
          4077439,
          3963217,
          2792441,
          8585339,
          5808398,
          22119,
          43860,
          10258679,
          4198314,
          5249682,
          120687,
          5973,
          2586473,
          5534978,
          122695,
          35315,
          3151811
         ]
        },
        {
         "mode": "lines+markers",
         "name": "Age Group 11 to 13",
         "text": [
          "JAMMU & KASHMIR",
          "HIMACHAL PRADESH",
          "PUNJAB",
          "CHANDIGARH",
          "UTTARAKHAND",
          "HARYANA",
          "DELHI",
          "RAJASTHAN",
          "UTTAR PRADESH",
          "BIHAR",
          "SIKKIM",
          "ARUNACHAL PRADESH",
          "NAGALAND",
          "MANIPUR",
          "MIZORAM",
          "TRIPURA",
          "MEGHALAYA",
          "ASSAM",
          "WEST BENGAL",
          "JHARKHAND",
          "ODISHA",
          "CHHATTISGARH",
          "MADHYA PRADESH",
          "GUJARAT",
          "DAMAN & DIU",
          "DADRA & NAGAR HAVELI",
          "MAHARASHTRA",
          "ANDHRA PRADESH",
          "KARNATAKA",
          "GOA",
          "LAKSHADWEEP",
          "KERALA",
          "TAMIL NADU",
          "PUDUCHERRY",
          "A & N ISLANDS",
          "TELANGANA"
         ],
         "type": "scatter",
         "x": [
          "JAMMU & KASHMIR",
          "HIMACHAL PRADESH",
          "PUNJAB",
          "CHANDIGARH",
          "UTTARAKHAND",
          "HARYANA",
          "DELHI",
          "RAJASTHAN",
          "UTTAR PRADESH",
          "BIHAR",
          "SIKKIM",
          "ARUNACHAL PRADESH",
          "NAGALAND",
          "MANIPUR",
          "MIZORAM",
          "TRIPURA",
          "MEGHALAYA",
          "ASSAM",
          "WEST BENGAL",
          "JHARKHAND",
          "ODISHA",
          "CHHATTISGARH",
          "MADHYA PRADESH",
          "GUJARAT",
          "DAMAN & DIU",
          "DADRA & NAGAR HAVELI",
          "MAHARASHTRA",
          "ANDHRA PRADESH",
          "KARNATAKA",
          "GOA",
          "LAKSHADWEEP",
          "KERALA",
          "TAMIL NADU",
          "PUDUCHERRY",
          "A & N ISLANDS",
          "TELANGANA"
         ],
         "y": [
          865656,
          354221,
          1498066,
          67721,
          687598,
          1509213,
          874236,
          4451853,
          14858172,
          6730614,
          29539,
          77791,
          109124,
          121088,
          51193,
          158355,
          167695,
          1838910,
          4549909,
          2013642,
          2351996,
          1626381,
          4989418,
          3596398,
          12424,
          25043,
          6063279,
          2538445,
          3142541,
          73445,
          3805,
          1618453,
          3706996,
          75174,
          22232,
          1966365
         ]
        },
        {
         "mode": "lines+markers",
         "name": "Overall Literacy",
         "text": [
          "JAMMU & KASHMIR",
          "HIMACHAL PRADESH",
          "PUNJAB",
          "CHANDIGARH",
          "UTTARAKHAND",
          "HARYANA",
          "DELHI",
          "RAJASTHAN",
          "UTTAR PRADESH",
          "BIHAR",
          "SIKKIM",
          "ARUNACHAL PRADESH",
          "NAGALAND",
          "MANIPUR",
          "MIZORAM",
          "TRIPURA",
          "MEGHALAYA",
          "ASSAM",
          "WEST BENGAL",
          "JHARKHAND",
          "ODISHA",
          "CHHATTISGARH",
          "MADHYA PRADESH",
          "GUJARAT",
          "DAMAN & DIU",
          "DADRA & NAGAR HAVELI",
          "MAHARASHTRA",
          "ANDHRA PRADESH",
          "KARNATAKA",
          "GOA",
          "LAKSHADWEEP",
          "KERALA",
          "TAMIL NADU",
          "PUDUCHERRY",
          "A & N ISLANDS",
          "TELANGANA"
         ],
         "type": "scatter",
         "x": [
          "JAMMU & KASHMIR",
          "HIMACHAL PRADESH",
          "PUNJAB",
          "CHANDIGARH",
          "UTTARAKHAND",
          "HARYANA",
          "DELHI",
          "RAJASTHAN",
          "UTTAR PRADESH",
          "BIHAR",
          "SIKKIM",
          "ARUNACHAL PRADESH",
          "NAGALAND",
          "MANIPUR",
          "MIZORAM",
          "TRIPURA",
          "MEGHALAYA",
          "ASSAM",
          "WEST BENGAL",
          "JHARKHAND",
          "ODISHA",
          "CHHATTISGARH",
          "MADHYA PRADESH",
          "GUJARAT",
          "DAMAN & DIU",
          "DADRA & NAGAR HAVELI",
          "MAHARASHTRA",
          "ANDHRA PRADESH",
          "KARNATAKA",
          "GOA",
          "LAKSHADWEEP",
          "KERALA",
          "TAMIL NADU",
          "PUDUCHERRY",
          "A & N ISLANDS",
          "TELANGANA"
         ],
         "y": [
          68.74,
          83.78,
          76.68,
          86.43,
          79.63,
          76.64,
          86.34,
          67.06,
          69.72,
          63.82,
          82.2,
          66.95,
          80.11,
          79.85,
          91.58,
          87.75,
          75.48,
          73.18,
          77.08,
          67.63,
          73.45,
          71.04,
          70.63,
          79.31,
          87.07,
          77.65,
          82.91,
          67.66,
          75.6,
          87.4,
          92.28,
          93.91,
          80.3,
          86.55,
          86.27,
          66.46
         ],
         "yaxis": "y2"
        }
       ],
       "layout": {
        "template": {
         "data": {
          "bar": [
           {
            "error_x": {
             "color": "#2a3f5f"
            },
            "error_y": {
             "color": "#2a3f5f"
            },
            "marker": {
             "line": {
              "color": "#E5ECF6",
              "width": 0.5
             },
             "pattern": {
              "fillmode": "overlay",
              "size": 10,
              "solidity": 0.2
             }
            },
            "type": "bar"
           }
          ],
          "barpolar": [
           {
            "marker": {
             "line": {
              "color": "#E5ECF6",
              "width": 0.5
             },
             "pattern": {
              "fillmode": "overlay",
              "size": 10,
              "solidity": 0.2
             }
            },
            "type": "barpolar"
           }
          ],
          "carpet": [
           {
            "aaxis": {
             "endlinecolor": "#2a3f5f",
             "gridcolor": "white",
             "linecolor": "white",
             "minorgridcolor": "white",
             "startlinecolor": "#2a3f5f"
            },
            "baxis": {
             "endlinecolor": "#2a3f5f",
             "gridcolor": "white",
             "linecolor": "white",
             "minorgridcolor": "white",
             "startlinecolor": "#2a3f5f"
            },
            "type": "carpet"
           }
          ],
          "choropleth": [
           {
            "colorbar": {
             "outlinewidth": 0,
             "ticks": ""
            },
            "type": "choropleth"
           }
          ],
          "contour": [
           {
            "colorbar": {
             "outlinewidth": 0,
             "ticks": ""
            },
            "colorscale": [
             [
              0,
              "#0d0887"
             ],
             [
              0.1111111111111111,
              "#46039f"
             ],
             [
              0.2222222222222222,
              "#7201a8"
             ],
             [
              0.3333333333333333,
              "#9c179e"
             ],
             [
              0.4444444444444444,
              "#bd3786"
             ],
             [
              0.5555555555555556,
              "#d8576b"
             ],
             [
              0.6666666666666666,
              "#ed7953"
             ],
             [
              0.7777777777777778,
              "#fb9f3a"
             ],
             [
              0.8888888888888888,
              "#fdca26"
             ],
             [
              1,
              "#f0f921"
             ]
            ],
            "type": "contour"
           }
          ],
          "contourcarpet": [
           {
            "colorbar": {
             "outlinewidth": 0,
             "ticks": ""
            },
            "type": "contourcarpet"
           }
          ],
          "heatmap": [
           {
            "colorbar": {
             "outlinewidth": 0,
             "ticks": ""
            },
            "colorscale": [
             [
              0,
              "#0d0887"
             ],
             [
              0.1111111111111111,
              "#46039f"
             ],
             [
              0.2222222222222222,
              "#7201a8"
             ],
             [
              0.3333333333333333,
              "#9c179e"
             ],
             [
              0.4444444444444444,
              "#bd3786"
             ],
             [
              0.5555555555555556,
              "#d8576b"
             ],
             [
              0.6666666666666666,
              "#ed7953"
             ],
             [
              0.7777777777777778,
              "#fb9f3a"
             ],
             [
              0.8888888888888888,
              "#fdca26"
             ],
             [
              1,
              "#f0f921"
             ]
            ],
            "type": "heatmap"
           }
          ],
          "heatmapgl": [
           {
            "colorbar": {
             "outlinewidth": 0,
             "ticks": ""
            },
            "colorscale": [
             [
              0,
              "#0d0887"
             ],
             [
              0.1111111111111111,
              "#46039f"
             ],
             [
              0.2222222222222222,
              "#7201a8"
             ],
             [
              0.3333333333333333,
              "#9c179e"
             ],
             [
              0.4444444444444444,
              "#bd3786"
             ],
             [
              0.5555555555555556,
              "#d8576b"
             ],
             [
              0.6666666666666666,
              "#ed7953"
             ],
             [
              0.7777777777777778,
              "#fb9f3a"
             ],
             [
              0.8888888888888888,
              "#fdca26"
             ],
             [
              1,
              "#f0f921"
             ]
            ],
            "type": "heatmapgl"
           }
          ],
          "histogram": [
           {
            "marker": {
             "pattern": {
              "fillmode": "overlay",
              "size": 10,
              "solidity": 0.2
             }
            },
            "type": "histogram"
           }
          ],
          "histogram2d": [
           {
            "colorbar": {
             "outlinewidth": 0,
             "ticks": ""
            },
            "colorscale": [
             [
              0,
              "#0d0887"
             ],
             [
              0.1111111111111111,
              "#46039f"
             ],
             [
              0.2222222222222222,
              "#7201a8"
             ],
             [
              0.3333333333333333,
              "#9c179e"
             ],
             [
              0.4444444444444444,
              "#bd3786"
             ],
             [
              0.5555555555555556,
              "#d8576b"
             ],
             [
              0.6666666666666666,
              "#ed7953"
             ],
             [
              0.7777777777777778,
              "#fb9f3a"
             ],
             [
              0.8888888888888888,
              "#fdca26"
             ],
             [
              1,
              "#f0f921"
             ]
            ],
            "type": "histogram2d"
           }
          ],
          "histogram2dcontour": [
           {
            "colorbar": {
             "outlinewidth": 0,
             "ticks": ""
            },
            "colorscale": [
             [
              0,
              "#0d0887"
             ],
             [
              0.1111111111111111,
              "#46039f"
             ],
             [
              0.2222222222222222,
              "#7201a8"
             ],
             [
              0.3333333333333333,
              "#9c179e"
             ],
             [
              0.4444444444444444,
              "#bd3786"
             ],
             [
              0.5555555555555556,
              "#d8576b"
             ],
             [
              0.6666666666666666,
              "#ed7953"
             ],
             [
              0.7777777777777778,
              "#fb9f3a"
             ],
             [
              0.8888888888888888,
              "#fdca26"
             ],
             [
              1,
              "#f0f921"
             ]
            ],
            "type": "histogram2dcontour"
           }
          ],
          "mesh3d": [
           {
            "colorbar": {
             "outlinewidth": 0,
             "ticks": ""
            },
            "type": "mesh3d"
           }
          ],
          "parcoords": [
           {
            "line": {
             "colorbar": {
              "outlinewidth": 0,
              "ticks": ""
             }
            },
            "type": "parcoords"
           }
          ],
          "pie": [
           {
            "automargin": true,
            "type": "pie"
           }
          ],
          "scatter": [
           {
            "fillpattern": {
             "fillmode": "overlay",
             "size": 10,
             "solidity": 0.2
            },
            "type": "scatter"
           }
          ],
          "scatter3d": [
           {
            "line": {
             "colorbar": {
              "outlinewidth": 0,
              "ticks": ""
             }
            },
            "marker": {
             "colorbar": {
              "outlinewidth": 0,
              "ticks": ""
             }
            },
            "type": "scatter3d"
           }
          ],
          "scattercarpet": [
           {
            "marker": {
             "colorbar": {
              "outlinewidth": 0,
              "ticks": ""
             }
            },
            "type": "scattercarpet"
           }
          ],
          "scattergeo": [
           {
            "marker": {
             "colorbar": {
              "outlinewidth": 0,
              "ticks": ""
             }
            },
            "type": "scattergeo"
           }
          ],
          "scattergl": [
           {
            "marker": {
             "colorbar": {
              "outlinewidth": 0,
              "ticks": ""
             }
            },
            "type": "scattergl"
           }
          ],
          "scattermapbox": [
           {
            "marker": {
             "colorbar": {
              "outlinewidth": 0,
              "ticks": ""
             }
            },
            "type": "scattermapbox"
           }
          ],
          "scatterpolar": [
           {
            "marker": {
             "colorbar": {
              "outlinewidth": 0,
              "ticks": ""
             }
            },
            "type": "scatterpolar"
           }
          ],
          "scatterpolargl": [
           {
            "marker": {
             "colorbar": {
              "outlinewidth": 0,
              "ticks": ""
             }
            },
            "type": "scatterpolargl"
           }
          ],
          "scatterternary": [
           {
            "marker": {
             "colorbar": {
              "outlinewidth": 0,
              "ticks": ""
             }
            },
            "type": "scatterternary"
           }
          ],
          "surface": [
           {
            "colorbar": {
             "outlinewidth": 0,
             "ticks": ""
            },
            "colorscale": [
             [
              0,
              "#0d0887"
             ],
             [
              0.1111111111111111,
              "#46039f"
             ],
             [
              0.2222222222222222,
              "#7201a8"
             ],
             [
              0.3333333333333333,
              "#9c179e"
             ],
             [
              0.4444444444444444,
              "#bd3786"
             ],
             [
              0.5555555555555556,
              "#d8576b"
             ],
             [
              0.6666666666666666,
              "#ed7953"
             ],
             [
              0.7777777777777778,
              "#fb9f3a"
             ],
             [
              0.8888888888888888,
              "#fdca26"
             ],
             [
              1,
              "#f0f921"
             ]
            ],
            "type": "surface"
           }
          ],
          "table": [
           {
            "cells": {
             "fill": {
              "color": "#EBF0F8"
             },
             "line": {
              "color": "white"
             }
            },
            "header": {
             "fill": {
              "color": "#C8D4E3"
             },
             "line": {
              "color": "white"
             }
            },
            "type": "table"
           }
          ]
         },
         "layout": {
          "annotationdefaults": {
           "arrowcolor": "#2a3f5f",
           "arrowhead": 0,
           "arrowwidth": 1
          },
          "autotypenumbers": "strict",
          "coloraxis": {
           "colorbar": {
            "outlinewidth": 0,
            "ticks": ""
           }
          },
          "colorscale": {
           "diverging": [
            [
             0,
             "#8e0152"
            ],
            [
             0.1,
             "#c51b7d"
            ],
            [
             0.2,
             "#de77ae"
            ],
            [
             0.3,
             "#f1b6da"
            ],
            [
             0.4,
             "#fde0ef"
            ],
            [
             0.5,
             "#f7f7f7"
            ],
            [
             0.6,
             "#e6f5d0"
            ],
            [
             0.7,
             "#b8e186"
            ],
            [
             0.8,
             "#7fbc41"
            ],
            [
             0.9,
             "#4d9221"
            ],
            [
             1,
             "#276419"
            ]
           ],
           "sequential": [
            [
             0,
             "#0d0887"
            ],
            [
             0.1111111111111111,
             "#46039f"
            ],
            [
             0.2222222222222222,
             "#7201a8"
            ],
            [
             0.3333333333333333,
             "#9c179e"
            ],
            [
             0.4444444444444444,
             "#bd3786"
            ],
            [
             0.5555555555555556,
             "#d8576b"
            ],
            [
             0.6666666666666666,
             "#ed7953"
            ],
            [
             0.7777777777777778,
             "#fb9f3a"
            ],
            [
             0.8888888888888888,
             "#fdca26"
            ],
            [
             1,
             "#f0f921"
            ]
           ],
           "sequentialminus": [
            [
             0,
             "#0d0887"
            ],
            [
             0.1111111111111111,
             "#46039f"
            ],
            [
             0.2222222222222222,
             "#7201a8"
            ],
            [
             0.3333333333333333,
             "#9c179e"
            ],
            [
             0.4444444444444444,
             "#bd3786"
            ],
            [
             0.5555555555555556,
             "#d8576b"
            ],
            [
             0.6666666666666666,
             "#ed7953"
            ],
            [
             0.7777777777777778,
             "#fb9f3a"
            ],
            [
             0.8888888888888888,
             "#fdca26"
            ],
            [
             1,
             "#f0f921"
            ]
           ]
          },
          "colorway": [
           "#636efa",
           "#EF553B",
           "#00cc96",
           "#ab63fa",
           "#FFA15A",
           "#19d3f3",
           "#FF6692",
           "#B6E880",
           "#FF97FF",
           "#FECB52"
          ],
          "font": {
           "color": "#2a3f5f"
          },
          "geo": {
           "bgcolor": "white",
           "lakecolor": "white",
           "landcolor": "#E5ECF6",
           "showlakes": true,
           "showland": true,
           "subunitcolor": "white"
          },
          "hoverlabel": {
           "align": "left"
          },
          "hovermode": "closest",
          "mapbox": {
           "style": "light"
          },
          "paper_bgcolor": "white",
          "plot_bgcolor": "#E5ECF6",
          "polar": {
           "angularaxis": {
            "gridcolor": "white",
            "linecolor": "white",
            "ticks": ""
           },
           "bgcolor": "#E5ECF6",
           "radialaxis": {
            "gridcolor": "white",
            "linecolor": "white",
            "ticks": ""
           }
          },
          "scene": {
           "xaxis": {
            "backgroundcolor": "#E5ECF6",
            "gridcolor": "white",
            "gridwidth": 2,
            "linecolor": "white",
            "showbackground": true,
            "ticks": "",
            "zerolinecolor": "white"
           },
           "yaxis": {
            "backgroundcolor": "#E5ECF6",
            "gridcolor": "white",
            "gridwidth": 2,
            "linecolor": "white",
            "showbackground": true,
            "ticks": "",
            "zerolinecolor": "white"
           },
           "zaxis": {
            "backgroundcolor": "#E5ECF6",
            "gridcolor": "white",
            "gridwidth": 2,
            "linecolor": "white",
            "showbackground": true,
            "ticks": "",
            "zerolinecolor": "white"
           }
          },
          "shapedefaults": {
           "line": {
            "color": "#2a3f5f"
           }
          },
          "ternary": {
           "aaxis": {
            "gridcolor": "white",
            "linecolor": "white",
            "ticks": ""
           },
           "baxis": {
            "gridcolor": "white",
            "linecolor": "white",
            "ticks": ""
           },
           "bgcolor": "#E5ECF6",
           "caxis": {
            "gridcolor": "white",
            "linecolor": "white",
            "ticks": ""
           }
          },
          "title": {
           "x": 0.05
          },
          "xaxis": {
           "automargin": true,
           "gridcolor": "white",
           "linecolor": "white",
           "ticks": "",
           "title": {
            "standoff": 15
           },
           "zerolinecolor": "white",
           "zerolinewidth": 2
          },
          "yaxis": {
           "automargin": true,
           "gridcolor": "white",
           "linecolor": "white",
           "ticks": "",
           "title": {
            "standoff": 15
           },
           "zerolinecolor": "white",
           "zerolinewidth": 2
          }
         }
        },
        "title": {
         "text": "Projected Population vs Literacy"
        },
        "xaxis": {
         "tickangle": 90,
         "ticklen": 5,
         "zeroline": false
        },
        "yaxis": {
         "title": {
          "text": "Projected Population"
         }
        },
        "yaxis2": {
         "overlaying": "y",
         "side": "right",
         "tickfont": {
          "color": "rgb(148, 103, 189)"
         },
         "title": {
          "font": {
           "color": "rgb(148, 103, 189)"
          },
          "text": "Overall Literacy"
         }
        }
       }
      },
      "text/html": [
       "<div>                            <div id=\"86b27300-4798-4359-a2d7-307098d6cf34\" class=\"plotly-graph-div\" style=\"height:525px; width:100%;\"></div>            <script type=\"text/javascript\">                require([\"plotly\"], function(Plotly) {                    window.PLOTLYENV=window.PLOTLYENV || {};                                    if (document.getElementById(\"86b27300-4798-4359-a2d7-307098d6cf34\")) {                    Plotly.newPlot(                        \"86b27300-4798-4359-a2d7-307098d6cf34\",                        [{\"mode\":\"lines+markers\",\"name\":\"Age Group 6 to 10\",\"text\":[\"JAMMU & KASHMIR\",\"HIMACHAL PRADESH\",\"PUNJAB\",\"CHANDIGARH\",\"UTTARAKHAND\",\"HARYANA\",\"DELHI\",\"RAJASTHAN\",\"UTTAR PRADESH\",\"BIHAR\",\"SIKKIM\",\"ARUNACHAL PRADESH\",\"NAGALAND\",\"MANIPUR\",\"MIZORAM\",\"TRIPURA\",\"MEGHALAYA\",\"ASSAM\",\"WEST BENGAL\",\"JHARKHAND\",\"ODISHA\",\"CHHATTISGARH\",\"MADHYA PRADESH\",\"GUJARAT\",\"DAMAN & DIU\",\"DADRA & NAGAR HAVELI\",\"MAHARASHTRA\",\"ANDHRA PRADESH\",\"KARNATAKA\",\"GOA\",\"LAKSHADWEEP\",\"KERALA\",\"TAMIL NADU\",\"PUDUCHERRY\",\"A & N ISLANDS\",\"TELANGANA\"],\"x\":[\"JAMMU & KASHMIR\",\"HIMACHAL PRADESH\",\"PUNJAB\",\"CHANDIGARH\",\"UTTARAKHAND\",\"HARYANA\",\"DELHI\",\"RAJASTHAN\",\"UTTAR PRADESH\",\"BIHAR\",\"SIKKIM\",\"ARUNACHAL PRADESH\",\"NAGALAND\",\"MANIPUR\",\"MIZORAM\",\"TRIPURA\",\"MEGHALAYA\",\"ASSAM\",\"WEST BENGAL\",\"JHARKHAND\",\"ODISHA\",\"CHHATTISGARH\",\"MADHYA PRADESH\",\"GUJARAT\",\"DAMAN & DIU\",\"DADRA & NAGAR HAVELI\",\"MAHARASHTRA\",\"ANDHRA PRADESH\",\"KARNATAKA\",\"GOA\",\"LAKSHADWEEP\",\"KERALA\",\"TAMIL NADU\",\"PUDUCHERRY\",\"A & N ISLANDS\",\"TELANGANA\"],\"y\":[1452682,588162,2447062,114473,1123220,2556187,1704499,8238091,27421871,15017838,59113,174523,239278,263906,118153,339817,388745,3506540,7843098,4077439,3963217,2792441,8585339,5808398,22119,43860,10258679,4198314,5249682,120687,5973,2586473,5534978,122695,35315,3151811],\"type\":\"scatter\"},{\"mode\":\"lines+markers\",\"name\":\"Age Group 11 to 13\",\"text\":[\"JAMMU & KASHMIR\",\"HIMACHAL PRADESH\",\"PUNJAB\",\"CHANDIGARH\",\"UTTARAKHAND\",\"HARYANA\",\"DELHI\",\"RAJASTHAN\",\"UTTAR PRADESH\",\"BIHAR\",\"SIKKIM\",\"ARUNACHAL PRADESH\",\"NAGALAND\",\"MANIPUR\",\"MIZORAM\",\"TRIPURA\",\"MEGHALAYA\",\"ASSAM\",\"WEST BENGAL\",\"JHARKHAND\",\"ODISHA\",\"CHHATTISGARH\",\"MADHYA PRADESH\",\"GUJARAT\",\"DAMAN & DIU\",\"DADRA & NAGAR HAVELI\",\"MAHARASHTRA\",\"ANDHRA PRADESH\",\"KARNATAKA\",\"GOA\",\"LAKSHADWEEP\",\"KERALA\",\"TAMIL NADU\",\"PUDUCHERRY\",\"A & N ISLANDS\",\"TELANGANA\"],\"x\":[\"JAMMU & KASHMIR\",\"HIMACHAL PRADESH\",\"PUNJAB\",\"CHANDIGARH\",\"UTTARAKHAND\",\"HARYANA\",\"DELHI\",\"RAJASTHAN\",\"UTTAR PRADESH\",\"BIHAR\",\"SIKKIM\",\"ARUNACHAL PRADESH\",\"NAGALAND\",\"MANIPUR\",\"MIZORAM\",\"TRIPURA\",\"MEGHALAYA\",\"ASSAM\",\"WEST BENGAL\",\"JHARKHAND\",\"ODISHA\",\"CHHATTISGARH\",\"MADHYA PRADESH\",\"GUJARAT\",\"DAMAN & DIU\",\"DADRA & NAGAR HAVELI\",\"MAHARASHTRA\",\"ANDHRA PRADESH\",\"KARNATAKA\",\"GOA\",\"LAKSHADWEEP\",\"KERALA\",\"TAMIL NADU\",\"PUDUCHERRY\",\"A & N ISLANDS\",\"TELANGANA\"],\"y\":[865656,354221,1498066,67721,687598,1509213,874236,4451853,14858172,6730614,29539,77791,109124,121088,51193,158355,167695,1838910,4549909,2013642,2351996,1626381,4989418,3596398,12424,25043,6063279,2538445,3142541,73445,3805,1618453,3706996,75174,22232,1966365],\"type\":\"scatter\"},{\"mode\":\"lines+markers\",\"name\":\"Overall Literacy\",\"text\":[\"JAMMU & KASHMIR\",\"HIMACHAL PRADESH\",\"PUNJAB\",\"CHANDIGARH\",\"UTTARAKHAND\",\"HARYANA\",\"DELHI\",\"RAJASTHAN\",\"UTTAR PRADESH\",\"BIHAR\",\"SIKKIM\",\"ARUNACHAL PRADESH\",\"NAGALAND\",\"MANIPUR\",\"MIZORAM\",\"TRIPURA\",\"MEGHALAYA\",\"ASSAM\",\"WEST BENGAL\",\"JHARKHAND\",\"ODISHA\",\"CHHATTISGARH\",\"MADHYA PRADESH\",\"GUJARAT\",\"DAMAN & DIU\",\"DADRA & NAGAR HAVELI\",\"MAHARASHTRA\",\"ANDHRA PRADESH\",\"KARNATAKA\",\"GOA\",\"LAKSHADWEEP\",\"KERALA\",\"TAMIL NADU\",\"PUDUCHERRY\",\"A & N ISLANDS\",\"TELANGANA\"],\"x\":[\"JAMMU & KASHMIR\",\"HIMACHAL PRADESH\",\"PUNJAB\",\"CHANDIGARH\",\"UTTARAKHAND\",\"HARYANA\",\"DELHI\",\"RAJASTHAN\",\"UTTAR PRADESH\",\"BIHAR\",\"SIKKIM\",\"ARUNACHAL PRADESH\",\"NAGALAND\",\"MANIPUR\",\"MIZORAM\",\"TRIPURA\",\"MEGHALAYA\",\"ASSAM\",\"WEST BENGAL\",\"JHARKHAND\",\"ODISHA\",\"CHHATTISGARH\",\"MADHYA PRADESH\",\"GUJARAT\",\"DAMAN & DIU\",\"DADRA & NAGAR HAVELI\",\"MAHARASHTRA\",\"ANDHRA PRADESH\",\"KARNATAKA\",\"GOA\",\"LAKSHADWEEP\",\"KERALA\",\"TAMIL NADU\",\"PUDUCHERRY\",\"A & N ISLANDS\",\"TELANGANA\"],\"y\":[68.74,83.78,76.68,86.43,79.63,76.64,86.34,67.06,69.72,63.82,82.2,66.95,80.11,79.85,91.58,87.75,75.48,73.18,77.08,67.63,73.45,71.04,70.63,79.31,87.07,77.65,82.91,67.66,75.6,87.4,92.28,93.91,80.3,86.55,86.27,66.46],\"yaxis\":\"y2\",\"type\":\"scatter\"}],                        {\"template\":{\"data\":{\"barpolar\":[{\"marker\":{\"line\":{\"color\":\"#E5ECF6\",\"width\":0.5},\"pattern\":{\"fillmode\":\"overlay\",\"size\":10,\"solidity\":0.2}},\"type\":\"barpolar\"}],\"bar\":[{\"error_x\":{\"color\":\"#2a3f5f\"},\"error_y\":{\"color\":\"#2a3f5f\"},\"marker\":{\"line\":{\"color\":\"#E5ECF6\",\"width\":0.5},\"pattern\":{\"fillmode\":\"overlay\",\"size\":10,\"solidity\":0.2}},\"type\":\"bar\"}],\"carpet\":[{\"aaxis\":{\"endlinecolor\":\"#2a3f5f\",\"gridcolor\":\"white\",\"linecolor\":\"white\",\"minorgridcolor\":\"white\",\"startlinecolor\":\"#2a3f5f\"},\"baxis\":{\"endlinecolor\":\"#2a3f5f\",\"gridcolor\":\"white\",\"linecolor\":\"white\",\"minorgridcolor\":\"white\",\"startlinecolor\":\"#2a3f5f\"},\"type\":\"carpet\"}],\"choropleth\":[{\"colorbar\":{\"outlinewidth\":0,\"ticks\":\"\"},\"type\":\"choropleth\"}],\"contourcarpet\":[{\"colorbar\":{\"outlinewidth\":0,\"ticks\":\"\"},\"type\":\"contourcarpet\"}],\"contour\":[{\"colorbar\":{\"outlinewidth\":0,\"ticks\":\"\"},\"colorscale\":[[0.0,\"#0d0887\"],[0.1111111111111111,\"#46039f\"],[0.2222222222222222,\"#7201a8\"],[0.3333333333333333,\"#9c179e\"],[0.4444444444444444,\"#bd3786\"],[0.5555555555555556,\"#d8576b\"],[0.6666666666666666,\"#ed7953\"],[0.7777777777777778,\"#fb9f3a\"],[0.8888888888888888,\"#fdca26\"],[1.0,\"#f0f921\"]],\"type\":\"contour\"}],\"heatmapgl\":[{\"colorbar\":{\"outlinewidth\":0,\"ticks\":\"\"},\"colorscale\":[[0.0,\"#0d0887\"],[0.1111111111111111,\"#46039f\"],[0.2222222222222222,\"#7201a8\"],[0.3333333333333333,\"#9c179e\"],[0.4444444444444444,\"#bd3786\"],[0.5555555555555556,\"#d8576b\"],[0.6666666666666666,\"#ed7953\"],[0.7777777777777778,\"#fb9f3a\"],[0.8888888888888888,\"#fdca26\"],[1.0,\"#f0f921\"]],\"type\":\"heatmapgl\"}],\"heatmap\":[{\"colorbar\":{\"outlinewidth\":0,\"ticks\":\"\"},\"colorscale\":[[0.0,\"#0d0887\"],[0.1111111111111111,\"#46039f\"],[0.2222222222222222,\"#7201a8\"],[0.3333333333333333,\"#9c179e\"],[0.4444444444444444,\"#bd3786\"],[0.5555555555555556,\"#d8576b\"],[0.6666666666666666,\"#ed7953\"],[0.7777777777777778,\"#fb9f3a\"],[0.8888888888888888,\"#fdca26\"],[1.0,\"#f0f921\"]],\"type\":\"heatmap\"}],\"histogram2dcontour\":[{\"colorbar\":{\"outlinewidth\":0,\"ticks\":\"\"},\"colorscale\":[[0.0,\"#0d0887\"],[0.1111111111111111,\"#46039f\"],[0.2222222222222222,\"#7201a8\"],[0.3333333333333333,\"#9c179e\"],[0.4444444444444444,\"#bd3786\"],[0.5555555555555556,\"#d8576b\"],[0.6666666666666666,\"#ed7953\"],[0.7777777777777778,\"#fb9f3a\"],[0.8888888888888888,\"#fdca26\"],[1.0,\"#f0f921\"]],\"type\":\"histogram2dcontour\"}],\"histogram2d\":[{\"colorbar\":{\"outlinewidth\":0,\"ticks\":\"\"},\"colorscale\":[[0.0,\"#0d0887\"],[0.1111111111111111,\"#46039f\"],[0.2222222222222222,\"#7201a8\"],[0.3333333333333333,\"#9c179e\"],[0.4444444444444444,\"#bd3786\"],[0.5555555555555556,\"#d8576b\"],[0.6666666666666666,\"#ed7953\"],[0.7777777777777778,\"#fb9f3a\"],[0.8888888888888888,\"#fdca26\"],[1.0,\"#f0f921\"]],\"type\":\"histogram2d\"}],\"histogram\":[{\"marker\":{\"pattern\":{\"fillmode\":\"overlay\",\"size\":10,\"solidity\":0.2}},\"type\":\"histogram\"}],\"mesh3d\":[{\"colorbar\":{\"outlinewidth\":0,\"ticks\":\"\"},\"type\":\"mesh3d\"}],\"parcoords\":[{\"line\":{\"colorbar\":{\"outlinewidth\":0,\"ticks\":\"\"}},\"type\":\"parcoords\"}],\"pie\":[{\"automargin\":true,\"type\":\"pie\"}],\"scatter3d\":[{\"line\":{\"colorbar\":{\"outlinewidth\":0,\"ticks\":\"\"}},\"marker\":{\"colorbar\":{\"outlinewidth\":0,\"ticks\":\"\"}},\"type\":\"scatter3d\"}],\"scattercarpet\":[{\"marker\":{\"colorbar\":{\"outlinewidth\":0,\"ticks\":\"\"}},\"type\":\"scattercarpet\"}],\"scattergeo\":[{\"marker\":{\"colorbar\":{\"outlinewidth\":0,\"ticks\":\"\"}},\"type\":\"scattergeo\"}],\"scattergl\":[{\"marker\":{\"colorbar\":{\"outlinewidth\":0,\"ticks\":\"\"}},\"type\":\"scattergl\"}],\"scattermapbox\":[{\"marker\":{\"colorbar\":{\"outlinewidth\":0,\"ticks\":\"\"}},\"type\":\"scattermapbox\"}],\"scatterpolargl\":[{\"marker\":{\"colorbar\":{\"outlinewidth\":0,\"ticks\":\"\"}},\"type\":\"scatterpolargl\"}],\"scatterpolar\":[{\"marker\":{\"colorbar\":{\"outlinewidth\":0,\"ticks\":\"\"}},\"type\":\"scatterpolar\"}],\"scatter\":[{\"fillpattern\":{\"fillmode\":\"overlay\",\"size\":10,\"solidity\":0.2},\"type\":\"scatter\"}],\"scatterternary\":[{\"marker\":{\"colorbar\":{\"outlinewidth\":0,\"ticks\":\"\"}},\"type\":\"scatterternary\"}],\"surface\":[{\"colorbar\":{\"outlinewidth\":0,\"ticks\":\"\"},\"colorscale\":[[0.0,\"#0d0887\"],[0.1111111111111111,\"#46039f\"],[0.2222222222222222,\"#7201a8\"],[0.3333333333333333,\"#9c179e\"],[0.4444444444444444,\"#bd3786\"],[0.5555555555555556,\"#d8576b\"],[0.6666666666666666,\"#ed7953\"],[0.7777777777777778,\"#fb9f3a\"],[0.8888888888888888,\"#fdca26\"],[1.0,\"#f0f921\"]],\"type\":\"surface\"}],\"table\":[{\"cells\":{\"fill\":{\"color\":\"#EBF0F8\"},\"line\":{\"color\":\"white\"}},\"header\":{\"fill\":{\"color\":\"#C8D4E3\"},\"line\":{\"color\":\"white\"}},\"type\":\"table\"}]},\"layout\":{\"annotationdefaults\":{\"arrowcolor\":\"#2a3f5f\",\"arrowhead\":0,\"arrowwidth\":1},\"autotypenumbers\":\"strict\",\"coloraxis\":{\"colorbar\":{\"outlinewidth\":0,\"ticks\":\"\"}},\"colorscale\":{\"diverging\":[[0,\"#8e0152\"],[0.1,\"#c51b7d\"],[0.2,\"#de77ae\"],[0.3,\"#f1b6da\"],[0.4,\"#fde0ef\"],[0.5,\"#f7f7f7\"],[0.6,\"#e6f5d0\"],[0.7,\"#b8e186\"],[0.8,\"#7fbc41\"],[0.9,\"#4d9221\"],[1,\"#276419\"]],\"sequential\":[[0.0,\"#0d0887\"],[0.1111111111111111,\"#46039f\"],[0.2222222222222222,\"#7201a8\"],[0.3333333333333333,\"#9c179e\"],[0.4444444444444444,\"#bd3786\"],[0.5555555555555556,\"#d8576b\"],[0.6666666666666666,\"#ed7953\"],[0.7777777777777778,\"#fb9f3a\"],[0.8888888888888888,\"#fdca26\"],[1.0,\"#f0f921\"]],\"sequentialminus\":[[0.0,\"#0d0887\"],[0.1111111111111111,\"#46039f\"],[0.2222222222222222,\"#7201a8\"],[0.3333333333333333,\"#9c179e\"],[0.4444444444444444,\"#bd3786\"],[0.5555555555555556,\"#d8576b\"],[0.6666666666666666,\"#ed7953\"],[0.7777777777777778,\"#fb9f3a\"],[0.8888888888888888,\"#fdca26\"],[1.0,\"#f0f921\"]]},\"colorway\":[\"#636efa\",\"#EF553B\",\"#00cc96\",\"#ab63fa\",\"#FFA15A\",\"#19d3f3\",\"#FF6692\",\"#B6E880\",\"#FF97FF\",\"#FECB52\"],\"font\":{\"color\":\"#2a3f5f\"},\"geo\":{\"bgcolor\":\"white\",\"lakecolor\":\"white\",\"landcolor\":\"#E5ECF6\",\"showlakes\":true,\"showland\":true,\"subunitcolor\":\"white\"},\"hoverlabel\":{\"align\":\"left\"},\"hovermode\":\"closest\",\"mapbox\":{\"style\":\"light\"},\"paper_bgcolor\":\"white\",\"plot_bgcolor\":\"#E5ECF6\",\"polar\":{\"angularaxis\":{\"gridcolor\":\"white\",\"linecolor\":\"white\",\"ticks\":\"\"},\"bgcolor\":\"#E5ECF6\",\"radialaxis\":{\"gridcolor\":\"white\",\"linecolor\":\"white\",\"ticks\":\"\"}},\"scene\":{\"xaxis\":{\"backgroundcolor\":\"#E5ECF6\",\"gridcolor\":\"white\",\"gridwidth\":2,\"linecolor\":\"white\",\"showbackground\":true,\"ticks\":\"\",\"zerolinecolor\":\"white\"},\"yaxis\":{\"backgroundcolor\":\"#E5ECF6\",\"gridcolor\":\"white\",\"gridwidth\":2,\"linecolor\":\"white\",\"showbackground\":true,\"ticks\":\"\",\"zerolinecolor\":\"white\"},\"zaxis\":{\"backgroundcolor\":\"#E5ECF6\",\"gridcolor\":\"white\",\"gridwidth\":2,\"linecolor\":\"white\",\"showbackground\":true,\"ticks\":\"\",\"zerolinecolor\":\"white\"}},\"shapedefaults\":{\"line\":{\"color\":\"#2a3f5f\"}},\"ternary\":{\"aaxis\":{\"gridcolor\":\"white\",\"linecolor\":\"white\",\"ticks\":\"\"},\"baxis\":{\"gridcolor\":\"white\",\"linecolor\":\"white\",\"ticks\":\"\"},\"bgcolor\":\"#E5ECF6\",\"caxis\":{\"gridcolor\":\"white\",\"linecolor\":\"white\",\"ticks\":\"\"}},\"title\":{\"x\":0.05},\"xaxis\":{\"automargin\":true,\"gridcolor\":\"white\",\"linecolor\":\"white\",\"ticks\":\"\",\"title\":{\"standoff\":15},\"zerolinecolor\":\"white\",\"zerolinewidth\":2},\"yaxis\":{\"automargin\":true,\"gridcolor\":\"white\",\"linecolor\":\"white\",\"ticks\":\"\",\"title\":{\"standoff\":15},\"zerolinecolor\":\"white\",\"zerolinewidth\":2}}},\"title\":{\"text\":\"Projected Population vs Literacy\"},\"xaxis\":{\"tickangle\":90,\"ticklen\":5,\"zeroline\":false},\"yaxis\":{\"title\":{\"text\":\"Projected Population\"}},\"yaxis2\":{\"overlaying\":\"y\",\"side\":\"right\",\"tickfont\":{\"color\":\"rgb(148, 103, 189)\"},\"title\":{\"font\":{\"color\":\"rgb(148, 103, 189)\"},\"text\":\"Overall Literacy\"}}},                        {\"responsive\": true}                    ).then(function(){\n",
       "                            \n",
       "var gd = document.getElementById('86b27300-4798-4359-a2d7-307098d6cf34');\n",
       "var x = new MutationObserver(function (mutations, observer) {{\n",
       "        var display = window.getComputedStyle(gd).display;\n",
       "        if (!display || display === 'none') {{\n",
       "            console.log([gd, 'removed!']);\n",
       "            Plotly.purge(gd);\n",
       "            observer.disconnect();\n",
       "        }}\n",
       "}});\n",
       "\n",
       "// Listen for the removal of the full notebook cells\n",
       "var notebookContainer = gd.closest('#notebook-container');\n",
       "if (notebookContainer) {{\n",
       "    x.observe(notebookContainer, {childList: true});\n",
       "}}\n",
       "\n",
       "// Listen for the clearing of the current output cell\n",
       "var outputEl = gd.closest('.output');\n",
       "if (outputEl) {{\n",
       "    x.observe(outputEl, {childList: true});\n",
       "}}\n",
       "\n",
       "                        })                };                });            </script>        </div>"
      ]
     },
     "metadata": {},
     "output_type": "display_data"
    }
   ],
   "source": [
    "# Creating trace1\n",
    "trace1 = go.Scatter(\n",
    "                    x = df_ele.STATNAME,\n",
    "                    y = df_ele.TOT_6_10_15,\n",
    "                    mode = \"lines+markers\",\n",
    "                    name = \"Age Group 6 to 10\",\n",
    "                    text= df_ele.STATNAME)\n",
    "trace2 = go.Scatter(\n",
    "                    x = df_ele.STATNAME,\n",
    "                    y = df_ele.TOT_11_13_15,\n",
    "                    mode = \"lines+markers\",\n",
    "                    name = \"Age Group 11 to 13\",\n",
    "                    text= df_ele.STATNAME\n",
    "                    )\n",
    "trace3 = go.Scatter(\n",
    "                    x = df_ele.STATNAME,\n",
    "                    y = df_ele.OVERALL_LI,\n",
    "                    mode = \"lines+markers\",\n",
    "                    name = \"Overall Literacy\",\n",
    "                    text= df_ele.STATNAME,\n",
    "                    yaxis='y2')\n",
    "data = [trace1, trace2, trace3]\n",
    "layout = dict(title = 'Projected Population vs Literacy',\n",
    "              xaxis= dict(\n",
    "                  ticklen= 5,\n",
    "                  tickangle=90,\n",
    "                  zeroline= False),\n",
    "                  \n",
    "              yaxis=dict(\n",
    "                    title='Projected Population'\n",
    "                ),\n",
    "              yaxis2=dict(\n",
    "              title='Overall Literacy',\n",
    "              titlefont=dict(\n",
    "               color='rgb(148, 103, 189)'\n",
    "              ),\n",
    "              tickfont=dict(\n",
    "              color='rgb(148, 103, 189)'\n",
    "           ),\n",
    "             overlaying='y',\n",
    "             side='right'\n",
    "         )\n",
    "       )\n",
    "\n",
    "fig = dict(data = data, layout = layout)\n",
    "iplot(fig)"
   ]
  },
  {
   "cell_type": "code",
   "execution_count": null,
   "metadata": {},
   "outputs": [],
   "source": []
  }
 ],
 "metadata": {
  "kernelspec": {
   "display_name": "Python 3",
   "language": "python",
   "name": "python3"
  },
  "language_info": {
   "codemirror_mode": {
    "name": "ipython",
    "version": 3
   },
   "file_extension": ".py",
   "mimetype": "text/x-python",
   "name": "python",
   "nbconvert_exporter": "python",
   "pygments_lexer": "ipython3",
   "version": "3.8.5"
  }
 },
 "nbformat": 4,
 "nbformat_minor": 4
}
